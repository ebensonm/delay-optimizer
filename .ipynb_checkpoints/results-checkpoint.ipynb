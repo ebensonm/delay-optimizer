{
 "cells": [
  {
   "cell_type": "markdown",
   "metadata": {},
   "source": [
    "# Results "
   ]
  },
  {
   "cell_type": "code",
   "execution_count": 44,
   "metadata": {},
   "outputs": [],
   "source": [
    "import numpy as np\n",
    "import dill\n",
    "from Optimizer_Scripts.functions import ackley_gen, rastrigin_gen, ackley_deriv_gen, rast_deriv_gen\n",
    "from Optimizer_Scripts.optimizers import Adam, Momentum, NesterovMomentum\n",
    "from Optimizer_Scripts.Delayer import Delayer\n",
    "import os\n",
    "import re\n",
    "import matplotlib.pyplot as plt"
   ]
  },
  {
   "cell_type": "code",
   "execution_count": 45,
   "metadata": {},
   "outputs": [],
   "source": [
    "maxiter=5000\n",
    "tol=1e-5"
   ]
  },
  {
   "cell_type": "code",
   "execution_count": 46,
   "metadata": {},
   "outputs": [],
   "source": [
    "del_dir = '../results/delays'\n",
    "un_dir = '../results/undelays'\n",
    "rast_del_sym = list()\n",
    "ack_del_sym = list()\n",
    "rast_del_unsym = list()\n",
    "ack_del_unsym = list()\n",
    "rast_undel = list()\n",
    "ack_undel = list()"
   ]
  },
  {
   "cell_type": "code",
   "execution_count": 47,
   "metadata": {},
   "outputs": [
    {
     "name": "stdout",
     "output_type": "stream",
     "text": [
      "file did not match\n",
      "tests_Adam_100_Ackley.pkl\n",
      "file did not match\n",
      "tests_Adam_100_Rastrigin.pkl\n",
      "file did not match\n",
      "tests_Adam_100_Ackley.pkl\n",
      "file did not match\n",
      "tests_Adam_100_Rastrigin.pkl\n"
     ]
    }
   ],
   "source": [
    "#get the undelayed tests\n",
    "for filename in os.listdir(del_dir):\n",
    "    delay_object = dill.load( open(del_dir+\"/\"+filename, \"rb\" ) ) \n",
    "    if re.match(r\"^test_.*_Rastrigin\", filename):\n",
    "        rast_del_sym.append(delay_object)\n",
    "    elif re.match(r\"^test_.*_Ackley\", filename):\n",
    "        ack_del_sym.append(delay_object)\n",
    "    elif re.match(r\"^nonsym_test_.*_Rastrigin\", filename):\n",
    "        rast_del_unsym.append(delay_object)\n",
    "    elif re.match(r\"^nonsym_test_.*_Ackley\", filename):\n",
    "        ack_del_unsym.append(delay_object)\n",
    "    else:\n",
    "        print(\"file did not match\")\n",
    "        print(filename)\n",
    "#get the undelayed tests        \n",
    "for filename in os.listdir(un_dir):\n",
    "    delay_object = dill.load( open(un_dir+\"/\"+filename, \"rb\" ) )\n",
    "    if re.match(r\"^test_.*_Ackley\", filename):\n",
    "        rast_undel.append(delay_object)\n",
    "    elif re.match(r\"^test_.*_Rastrigin\", filename):\n",
    "        ack_undel.append(delay_object)\n",
    "    else:\n",
    "        print(\"file did not match\") \n",
    "        print(filename)"
   ]
  },
  {
   "cell_type": "markdown",
   "metadata": {},
   "source": [
    "## The tests for all three hyperparameters"
   ]
  },
  {
   "cell_type": "markdown",
   "metadata": {},
   "source": [
    "### The delayed symmetric ackley tests"
   ]
  },
  {
   "cell_type": "code",
   "execution_count": 53,
   "metadata": {},
   "outputs": [
    {
     "name": "stdout",
     "output_type": "stream",
     "text": [
      "{'beta_1': 0.9999467648062612, 'beta_2': 0.9073048928554825, 'learning_rate': 0.8149868488075063}\n",
      "{'beta_1': 0.999771673857769, 'beta_2': 0.959585005770835, 'learning_rate': 1.2237755996225368}\n",
      "{'beta_1': 0.8912416462692324, 'beta_2': 0.8735926357310172, 'learning_rate': 0.9080157588577502}\n"
     ]
    },
    {
     "data": {
      "text/plain": [
       "<Figure size 432x288 with 0 Axes>"
      ]
     },
     "metadata": {},
     "output_type": "display_data"
    }
   ],
   "source": [
    "for i in ack_del_sym:\n",
    "    print(i.Optimizer.params)\n",
    "    plt.clf()\n",
    "    for j in range(10):\n",
    "        i.compute_time_series(use_delays=True, maxiter=maxiter, tol=tol, symmetric_delays=True, random=True)\n",
    "        "
   ]
  },
  {
   "cell_type": "markdown",
   "metadata": {},
   "source": [
    "### The delayed nonsymmetric ackley tests"
   ]
  },
  {
   "cell_type": "code",
   "execution_count": 54,
   "metadata": {},
   "outputs": [
    {
     "name": "stdout",
     "output_type": "stream",
     "text": [
      "{'beta_1': 0.8734440250776297, 'beta_2': 0.9593328537185867, 'learning_rate': 0.7789299857461234}\n",
      "{'beta_1': 0.8914623600540073, 'beta_2': 0.8982909124717192, 'learning_rate': 1.0991477318277696}\n"
     ]
    },
    {
     "data": {
      "text/plain": [
       "<Figure size 432x288 with 0 Axes>"
      ]
     },
     "metadata": {},
     "output_type": "display_data"
    }
   ],
   "source": [
    "for i in ack_del_unsym:\n",
    "    print(i.Optimizer.params)\n",
    "    plt.clf()\n",
    "    for j in range(10):\n",
    "        i.compute_time_series(use_delays=True, maxiter=maxiter, tol=tol, symmetric_delays=True, random=True)"
   ]
  },
  {
   "cell_type": "markdown",
   "metadata": {},
   "source": [
    "### The undelayed ackley tests"
   ]
  },
  {
   "cell_type": "code",
   "execution_count": 64,
   "metadata": {},
   "outputs": [
    {
     "name": "stdout",
     "output_type": "stream",
     "text": [
      "{'beta_1': 0.9069774077151224, 'beta_2': 0.8239904341457863, 'learning_rate': 0.41526729525024214}\n",
      "[[-3.54137249  2.45810889 -2.42365424 ...  4.29941628 -5.0594882\n",
      "   1.46356376]\n",
      " [-3.95663978  2.0428416  -2.00838695 ...  3.88414898 -4.6442209\n",
      "   1.04829647]\n",
      " [-4.37198429  1.62737893 -1.6543294  ...  3.76777217 -4.70395231\n",
      "   0.63680262]\n",
      " ...\n",
      " [-3.97003915  1.9808852  -2.00898421 ...  3.97059766 -4.99402282\n",
      "   0.9862403 ]\n",
      " [-3.97039933  2.00898421 -1.97988321 ...  3.99883906 -4.96752856\n",
      "   1.01403558]\n",
      " [-3.99881459  1.97988321 -1.9808852  ...  3.96984375 -4.96194041\n",
      "   0.98466981]]\n"
     ]
    },
    {
     "ename": "TypeError",
     "evalue": "object of type 'numpy.float64' has no len()",
     "output_type": "error",
     "traceback": [
      "\u001b[0;31m---------------------------------------------------------------------------\u001b[0m",
      "\u001b[0;31mTypeError\u001b[0m                                 Traceback (most recent call last)",
      "\u001b[0;32m<ipython-input-64-3e700087f4f9>\u001b[0m in \u001b[0;36m<module>\u001b[0;34m\u001b[0m\n\u001b[1;32m      6\u001b[0m         \u001b[0mx_vals\u001b[0m \u001b[0;34m=\u001b[0m \u001b[0mi\u001b[0m\u001b[0;34m.\u001b[0m\u001b[0mloss_function\u001b[0m\u001b[0;34m(\u001b[0m\u001b[0mi\u001b[0m\u001b[0;34m.\u001b[0m\u001b[0mtime_series\u001b[0m\u001b[0;34m)\u001b[0m\u001b[0;34m\u001b[0m\u001b[0;34m\u001b[0m\u001b[0m\n\u001b[1;32m      7\u001b[0m         \u001b[0mprint\u001b[0m\u001b[0;34m(\u001b[0m\u001b[0mi\u001b[0m\u001b[0;34m.\u001b[0m\u001b[0mtime_series\u001b[0m\u001b[0;34m)\u001b[0m\u001b[0;34m\u001b[0m\u001b[0;34m\u001b[0m\u001b[0m\n\u001b[0;32m----> 8\u001b[0;31m         \u001b[0mys\u001b[0m \u001b[0;34m=\u001b[0m \u001b[0mnp\u001b[0m\u001b[0;34m.\u001b[0m\u001b[0marange\u001b[0m\u001b[0;34m(\u001b[0m\u001b[0;36m0\u001b[0m\u001b[0;34m,\u001b[0m \u001b[0mlen\u001b[0m\u001b[0;34m(\u001b[0m\u001b[0mx_vals\u001b[0m\u001b[0;34m)\u001b[0m\u001b[0;34m,\u001b[0m\u001b[0;36m1\u001b[0m\u001b[0;34m)\u001b[0m\u001b[0;34m\u001b[0m\u001b[0;34m\u001b[0m\u001b[0m\n\u001b[0m\u001b[1;32m      9\u001b[0m         \u001b[0mplt\u001b[0m\u001b[0;34m.\u001b[0m\u001b[0mplot\u001b[0m\u001b[0;34m(\u001b[0m\u001b[0mx_vals\u001b[0m\u001b[0;34m,\u001b[0m\u001b[0mys\u001b[0m\u001b[0;34m,\u001b[0m\u001b[0mlabel\u001b[0m\u001b[0;34m=\u001b[0m\u001b[0;34m\"n = {}\"\u001b[0m\u001b[0;34m.\u001b[0m\u001b[0mformat\u001b[0m\u001b[0;34m(\u001b[0m\u001b[0mi\u001b[0m\u001b[0;34m.\u001b[0m\u001b[0mn\u001b[0m\u001b[0;34m)\u001b[0m\u001b[0;34m)\u001b[0m\u001b[0;34m\u001b[0m\u001b[0;34m\u001b[0m\u001b[0m\n\u001b[1;32m     10\u001b[0m     \u001b[0mplt\u001b[0m\u001b[0;34m.\u001b[0m\u001b[0mshow\u001b[0m\u001b[0;34m(\u001b[0m\u001b[0;34m)\u001b[0m\u001b[0;34m\u001b[0m\u001b[0;34m\u001b[0m\u001b[0m\n",
      "\u001b[0;31mTypeError\u001b[0m: object of type 'numpy.float64' has no len()"
     ]
    },
    {
     "data": {
      "text/plain": [
       "<Figure size 432x288 with 0 Axes>"
      ]
     },
     "metadata": {},
     "output_type": "display_data"
    }
   ],
   "source": [
    "for i in ack_undel:\n",
    "    print(i.Optimizer.params)\n",
    "    plt.clf()\n",
    "    for j in range(10):\n",
    "        i.compute_time_series(use_delays=False, maxiter=maxiter, tol=tol, symmetric_delays=True, random=True)\n",
    "        x_vals = i.loss_function(i.time_series)\n",
    "        i.delete_time_series()\n",
    "        ys = np.arange(0, len(x_vals),1)\n",
    "        plt.plot(x_vals,ys,label=\"n = {}\".format(i.n))\n",
    "    plt.show()"
   ]
  },
  {
   "cell_type": "markdown",
   "metadata": {},
   "source": [
    "### The delayed symmetric rastrigin tests"
   ]
  },
  {
   "cell_type": "code",
   "execution_count": 56,
   "metadata": {},
   "outputs": [
    {
     "name": "stdout",
     "output_type": "stream",
     "text": [
      "{'beta_1': 0.9428898904429064, 'beta_2': 0.9990203026303265, 'learning_rate': 1.2204252811023637}\n",
      "{'beta_1': 0.982953771891439, 'beta_2': 0.9658645498647427, 'learning_rate': 1.1439461038605454}\n",
      "{'beta_1': 0.9498474967549111, 'beta_2': 0.9942654990996465, 'learning_rate': 0.8375092357888649}\n",
      "{'beta_1': 0.886789435787596, 'beta_2': 0.9826891375211775, 'learning_rate': 0.9452149651399628}\n",
      "{'beta_1': 0.8032060995892406, 'beta_2': 0.9200224486166888, 'learning_rate': 1.073226186506793}\n",
      "{'beta_1': 0.8423512899795214, 'beta_2': 0.8000862226329357, 'learning_rate': 0.36674943416642886}\n"
     ]
    },
    {
     "data": {
      "text/plain": [
       "<Figure size 432x288 with 0 Axes>"
      ]
     },
     "metadata": {},
     "output_type": "display_data"
    }
   ],
   "source": [
    "for i in rast_del_sym:\n",
    "    print(i.Optimizer.params)\n",
    "    plt.clf()\n",
    "    for j in range(10):\n",
    "        i.compute_time_series(use_delays=True, maxiter=maxiter, tol=tol, symmetric_delays=True, random=True)"
   ]
  },
  {
   "cell_type": "markdown",
   "metadata": {},
   "source": [
    "### The delayed nonsymmetric rastrigin tests"
   ]
  },
  {
   "cell_type": "code",
   "execution_count": 58,
   "metadata": {},
   "outputs": [
    {
     "name": "stdout",
     "output_type": "stream",
     "text": [
      "{'beta_1': 0.9045506639903279, 'beta_2': 0.8025798861541146, 'learning_rate': 0.945972047549867}\n",
      "{'beta_1': 0.8597260216990753, 'beta_2': 0.9970720621820414, 'learning_rate': 0.6685415964990509}\n",
      "{'beta_1': 0.9856817297467448, 'beta_2': 0.8226164595252613, 'learning_rate': 1.093878759573935}\n",
      "{'beta_1': 0.8923064415137802, 'beta_2': 0.8611579342175518, 'learning_rate': 0.08283916922752367}\n"
     ]
    },
    {
     "data": {
      "text/plain": [
       "<Figure size 432x288 with 0 Axes>"
      ]
     },
     "metadata": {},
     "output_type": "display_data"
    }
   ],
   "source": [
    "for i in rast_del_unsym:\n",
    "    print(i.Optimizer.params)\n",
    "    plt.clf()\n",
    "    for j in range(10):\n",
    "        i.compute_time_series(use_delays=True, maxiter=maxiter, tol=tol, symmetric_delays=True, random=True)"
   ]
  },
  {
   "cell_type": "markdown",
   "metadata": {},
   "source": [
    "### The undelayed rastrigin tests"
   ]
  },
  {
   "cell_type": "code",
   "execution_count": 59,
   "metadata": {},
   "outputs": [
    {
     "name": "stdout",
     "output_type": "stream",
     "text": [
      "{'beta_1': 0.8492714854082505, 'beta_2': 0.8916227997008904, 'learning_rate': 0.5823561790819594}\n",
      "{'beta_1': 0.8196431174432115, 'beta_2': 0.9294896290010842, 'learning_rate': 0.0008305262212368947}\n",
      "{'beta_1': 0.8588934569071991, 'beta_2': 0.9086942888819117, 'learning_rate': 0.6059571601677237}\n"
     ]
    },
    {
     "data": {
      "text/plain": [
       "<Figure size 432x288 with 0 Axes>"
      ]
     },
     "metadata": {},
     "output_type": "display_data"
    }
   ],
   "source": [
    "for i in rast_undel:\n",
    "    print(i.Optimizer.params)\n",
    "    plt.clf()\n",
    "    for j in range(10):\n",
    "        i.compute_time_series(use_delays=True, maxiter=maxiter, tol=tol, symmetric_delays=True, random=True)"
   ]
  },
  {
   "cell_type": "markdown",
   "metadata": {},
   "source": [
    "## Tests for single parameter optimization"
   ]
  },
  {
   "cell_type": "code",
   "execution_count": null,
   "metadata": {},
   "outputs": [],
   "source": []
  }
 ],
 "metadata": {
  "kernelspec": {
   "display_name": "Python 3",
   "language": "python",
   "name": "python3"
  },
  "language_info": {
   "codemirror_mode": {
    "name": "ipython",
    "version": 3
   },
   "file_extension": ".py",
   "mimetype": "text/x-python",
   "name": "python",
   "nbconvert_exporter": "python",
   "pygments_lexer": "ipython3",
   "version": "3.8.3"
  }
 },
 "nbformat": 4,
 "nbformat_minor": 4
}
