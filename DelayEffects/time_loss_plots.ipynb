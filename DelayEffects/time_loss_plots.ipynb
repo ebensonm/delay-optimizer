{
 "cells": [
  {
   "cell_type": "code",
   "execution_count": 1,
   "id": "3d772012",
   "metadata": {},
   "outputs": [],
   "source": [
    "import numpy as np\n",
    "import sys\n",
    "#sys.path.append('/home/yungdankblast/Desktop/Research/delay-optimizer')\n",
    "sys.path.append('/home/cayjobla/Desktop/Research/delay-optimizer')\n",
    "from DelayEffects.Analyzer_new import FuncOpt\n",
    "from matplotlib import pyplot as plt\n",
    "import matplotlib.animation as animation\n",
    "import matplotlib as mpl\n",
    "from matplotlib.lines import Line2D\n",
    "from Optimizer_Scripts.DelayTypeGenerators import *"
   ]
  },
  {
   "cell_type": "markdown",
   "id": "ab057851",
   "metadata": {},
   "source": [
    "# <center> Time-Loss Plots"
   ]
  },
  {
   "cell_type": "code",
   "execution_count": 2,
   "id": "c0802809",
   "metadata": {},
   "outputs": [],
   "source": [
    "# Initialize\n",
    "dimensions = [2, 10, 100, 1000]\n",
    "ack = {d:FuncOpt('Ackley', d) for d in dimensions}\n",
    "rast = {d:FuncOpt('Rastrigin', d) for d in dimensions}\n",
    "rosen = {d:FuncOpt('Rosenbrock', d) for d in dimensions}\n",
    "zak = {d:FuncOpt('Zakharov', d) for d in dimensions}"
   ]
  },
  {
   "cell_type": "markdown",
   "id": "a98086e7",
   "metadata": {},
   "source": [
    "## Helper Functions"
   ]
  },
  {
   "cell_type": "code",
   "execution_count": 3,
   "id": "1f1da29c",
   "metadata": {},
   "outputs": [],
   "source": [
    "def load_vals(func_dict, file_tags):\n",
    "    if type(file_tags) == str:\n",
    "        file_tags = {d:file_tags for d in dimensions}\n",
    "    loss_name = func_dict[dimensions[0]].loss_name\n",
    "    filenames = {d:f'Data/{loss_name}{d}d_{file_tags[d]}.npz' for d in dimensions}\n",
    "    for d, func_obj in func_dict.items():\n",
    "        func_obj.load(filenames[d])          # Load data into object\n",
    "        \n",
    "def unload(func_dict):\n",
    "    for d, func_obj in func_dict.items():\n",
    "        func_obj.reset()"
   ]
  },
  {
   "cell_type": "code",
   "execution_count": null,
   "id": "d9ae3598",
   "metadata": {},
   "outputs": [],
   "source": [
    "def init_time_loss_axes(axes=None):\n",
    "    if axes is None:\n",
    "        fig, axes = plt.subplots(2, 2, figsize=(15,10), dpi=400)\n",
    "    return plt.gcf(), axes.ravel()\n",
    "\n",
    "def format_plot(axes, line_objs, labels, xlabel, ylabel, ylim=None, logscale=False, **kwargs):\n",
    "    for ax in axes.ravel():\n",
    "        ax.legend(line_objs, labels, **kwargs)\n",
    "        ax.set_xlabel(xlabel, fontsize=12)\n",
    "        ax.set_ylabel(ylabel, fontsize=12)\n",
    "        if ylim is not None:\n",
    "            ax.set_ylim(ylim)\n",
    "        if logscale is True:\n",
    "            ax.set_yscale('log')\n",
    "\n",
    "def plot_time_loss(func_dict, axes=None, logscale=False, alpha=1/255, **kwargs):\n",
    "    fig, axes = init_time_loss_axes(axes)\n",
    "    for i, (n, func_obj) in enumerate(func_dict.items()):\n",
    "        loss_arr = func_obj.get_loss_array()\n",
    "        for j in range(len(func_obj.x_inits)):               # Plot\n",
    "            axes[i].plot(np.arange(func_obj.maxiter+1), loss_arr[j], alpha=alpha, **kwargs)\n",
    "        \n",
    "        axes[i].set_xlim([0, func_obj.maxiter])\n",
    "        axes[i].set_title(f\"{func_obj.loss_name} {n}d\", fontsize=16)\n",
    "            \n",
    "    return axes\n",
    "\n",
    "def plot_mean_time_loss(func_dict, axes=None, **kwargs):\n",
    "    fig, axes = init_time_loss_axes(axes)\n",
    "    for i, (n, func_obj) in enumerate(func_dict.items()):\n",
    "        loss_arr = func_obj.get_loss_array()\n",
    "        axes[i].plot(np.arange(func_obj.maxiter+1), np.mean(loss_arr, axis=0), **kwargs)\n",
    "        \n",
    "    return axes\n",
    "\n",
    "def quick_plot_time_loss(func_dict, param_type, delay_list):\n",
    "    # Init\n",
    "    axes = None\n",
    "    colors = ['b', 'r']\n",
    "    mean_colors = ['navy', 'darkred']\n",
    "    label_lines = [Line2D([0], [0], c=colors[0]), Line2D([0], [0], lw=2, c=mean_colors[0]),\n",
    "                   Line2D([0], [0], c=colors[1]), Line2D([0], [0], lw=2, c=mean_colors[1])]\n",
    "\n",
    "    for k, delay_type in enumerate(delay_list):\n",
    "        load_vals(func_dict, delay_type.name, param_type)\n",
    "        print([func_dict[d].lr_params for d in dimensions])\n",
    "        axes = plot_time_loss(func_dict, logscale=False, axes=axes, c=colors[k])\n",
    "        axes = plot_mean_time_loss(func_dict, axes=axes, c=mean_colors[k])\n",
    "\n",
    "    for i, ax in enumerate(axes):\n",
    "        ax.legend(label_lines, [\"Undelayed\", \"Mean Undelayed\", \"Delayed\", \"Mean Delayed\"], loc='lower left')\n",
    "        ax.set_xlabel(\"Step\", fontsize=12)\n",
    "        ax.set_ylabel(\"Loss\", fontsize=12)\n",
    "        ax.set_ylim([0, 22])\n",
    "\n",
    "    plt.show()"
   ]
  },
  {
   "cell_type": "code",
   "execution_count": null,
   "id": "2b7e0736",
   "metadata": {},
   "outputs": [],
   "source": [
    "def calc_plot(func_dict, param_type, delay_list):\n",
    "    axes = None\n",
    "    colors = ['b', 'r']\n",
    "    mean_colors = ['navy', 'darkred']\n",
    "    label_lines = [Line2D([0], [0], c=colors[0]), Line2D([0], [0], lw=2, c=mean_colors[0]),\n",
    "                   Line2D([0], [0], c=colors[1]), Line2D([0], [0], lw=2, c=mean_colors[1])]\n",
    "\n",
    "    for k, delay_type in enumerate(delay_list):\n",
    "        for d, func_obj in func_dict.items():\n",
    "            func_obj.initialize_points('random', 50)\n",
    "            func_obj.optimize(delay_type, param_type=param_type, const_lr=False)\n",
    "            print(func_obj.lr_params)\n",
    "        axes = plot_time_loss(func_dict, logscale=False, axes=axes, c=colors[k])\n",
    "        axes = plot_mean_time_loss(func_dict, axes=axes, c=mean_colors[k])\n",
    "\n",
    "    for i, ax in enumerate(axes):\n",
    "        ax.legend(label_lines, [\"Undelayed\", \"Mean Undelayed\", \"Delayed\", \"Mean Delayed\"], loc='lower left')\n",
    "        ax.set_xlabel(\"Step\", fontsize=16)\n",
    "        ax.set_ylabel(\"Loss\", fontsize=16)\n",
    "        ax.set_ylim([0, 22])\n",
    "    \n",
    "    plt.savefig(\"Plots/ack_optimal_time_loss.png\")\n",
    "    plt.show()"
   ]
  },
  {
   "cell_type": "markdown",
   "id": "fcd7f305",
   "metadata": {},
   "source": [
    "## Ackley"
   ]
  },
  {
   "cell_type": "code",
   "execution_count": null,
   "id": "2dafbce3",
   "metadata": {},
   "outputs": [],
   "source": [
    "fig, axes = init_time_loss_axes()\n",
    "\n",
    "load_vals(ack, \"undel_const_1.5\")\n",
    "axes = plot_time_loss(ack, c='g', axes=axes, alpha=1/80)\n",
    "axes = plot_mean_time_loss(ack, c='b', lw=3, axes=axes)\n",
    "\n",
    "load_vals(ack, \"stoch_const_1.5\")\n",
    "axes = plot_time_loss(ack, c='orange', axes=axes, alpha=1/170)\n",
    "axes = plot_mean_time_loss(ack, c='r', lw=3, axes=axes)\n",
    "\n",
    "line_objs = [Line2D([0], [0], c='g'), Line2D([0], [0], lw=2, c='b'),\n",
    "             Line2D([0], [0], c='orange'), Line2D([0], [0], lw=2, c='r')]\n",
    "labels = [\"Undelayed\", \"Mean Undelayed\", \"Delayed\", \"Mean Delayed\"]\n",
    "format_plot(axes, line_objs, labels, loc='lower left', xlabel=\"Step\", ylabel=\"Loss\", ylim=[0,22])\n",
    "plt.tight_layout()\n",
    "plt.savefig('Plots/Ackley_time_loss_const_1.5.png', bbox_inches=\"tight\")\n",
    "plt.show()"
   ]
  },
  {
   "cell_type": "code",
   "execution_count": null,
   "id": "14db2ebb",
   "metadata": {},
   "outputs": [],
   "source": [
    "fig, axes = init_time_loss_axes()\n",
    "\n",
    "load_vals(ack, \"undel_adapt_opt\")\n",
    "axes = plot_time_loss(ack, c='g', axes=axes, alpha=1/80)\n",
    "axes = plot_mean_time_loss(ack, c='b', lw=3, axes=axes)\n",
    "\n",
    "load_vals(ack, \"stoch_adapt_opt\")\n",
    "axes = plot_time_loss(ack, c='orange', axes=axes, alpha=1/170)\n",
    "axes = plot_mean_time_loss(ack, c='r', lw=3, axes=axes)\n",
    "\n",
    "line_objs = [Line2D([0], [0], c='g'), Line2D([0], [0], lw=2, c='b'),\n",
    "             Line2D([0], [0], c='orange'), Line2D([0], [0], lw=2, c='r')]\n",
    "labels = [\"Undelayed\", \"Mean Undelayed\", \"Delayed\", \"Mean Delayed\"]\n",
    "format_plot(axes, line_objs, labels, loc='upper right', xlabel=\"Step\", ylabel=\"Loss\", ylim=[0,22])\n",
    "#plt.savefig('Plots/Ackley_time_loss_adapt_opt.png', bbox_inches=\"tight\")\n",
    "plt.show()"
   ]
  },
  {
   "cell_type": "code",
   "execution_count": null,
   "id": "7ffab425",
   "metadata": {},
   "outputs": [],
   "source": [
    "delay_list = [Undelayed(), Stochastic(1, 1000)]\n",
    "quick_plot_time_loss(ack, 'optimal', delay_list)"
   ]
  },
  {
   "cell_type": "code",
   "execution_count": null,
   "id": "3ef89e71",
   "metadata": {},
   "outputs": [],
   "source": [
    "delay_list = [Undelayed(), Stochastic(1, 2000)]\n",
    "\n",
    "# Init\n",
    "axes = None\n",
    "colors = ['b', 'r', 'navy', 'darkred']\n",
    "param_types = ['optimal', 'given']\n",
    "label_lines = [Line2D([0], [0], c=colors[0]), Line2D([0], [0], lw=2, c=colors[len(delay_list)]),\n",
    "               Line2D([0], [0], c=colors[1]), Line2D([0], [0], lw=2, c=colors[len(delay_list)+1])]\n",
    "\n",
    "for k, delay_type in enumerate(delay_list):\n",
    "    load_vals(ack, delay_type.name, param_types[k])\n",
    "    axes = plot_time_loss(ack, logscale=False, axes=axes, c=colors[k])\n",
    "    axes = plot_mean_time_loss(ack, axes=axes, c=mean_colors[k])\n",
    "\n",
    "for i, ax in enumerate(axes):\n",
    "    ax.legend(label_lines, [\"Undelayed\", \"Mean Undelayed\", \"Delayed\", \"Mean Delayed\"], loc='lower right')\n",
    "    ax.set_xlabel(\"Step\", fontsize=16)\n",
    "    ax.set_ylabel(\"Loss\", fontsize=16)\n",
    "    ax.set_ylim([0, 22])\n",
    "\n",
    "plt.show()"
   ]
  },
  {
   "cell_type": "code",
   "execution_count": null,
   "id": "92469296",
   "metadata": {},
   "outputs": [],
   "source": [
    "delay_list = [Undelayed(), Stochastic(1, 2000)]\n",
    "quick_plot_time_loss(ack, 'optimal')"
   ]
  },
  {
   "cell_type": "code",
   "execution_count": null,
   "id": "b238cc06",
   "metadata": {},
   "outputs": [],
   "source": [
    "delay_list = [Undelayed(), Stochastic(1, 2000)]\n",
    "quick_plot_time_loss(ack, 'given', delay_list)"
   ]
  },
  {
   "cell_type": "code",
   "execution_count": null,
   "id": "074b854d",
   "metadata": {},
   "outputs": [],
   "source": []
  },
  {
   "cell_type": "code",
   "execution_count": null,
   "id": "9d5558d3",
   "metadata": {},
   "outputs": [],
   "source": [
    "calc_plot(ack, 'optimal', [Undelayed(), Stochastic(1,1000)])"
   ]
  },
  {
   "cell_type": "code",
   "execution_count": null,
   "id": "19ee18bc",
   "metadata": {},
   "outputs": [],
   "source": [
    "func_obj = ack[100]\n",
    "func_obj.load(\"Data/Ackley100d_undel_BensonLR.npz\")\n",
    "plt.plot(np.arange(func_obj.maxiter+1), np.mean(func_obj.get_loss_array(), axis=0), c='b', label=\"Undelayed Opt\")\n",
    "print(func_obj.lr_params)\n",
    "func_obj.load(\"Data/Ackley100d_stoch_BensonLR.npz\")\n",
    "plt.plot(np.arange(func_obj.maxiter+1), np.mean(func_obj.get_loss_array(), axis=0), c='r', label=\"Stochastic Opt\")\n",
    "print(func_obj.lr_params)\n",
    "func_obj.load(\"Data/Ackley100d_undel_const_1.5.npz\")\n",
    "plt.plot(np.arange(func_obj.maxiter+1), np.mean(func_obj.get_loss_array(), axis=0), c='g', label=\"Undelayed 1.5\")\n",
    "print(func_obj.lr_params)\n",
    "func_obj.load(\"Data/Ackley100d_stoch_const_1.5.npz\")\n",
    "plt.plot(np.arange(func_obj.maxiter+1), np.mean(func_obj.get_loss_array(), axis=0), c='orange', label=\"Stochastic 1.5\")\n",
    "print(func_obj.lr_params)\n",
    "plt.ylim([0,22])\n",
    "plt.legend()\n",
    "plt.title(\"Ackley 100d\")\n",
    "plt.show()"
   ]
  },
  {
   "cell_type": "code",
   "execution_count": null,
   "id": "894c21e1",
   "metadata": {},
   "outputs": [],
   "source": [
    "func_obj = FuncOpt(\"Ackley\", 100, maxiter=3000)\n",
    "func_obj.load(\"Data/Ackley100d_undel_BensonUndel.npz\")\n",
    "plt.plot(np.arange(func_obj.maxiter+1), np.mean(func_obj.get_loss_array(), axis=0), c='b', label=\"Undelayed\")\n",
    "print(func_obj.lr_params)\n",
    "func_obj.load(\"Data/Ackley100d_stoch_BensonUndel.npz\")\n",
    "plt.plot(np.arange(func_obj.maxiter+1), np.mean(func_obj.get_loss_array(), axis=0), c='r', label=\"Stochastic\")\n",
    "print(func_obj.lr_params)\n",
    "plt.ylim([0,22])\n",
    "plt.legend()\n",
    "plt.title(\"Ackley 100d (Undelayed Params)\")\n",
    "plt.show()"
   ]
  },
  {
   "cell_type": "code",
   "execution_count": null,
   "id": "dc8c2e18",
   "metadata": {},
   "outputs": [],
   "source": [
    "func_obj = FuncOpt(\"Ackley\", 100, maxiter=3000)\n",
    "func_obj.load(\"Data/Ackley100d_undel_BensonDel.npz\")\n",
    "plt.plot(np.arange(func_obj.maxiter+1), np.mean(func_obj.get_loss_array(), axis=0), c='b', label=\"Undelayed\")\n",
    "print(func_obj.lr_params)\n",
    "func_obj.load(\"Data/Ackley100d_stoch_BensonDel.npz\")\n",
    "plt.plot(np.arange(func_obj.maxiter+1), np.mean(func_obj.get_loss_array(), axis=0), c='r', label=\"Stochastic\")\n",
    "print(func_obj.lr_params)\n",
    "plt.ylim([0,22])\n",
    "plt.legend()\n",
    "plt.title(\"Ackley 100d (Delayed Params)\")\n",
    "plt.show()"
   ]
  },
  {
   "cell_type": "code",
   "execution_count": null,
   "id": "80608877",
   "metadata": {},
   "outputs": [],
   "source": [
    "func_obj = FuncOpt(\"Ackley\", 100, maxiter=5000)\n",
    "func_obj.load(\"Data/Ackley100d_stoch_BensonLR_5000.npz\")\n",
    "plt.plot(np.arange(func_obj.maxiter+1), np.mean(func_obj.get_loss_array(), axis=0), c='b', label=\"Optimal params\")\n",
    "print(func_obj.lr_params)\n",
    "print(\"Avg. Final Loss:\", func_obj.get_mean_final(func_obj.loss_vals))\n",
    "func_obj.load(\"Data/Ackley100d_stoch_const_1.5_5000.npz\")\n",
    "plt.plot(np.arange(func_obj.maxiter+1), np.mean(func_obj.get_loss_array(), axis=0), c='r', label=\"Hand-chosen\")\n",
    "print(func_obj.lr_params)\n",
    "print(\"Avg. Final Loss:\", func_obj.get_mean_final(func_obj.loss_vals))\n",
    "plt.ylim([0,22])\n",
    "plt.legend()\n",
    "plt.title(\"Ackley 100d\")\n",
    "plt.show()"
   ]
  },
  {
   "cell_type": "code",
   "execution_count": null,
   "id": "c2a120af",
   "metadata": {},
   "outputs": [],
   "source": []
  },
  {
   "cell_type": "code",
   "execution_count": null,
   "id": "1e47de68",
   "metadata": {},
   "outputs": [],
   "source": [
    "func_obj = ack[2]\n",
    "func_obj.initialize_points('random', 500)\n",
    "func_obj.optimize(Undelayed(), param_type='optimal', const_lr=False)"
   ]
  },
  {
   "cell_type": "code",
   "execution_count": null,
   "id": "38b071ea",
   "metadata": {},
   "outputs": [],
   "source": [
    "plt.plot(np.arange(func_obj.maxiter+1), np.mean(func_obj.get_loss_array(), axis=0))\n",
    "plt.ylim([0,21])\n",
    "plt.show()\n",
    "print(func_obj.lr_params)"
   ]
  },
  {
   "cell_type": "code",
   "execution_count": null,
   "id": "b92b56f4",
   "metadata": {},
   "outputs": [],
   "source": [
    "plt.plot(np.arange(func_obj.maxiter+1), np.mean(func_obj.get_loss_array(), axis=0))\n",
    "plt.ylim([0,21])\n",
    "plt.show()\n",
    "print(func_obj.lr_params)"
   ]
  },
  {
   "cell_type": "code",
   "execution_count": null,
   "id": "1c5c05d7",
   "metadata": {},
   "outputs": [],
   "source": [
    "ax = plot_time_loss(plot_data, means=True, loss_name=\"Ackley\")\n",
    "ax[0].set_ylim([0,23])\n",
    "ax[1].set_ylim([0,23])\n",
    "ax[2].set_ylim([0,23])\n",
    "ax[3].set_ylim([0,23])\n",
    "plt.savefig(\"ack_time_loss.png\")\n",
    "plt.show()"
   ]
  },
  {
   "cell_type": "code",
   "execution_count": null,
   "id": "8196d841",
   "metadata": {},
   "outputs": [],
   "source": []
  },
  {
   "cell_type": "code",
   "execution_count": null,
   "id": "1d7e60bc",
   "metadata": {},
   "outputs": [],
   "source": []
  }
 ],
 "metadata": {
  "kernelspec": {
   "display_name": "Python 3 (ipykernel)",
   "language": "python",
   "name": "python3"
  },
  "language_info": {
   "codemirror_mode": {
    "name": "ipython",
    "version": 3
   },
   "file_extension": ".py",
   "mimetype": "text/x-python",
   "name": "python",
   "nbconvert_exporter": "python",
   "pygments_lexer": "ipython3",
   "version": "3.8.12"
  }
 },
 "nbformat": 4,
 "nbformat_minor": 5
}
