{
 "cells": [
  {
   "cell_type": "code",
   "execution_count": 2,
   "id": "151a6132",
   "metadata": {},
   "outputs": [],
   "source": [
    "import numpy as np\n",
    "import sys\n",
    "sys.path.append('/home/yungdankblast/Desktop/Research/delay-optimizer')\n",
    "from DelayEffects.Analyzer_new import FuncOpt\n",
    "from Optimizer_Scripts.DelayTypeGenerators import *\n",
    "import os\n",
    "from matplotlib import pyplot as plt\n",
    "import pandas as pd"
   ]
  },
  {
   "cell_type": "code",
   "execution_count": 3,
   "id": "114cf80d",
   "metadata": {},
   "outputs": [],
   "source": [
    "# Initialize\n",
    "loss_name = 'Ackley'\n",
    "dimensions = [2, 10, 100, 1000]\n",
    "ack = {d: FuncOpt(loss_name, d) for d in dimensions}"
   ]
  },
  {
   "cell_type": "code",
   "execution_count": 4,
   "id": "85fecc47",
   "metadata": {},
   "outputs": [],
   "source": [
    "# Read params\n",
    "params = pd.read_csv(\"../hyperparameter_data.csv\")"
   ]
  },
  {
   "cell_type": "markdown",
   "id": "717be1d2",
   "metadata": {},
   "source": [
    "## Helper Functions"
   ]
  },
  {
   "cell_type": "code",
   "execution_count": 5,
   "id": "464f973d",
   "metadata": {},
   "outputs": [],
   "source": [
    "def parse(func_obj, delay_type, **kwargs):\n",
    "    parsed = params.copy()\n",
    "    parsed = parsed[parsed['loss_name'] == func_obj.loss_name]\n",
    "    parsed = parsed[parsed['dim'] == func_obj.n]\n",
    "    parsed = parsed[parsed['optimizer_name'] == func_obj.optimizer_name]\n",
    "    parsed = parsed[parsed['maxiter'] == func_obj.maxiter]\n",
    "    parsed = parsed[parsed['delay_type'] == delay_type.name]\n",
    "    parsed = parsed[parsed['num_delays'] == delay_type.num_delays]\n",
    "    if delay_type.name != 'undelayed':\n",
    "        parsed = parsed[parsed['max_L'] == delay_type.max_L]\n",
    "    for arg, val in kwargs.items():\n",
    "        parsed = parsed[parsed[arg] == val]\n",
    "    return parsed.sort_values('best_loss')\n",
    "\n",
    "def validate(func_obj, parsed, delay_type, num_points=500):\n",
    "    # Extract params\n",
    "    lrs = parsed.loc[:,'learning_rate'].values\n",
    "    lrs = np.hstack(([1.0], lrs))        # Add control params\n",
    "    \n",
    "    # Initialize points and optimize for each lr\n",
    "    func_obj.initialize_points('random', num_points)\n",
    "    mean_losses = []\n",
    "    for i, lr in enumerate(lrs):\n",
    "        func_obj.optimize(delay_type, param_type='given', const_lr=True, save_state=False, save_loss=True, \n",
    "                          save_grad=False, save_iters=False, param_file=None, learning_rate=lr)\n",
    "        mean_losses.append(func_obj.get_mean_final(func_obj.loss_vals))\n",
    "        \n",
    "    ind = np.argmin(mean_losses)\n",
    "    return lrs, ind, mean_losses[ind]\n",
    "\n",
    "def multi_validate(func_obj, delay_type, num_points, num_tests, **kwargs):\n",
    "    # Parse parameters\n",
    "    parsed = parse(func_obj, delay_type, **kwargs)\n",
    "    \n",
    "    lr_dict = {}\n",
    "    losses = []\n",
    "    for j in range(num_tests):\n",
    "        lrs, i, best_loss = validate(func_obj, parsed, delay_type, num_points)\n",
    "        if lrs[i] in lr_dict:\n",
    "            lr_dict[lrs[i]] += 1\n",
    "        else:\n",
    "            lr_dict[lrs[i]] = 1\n",
    "        losses.append((lrs[i], best_loss))\n",
    "\n",
    "    return lr_dict, losses"
   ]
  },
  {
   "cell_type": "code",
   "execution_count": 6,
   "id": "ce512e57",
   "metadata": {},
   "outputs": [],
   "source": [
    "num_tests = 5\n",
    "num_points = 1000"
   ]
  },
  {
   "cell_type": "markdown",
   "id": "ea1bda32",
   "metadata": {},
   "source": [
    "# Undelayed"
   ]
  },
  {
   "cell_type": "code",
   "execution_count": 7,
   "id": "d4abb4fa",
   "metadata": {},
   "outputs": [],
   "source": [
    "delay_type = Undelayed()"
   ]
  },
  {
   "cell_type": "code",
   "execution_count": 8,
   "id": "1f4b3e20",
   "metadata": {},
   "outputs": [
    {
     "data": {
      "text/plain": [
       "({0.922737113926347: 2, 1.475254062393599: 2, 1.449149755592396: 1},\n",
       " [(0.922737113926347, 17.485756384628164),\n",
       "  (0.922737113926347, 17.265773579561305),\n",
       "  (1.475254062393599, 17.802955810375284),\n",
       "  (1.449149755592396, 17.39171695150381),\n",
       "  (1.475254062393599, 17.60225185664381)])"
      ]
     },
     "execution_count": 8,
     "metadata": {},
     "output_type": "execute_result"
    }
   ],
   "source": [
    "func_obj = ack[2]\n",
    "multi_validate(func_obj, delay_type, num_points, num_tests)"
   ]
  },
  {
   "cell_type": "code",
   "execution_count": 9,
   "id": "00dbd2b7",
   "metadata": {},
   "outputs": [
    {
     "data": {
      "text/plain": [
       "({0.470409016134651: 5},\n",
       " [(0.470409016134651, 19.44193822600018),\n",
       "  (0.470409016134651, 19.439993632882935),\n",
       "  (0.470409016134651, 19.426600093708117),\n",
       "  (0.470409016134651, 19.430532957105576),\n",
       "  (0.470409016134651, 19.460550175581506)])"
      ]
     },
     "execution_count": 9,
     "metadata": {},
     "output_type": "execute_result"
    }
   ],
   "source": [
    "func_obj = ack[10]\n",
    "multi_validate(func_obj, delay_type, num_points, num_tests)"
   ]
  },
  {
   "cell_type": "code",
   "execution_count": 10,
   "id": "451fa667",
   "metadata": {},
   "outputs": [
    {
     "data": {
      "text/plain": [
       "({0.001475358781431: 5},\n",
       " [(0.001475358781431, 19.53654184420885),\n",
       "  (0.001475358781431, 19.538337906540672),\n",
       "  (0.001475358781431, 19.53404196170198),\n",
       "  (0.001475358781431, 19.53835485475633),\n",
       "  (0.001475358781431, 19.542351085174502)])"
      ]
     },
     "execution_count": 10,
     "metadata": {},
     "output_type": "execute_result"
    }
   ],
   "source": [
    "func_obj = ack[100]\n",
    "multi_validate(func_obj, delay_type, num_points, num_tests)"
   ]
  },
  {
   "cell_type": "code",
   "execution_count": 11,
   "id": "57834086",
   "metadata": {
    "collapsed": true
   },
   "outputs": [
    {
     "ename": "KeyboardInterrupt",
     "evalue": "",
     "output_type": "error",
     "traceback": [
      "\u001b[0;31m---------------------------------------------------------------------------\u001b[0m",
      "\u001b[0;31mKeyboardInterrupt\u001b[0m                         Traceback (most recent call last)",
      "Input \u001b[0;32mIn [11]\u001b[0m, in \u001b[0;36m<cell line: 2>\u001b[0;34m()\u001b[0m\n\u001b[1;32m      1\u001b[0m func_obj \u001b[38;5;241m=\u001b[39m ack[\u001b[38;5;241m1000\u001b[39m]\n\u001b[0;32m----> 2\u001b[0m \u001b[43mmulti_validate\u001b[49m\u001b[43m(\u001b[49m\u001b[43mfunc_obj\u001b[49m\u001b[43m,\u001b[49m\u001b[43m \u001b[49m\u001b[43mdelay_type\u001b[49m\u001b[43m,\u001b[49m\u001b[43m \u001b[49m\u001b[43mnum_points\u001b[49m\u001b[43m,\u001b[49m\u001b[43m \u001b[49m\u001b[43mnum_tests\u001b[49m\u001b[43m)\u001b[49m\n",
      "Input \u001b[0;32mIn [5]\u001b[0m, in \u001b[0;36mmulti_validate\u001b[0;34m(func_obj, delay_type, num_points, num_tests, **kwargs)\u001b[0m\n\u001b[1;32m     36\u001b[0m losses \u001b[38;5;241m=\u001b[39m []\n\u001b[1;32m     37\u001b[0m \u001b[38;5;28;01mfor\u001b[39;00m j \u001b[38;5;129;01min\u001b[39;00m \u001b[38;5;28mrange\u001b[39m(num_tests):\n\u001b[0;32m---> 38\u001b[0m     lrs, i, best_loss \u001b[38;5;241m=\u001b[39m \u001b[43mvalidate\u001b[49m\u001b[43m(\u001b[49m\u001b[43mfunc_obj\u001b[49m\u001b[43m,\u001b[49m\u001b[43m \u001b[49m\u001b[43mparsed\u001b[49m\u001b[43m,\u001b[49m\u001b[43m \u001b[49m\u001b[43mdelay_type\u001b[49m\u001b[43m,\u001b[49m\u001b[43m \u001b[49m\u001b[43mnum_points\u001b[49m\u001b[43m)\u001b[49m\n\u001b[1;32m     39\u001b[0m     \u001b[38;5;28;01mif\u001b[39;00m lrs[i] \u001b[38;5;129;01min\u001b[39;00m lr_dict:\n\u001b[1;32m     40\u001b[0m         lr_dict[lrs[i]] \u001b[38;5;241m+\u001b[39m\u001b[38;5;241m=\u001b[39m \u001b[38;5;241m1\u001b[39m\n",
      "Input \u001b[0;32mIn [5]\u001b[0m, in \u001b[0;36mvalidate\u001b[0;34m(func_obj, parsed, delay_type, num_points)\u001b[0m\n\u001b[1;32m     22\u001b[0m mean_losses \u001b[38;5;241m=\u001b[39m []\n\u001b[1;32m     23\u001b[0m \u001b[38;5;28;01mfor\u001b[39;00m i, lr \u001b[38;5;129;01min\u001b[39;00m \u001b[38;5;28menumerate\u001b[39m(lrs):\n\u001b[0;32m---> 24\u001b[0m     \u001b[43mfunc_obj\u001b[49m\u001b[38;5;241;43m.\u001b[39;49m\u001b[43moptimize\u001b[49m\u001b[43m(\u001b[49m\u001b[43mdelay_type\u001b[49m\u001b[43m,\u001b[49m\u001b[43m \u001b[49m\u001b[43mparam_type\u001b[49m\u001b[38;5;241;43m=\u001b[39;49m\u001b[38;5;124;43m'\u001b[39;49m\u001b[38;5;124;43mgiven\u001b[39;49m\u001b[38;5;124;43m'\u001b[39;49m\u001b[43m,\u001b[49m\u001b[43m \u001b[49m\u001b[43mconst_lr\u001b[49m\u001b[38;5;241;43m=\u001b[39;49m\u001b[38;5;28;43;01mTrue\u001b[39;49;00m\u001b[43m,\u001b[49m\u001b[43m \u001b[49m\u001b[43msave_state\u001b[49m\u001b[38;5;241;43m=\u001b[39;49m\u001b[38;5;28;43;01mFalse\u001b[39;49;00m\u001b[43m,\u001b[49m\u001b[43m \u001b[49m\u001b[43msave_loss\u001b[49m\u001b[38;5;241;43m=\u001b[39;49m\u001b[38;5;28;43;01mTrue\u001b[39;49;00m\u001b[43m,\u001b[49m\u001b[43m \u001b[49m\n\u001b[1;32m     25\u001b[0m \u001b[43m                      \u001b[49m\u001b[43msave_grad\u001b[49m\u001b[38;5;241;43m=\u001b[39;49m\u001b[38;5;28;43;01mFalse\u001b[39;49;00m\u001b[43m,\u001b[49m\u001b[43m \u001b[49m\u001b[43msave_iters\u001b[49m\u001b[38;5;241;43m=\u001b[39;49m\u001b[38;5;28;43;01mFalse\u001b[39;49;00m\u001b[43m,\u001b[49m\u001b[43m \u001b[49m\u001b[43mparam_file\u001b[49m\u001b[38;5;241;43m=\u001b[39;49m\u001b[38;5;28;43;01mNone\u001b[39;49;00m\u001b[43m,\u001b[49m\u001b[43m \u001b[49m\u001b[43mlearning_rate\u001b[49m\u001b[38;5;241;43m=\u001b[39;49m\u001b[43mlr\u001b[49m\u001b[43m)\u001b[49m\n\u001b[1;32m     26\u001b[0m     mean_losses\u001b[38;5;241m.\u001b[39mappend(func_obj\u001b[38;5;241m.\u001b[39mget_mean_final(func_obj\u001b[38;5;241m.\u001b[39mloss_vals))\n\u001b[1;32m     28\u001b[0m ind \u001b[38;5;241m=\u001b[39m np\u001b[38;5;241m.\u001b[39margmin(mean_losses)\n",
      "File \u001b[0;32m~/Desktop/Research/delay-optimizer/DelayEffects/Analyzer_new.py:215\u001b[0m, in \u001b[0;36mFuncOpt.optimize\u001b[0;34m(self, delay_type, param_type, break_opt, const_lr, save_state, save_loss, save_grad, save_iters, param_file, **kwargs)\u001b[0m\n\u001b[1;32m    211\u001b[0m \u001b[38;5;28mself\u001b[39m\u001b[38;5;241m.\u001b[39minitialize_delayer(save_state, save_loss, save_grad)\n\u001b[1;32m    213\u001b[0m \u001b[38;5;28;01mfor\u001b[39;00m x_init \u001b[38;5;129;01min\u001b[39;00m \u001b[38;5;28mself\u001b[39m\u001b[38;5;241m.\u001b[39mx_inits:\n\u001b[1;32m    214\u001b[0m     \u001b[38;5;66;03m# Perform the optimization for each initial point \u001b[39;00m\n\u001b[0;32m--> 215\u001b[0m     \u001b[38;5;28;43mself\u001b[39;49m\u001b[38;5;241;43m.\u001b[39;49m\u001b[43mdelayer\u001b[49m\u001b[38;5;241;43m.\u001b[39;49m\u001b[43moptimize\u001b[49m\u001b[43m(\u001b[49m\u001b[43mx_init\u001b[49m\u001b[43m,\u001b[49m\u001b[43m \u001b[49m\u001b[38;5;28;43mself\u001b[39;49m\u001b[38;5;241;43m.\u001b[39;49m\u001b[43mmaxiter\u001b[49m\u001b[43m,\u001b[49m\u001b[43m \u001b[49m\u001b[38;5;28;43mself\u001b[39;49m\u001b[38;5;241;43m.\u001b[39;49m\u001b[43mtol\u001b[49m\u001b[43m,\u001b[49m\u001b[43m \u001b[49m\u001b[43mbreak_opt\u001b[49m\u001b[43m)\u001b[49m\n\u001b[1;32m    217\u001b[0m     \u001b[38;5;66;03m# Save values\u001b[39;00m\n\u001b[1;32m    218\u001b[0m     \u001b[38;5;28;01mif\u001b[39;00m save_state \u001b[38;5;129;01mis\u001b[39;00m \u001b[38;5;28;01mTrue\u001b[39;00m:\n",
      "File \u001b[0;32m~/Desktop/Research/delay-optimizer/Optimizer_Scripts/Delayer_new.py:107\u001b[0m, in \u001b[0;36mDelayer.optimize\u001b[0;34m(self, x_init, maxiter, tol, break_opt)\u001b[0m\n\u001b[1;32m    105\u001b[0m \u001b[38;5;28;01mfor\u001b[39;00m i \u001b[38;5;129;01min\u001b[39;00m \u001b[38;5;28mrange\u001b[39m(\u001b[38;5;241m1\u001b[39m, maxiter\u001b[38;5;241m+\u001b[39m\u001b[38;5;241m1\u001b[39m):\n\u001b[1;32m    106\u001b[0m     old_state \u001b[38;5;241m=\u001b[39m new_state                   \u001b[38;5;66;03m# Keep the old state\u001b[39;00m\n\u001b[0;32m--> 107\u001b[0m     new_state \u001b[38;5;241m=\u001b[39m \u001b[38;5;28;43mself\u001b[39;49m\u001b[38;5;241;43m.\u001b[39;49m\u001b[43mupdate\u001b[49m\u001b[43m(\u001b[49m\u001b[43mi\u001b[49m\u001b[43m,\u001b[49m\u001b[43m \u001b[49m\u001b[38;5;28;43mnext\u001b[39;49m\u001b[43m(\u001b[49m\u001b[43mD_gen\u001b[49m\u001b[43m)\u001b[49m\u001b[43m)\u001b[49m \u001b[38;5;66;03m# Update!\u001b[39;00m\n\u001b[1;32m    109\u001b[0m     \u001b[38;5;28;01mif\u001b[39;00m \u001b[38;5;28mself\u001b[39m\u001b[38;5;241m.\u001b[39msave_loss \u001b[38;5;129;01mis\u001b[39;00m \u001b[38;5;28;01mTrue\u001b[39;00m:              \u001b[38;5;66;03m# Save loss value\u001b[39;00m\n\u001b[1;32m    110\u001b[0m         \u001b[38;5;28mself\u001b[39m\u001b[38;5;241m.\u001b[39mloss_list\u001b[38;5;241m.\u001b[39mappend(\u001b[38;5;28mself\u001b[39m\u001b[38;5;241m.\u001b[39mloss(new_state))\n",
      "File \u001b[0;32m~/Desktop/Research/delay-optimizer/Optimizer_Scripts/Delayer_new.py:60\u001b[0m, in \u001b[0;36mDelayer.update\u001b[0;34m(self, i, D)\u001b[0m\n\u001b[1;32m     50\u001b[0m \u001b[38;5;124;03m\"\"\"Called by the compute_time_series method and adds the delay and \u001b[39;00m\n\u001b[1;32m     51\u001b[0m \u001b[38;5;124;03mcomputes the state to do computations on\u001b[39;00m\n\u001b[1;32m     52\u001b[0m \u001b[38;5;124;03m\u001b[39;00m\n\u001b[0;32m   (...)\u001b[0m\n\u001b[1;32m     57\u001b[0m \u001b[38;5;124;03m   new_state (ndarray, (n,)): next state after delayed computations\u001b[39;00m\n\u001b[1;32m     58\u001b[0m \u001b[38;5;124;03m\"\"\"\u001b[39;00m\n\u001b[1;32m     59\u001b[0m \u001b[38;5;66;03m# Delay the state and save grad\u001b[39;00m\n\u001b[0;32m---> 60\u001b[0m del_state \u001b[38;5;241m=\u001b[39m np\u001b[38;5;241m.\u001b[39mdiag(\u001b[38;5;28;43mself\u001b[39;49m\u001b[38;5;241;43m.\u001b[39;49m\u001b[43mtime_series\u001b[49m\u001b[43m[\u001b[49m\u001b[43mD\u001b[49m\u001b[43m]\u001b[49m)\n\u001b[1;32m     61\u001b[0m x_grad \u001b[38;5;241m=\u001b[39m \u001b[38;5;28mself\u001b[39m\u001b[38;5;241m.\u001b[39mgrad(del_state)   \n\u001b[1;32m     62\u001b[0m \u001b[38;5;28;01mif\u001b[39;00m \u001b[38;5;28mself\u001b[39m\u001b[38;5;241m.\u001b[39msave_grad \u001b[38;5;129;01mis\u001b[39;00m \u001b[38;5;28;01mTrue\u001b[39;00m:\n",
      "\u001b[0;31mKeyboardInterrupt\u001b[0m: "
     ]
    }
   ],
   "source": [
    "func_obj = ack[1000]\n",
    "multi_validate(func_obj, delay_type, num_points, num_tests)"
   ]
  },
  {
   "cell_type": "markdown",
   "id": "f8aaf13d",
   "metadata": {},
   "source": [
    "# Unform Delay, $L=1$"
   ]
  },
  {
   "cell_type": "code",
   "execution_count": null,
   "id": "2b68291e",
   "metadata": {},
   "outputs": [],
   "source": [
    "delay_type = Uniform(max_L=1, num_delays=1000)"
   ]
  },
  {
   "cell_type": "code",
   "execution_count": null,
   "id": "8ff30722",
   "metadata": {},
   "outputs": [],
   "source": [
    "func_obj = ack[2]\n",
    "multi_validate(func_obj, delay_type, num_points, num_tests)"
   ]
  },
  {
   "cell_type": "code",
   "execution_count": null,
   "id": "aceb2754",
   "metadata": {},
   "outputs": [],
   "source": [
    "func_obj = ack[10]\n",
    "multi_validate(func_obj, delay_type, num_points, num_tests)"
   ]
  },
  {
   "cell_type": "code",
   "execution_count": null,
   "id": "7cb802aa",
   "metadata": {},
   "outputs": [],
   "source": [
    "func_obj = ack[100]\n",
    "multi_validate(func_obj, delay_type, num_points, num_tests)"
   ]
  },
  {
   "cell_type": "code",
   "execution_count": null,
   "id": "8d8f086c",
   "metadata": {},
   "outputs": [],
   "source": [
    "func_obj = ack[1000]\n",
    "multi_validate(func_obj, delay_type, num_points, num_tests)"
   ]
  },
  {
   "cell_type": "code",
   "execution_count": null,
   "id": "29c129eb",
   "metadata": {},
   "outputs": [],
   "source": []
  },
  {
   "cell_type": "code",
   "execution_count": null,
   "id": "99a5970e",
   "metadata": {},
   "outputs": [],
   "source": [
    "delay_type = Uniform(max_L=1, num_delays=2000)"
   ]
  },
  {
   "cell_type": "code",
   "execution_count": null,
   "id": "8df574ad",
   "metadata": {},
   "outputs": [],
   "source": [
    "func_obj = ack[2]\n",
    "multi_validate(func_obj, delay_type, num_points, num_tests)"
   ]
  },
  {
   "cell_type": "code",
   "execution_count": null,
   "id": "5c98e142",
   "metadata": {},
   "outputs": [],
   "source": [
    "func_obj = ack[10]\n",
    "multi_validate(func_obj, delay_type, num_points, num_tests)"
   ]
  },
  {
   "cell_type": "code",
   "execution_count": null,
   "id": "f2426eff",
   "metadata": {},
   "outputs": [],
   "source": [
    "func_obj = ack[100]\n",
    "multi_validate(func_obj, delay_type, num_points, num_tests)"
   ]
  },
  {
   "cell_type": "code",
   "execution_count": null,
   "id": "1a7e604d",
   "metadata": {},
   "outputs": [],
   "source": [
    "func_obj = ack[1000]\n",
    "multi_validate(func_obj, delay_type, num_points, num_tests)"
   ]
  },
  {
   "cell_type": "markdown",
   "id": "87935ef0",
   "metadata": {},
   "source": [
    "# Stochastic Delay, $L=1$"
   ]
  },
  {
   "cell_type": "code",
   "execution_count": 22,
   "id": "8662948e",
   "metadata": {},
   "outputs": [],
   "source": [
    "delay_type = Stochastic(max_L=1, num_delays=1000)"
   ]
  },
  {
   "cell_type": "code",
   "execution_count": 23,
   "id": "6c76c6b8",
   "metadata": {},
   "outputs": [
    {
     "data": {
      "text/plain": [
       "({1.866778249548995: 4, 1.422374042939696: 1},\n",
       " [(1.866778249548995, 9018.621156779209),\n",
       "  (1.866778249548995, 8519.022326653578),\n",
       "  (1.866778249548995, 8059.9071123022695),\n",
       "  (1.866778249548995, 7495.675581154205),\n",
       "  (1.422374042939696, 9788.789231353461)])"
      ]
     },
     "execution_count": 23,
     "metadata": {},
     "output_type": "execute_result"
    }
   ],
   "source": [
    "func_obj = ack[2]\n",
    "multi_validate(func_obj, delay_type, num_points, num_tests)"
   ]
  },
  {
   "cell_type": "code",
   "execution_count": 24,
   "id": "f1fabc9c",
   "metadata": {},
   "outputs": [
    {
     "data": {
      "text/plain": [
       "({1.0: 3, 0.498393887722313: 2},\n",
       " [(1.0, 200.63812213474483),\n",
       "  (0.498393887722313, 11.347220194192822),\n",
       "  (0.498393887722313, 12.317292845442633),\n",
       "  (1.0, 6.33579508025069),\n",
       "  (1.0, 6.468896758643433)])"
      ]
     },
     "execution_count": 24,
     "metadata": {},
     "output_type": "execute_result"
    }
   ],
   "source": [
    "func_obj = ack[10]\n",
    "multi_validate(func_obj, delay_type, num_points, num_tests)"
   ]
  },
  {
   "cell_type": "code",
   "execution_count": 25,
   "id": "6966e7f8",
   "metadata": {},
   "outputs": [
    {
     "ename": "KeyboardInterrupt",
     "evalue": "",
     "output_type": "error",
     "traceback": [
      "\u001b[0;31m---------------------------------------------------------------------------\u001b[0m",
      "\u001b[0;31mKeyboardInterrupt\u001b[0m                         Traceback (most recent call last)",
      "Input \u001b[0;32mIn [25]\u001b[0m, in \u001b[0;36m<cell line: 2>\u001b[0;34m()\u001b[0m\n\u001b[1;32m      1\u001b[0m func_obj \u001b[38;5;241m=\u001b[39m rosen[\u001b[38;5;241m100\u001b[39m]\n\u001b[0;32m----> 2\u001b[0m \u001b[43mmulti_validate\u001b[49m\u001b[43m(\u001b[49m\u001b[43mfunc_obj\u001b[49m\u001b[43m,\u001b[49m\u001b[43m \u001b[49m\u001b[43mdelay_type\u001b[49m\u001b[43m,\u001b[49m\u001b[43m \u001b[49m\u001b[43mnum_points\u001b[49m\u001b[43m,\u001b[49m\u001b[43m \u001b[49m\u001b[43mnum_tests\u001b[49m\u001b[43m)\u001b[49m\n",
      "Input \u001b[0;32mIn [4]\u001b[0m, in \u001b[0;36mmulti_validate\u001b[0;34m(func_obj, delay_type, num_points, num_tests, **kwargs)\u001b[0m\n\u001b[1;32m     36\u001b[0m losses \u001b[38;5;241m=\u001b[39m []\n\u001b[1;32m     37\u001b[0m \u001b[38;5;28;01mfor\u001b[39;00m j \u001b[38;5;129;01min\u001b[39;00m \u001b[38;5;28mrange\u001b[39m(num_tests):\n\u001b[0;32m---> 38\u001b[0m     lrs, i, best_loss \u001b[38;5;241m=\u001b[39m \u001b[43mvalidate\u001b[49m\u001b[43m(\u001b[49m\u001b[43mfunc_obj\u001b[49m\u001b[43m,\u001b[49m\u001b[43m \u001b[49m\u001b[43mparsed\u001b[49m\u001b[43m,\u001b[49m\u001b[43m \u001b[49m\u001b[43mdelay_type\u001b[49m\u001b[43m,\u001b[49m\u001b[43m \u001b[49m\u001b[43mnum_points\u001b[49m\u001b[43m)\u001b[49m\n\u001b[1;32m     39\u001b[0m     \u001b[38;5;28;01mif\u001b[39;00m lrs[i] \u001b[38;5;129;01min\u001b[39;00m lr_dict:\n\u001b[1;32m     40\u001b[0m         lr_dict[lrs[i]] \u001b[38;5;241m+\u001b[39m\u001b[38;5;241m=\u001b[39m \u001b[38;5;241m1\u001b[39m\n",
      "Input \u001b[0;32mIn [4]\u001b[0m, in \u001b[0;36mvalidate\u001b[0;34m(func_obj, parsed, delay_type, num_points)\u001b[0m\n\u001b[1;32m     22\u001b[0m mean_losses \u001b[38;5;241m=\u001b[39m []\n\u001b[1;32m     23\u001b[0m \u001b[38;5;28;01mfor\u001b[39;00m i, lr \u001b[38;5;129;01min\u001b[39;00m \u001b[38;5;28menumerate\u001b[39m(lrs):\n\u001b[0;32m---> 24\u001b[0m     \u001b[43mfunc_obj\u001b[49m\u001b[38;5;241;43m.\u001b[39;49m\u001b[43moptimize\u001b[49m\u001b[43m(\u001b[49m\u001b[43mdelay_type\u001b[49m\u001b[43m,\u001b[49m\u001b[43m \u001b[49m\u001b[43mparam_type\u001b[49m\u001b[38;5;241;43m=\u001b[39;49m\u001b[38;5;124;43m'\u001b[39;49m\u001b[38;5;124;43mgiven\u001b[39;49m\u001b[38;5;124;43m'\u001b[39;49m\u001b[43m,\u001b[49m\u001b[43m \u001b[49m\u001b[43mconst_lr\u001b[49m\u001b[38;5;241;43m=\u001b[39;49m\u001b[38;5;28;43;01mTrue\u001b[39;49;00m\u001b[43m,\u001b[49m\u001b[43m \u001b[49m\u001b[43msave_state\u001b[49m\u001b[38;5;241;43m=\u001b[39;49m\u001b[38;5;28;43;01mFalse\u001b[39;49;00m\u001b[43m,\u001b[49m\u001b[43m \u001b[49m\u001b[43msave_loss\u001b[49m\u001b[38;5;241;43m=\u001b[39;49m\u001b[38;5;28;43;01mTrue\u001b[39;49;00m\u001b[43m,\u001b[49m\u001b[43m \u001b[49m\n\u001b[1;32m     25\u001b[0m \u001b[43m                      \u001b[49m\u001b[43msave_grad\u001b[49m\u001b[38;5;241;43m=\u001b[39;49m\u001b[38;5;28;43;01mFalse\u001b[39;49;00m\u001b[43m,\u001b[49m\u001b[43m \u001b[49m\u001b[43msave_iters\u001b[49m\u001b[38;5;241;43m=\u001b[39;49m\u001b[38;5;28;43;01mFalse\u001b[39;49;00m\u001b[43m,\u001b[49m\u001b[43m \u001b[49m\u001b[43mparam_file\u001b[49m\u001b[38;5;241;43m=\u001b[39;49m\u001b[38;5;28;43;01mNone\u001b[39;49;00m\u001b[43m,\u001b[49m\u001b[43m \u001b[49m\u001b[43mlearning_rate\u001b[49m\u001b[38;5;241;43m=\u001b[39;49m\u001b[43mlr\u001b[49m\u001b[43m)\u001b[49m\n\u001b[1;32m     26\u001b[0m     mean_losses\u001b[38;5;241m.\u001b[39mappend(func_obj\u001b[38;5;241m.\u001b[39mget_mean_final(func_obj\u001b[38;5;241m.\u001b[39mloss_vals))\n\u001b[1;32m     28\u001b[0m ind \u001b[38;5;241m=\u001b[39m np\u001b[38;5;241m.\u001b[39margmin(mean_losses)\n",
      "File \u001b[0;32m~/Desktop/Research/delay-optimizer/DelayEffects/Analyzer_new.py:215\u001b[0m, in \u001b[0;36mFuncOpt.optimize\u001b[0;34m(self, delay_type, param_type, break_opt, const_lr, save_state, save_loss, save_grad, save_iters, param_file, **kwargs)\u001b[0m\n\u001b[1;32m    211\u001b[0m \u001b[38;5;28mself\u001b[39m\u001b[38;5;241m.\u001b[39minitialize_delayer(save_state, save_loss, save_grad)\n\u001b[1;32m    213\u001b[0m \u001b[38;5;28;01mfor\u001b[39;00m x_init \u001b[38;5;129;01min\u001b[39;00m \u001b[38;5;28mself\u001b[39m\u001b[38;5;241m.\u001b[39mx_inits:\n\u001b[1;32m    214\u001b[0m     \u001b[38;5;66;03m# Perform the optimization for each initial point \u001b[39;00m\n\u001b[0;32m--> 215\u001b[0m     \u001b[38;5;28;43mself\u001b[39;49m\u001b[38;5;241;43m.\u001b[39;49m\u001b[43mdelayer\u001b[49m\u001b[38;5;241;43m.\u001b[39;49m\u001b[43moptimize\u001b[49m\u001b[43m(\u001b[49m\u001b[43mx_init\u001b[49m\u001b[43m,\u001b[49m\u001b[43m \u001b[49m\u001b[38;5;28;43mself\u001b[39;49m\u001b[38;5;241;43m.\u001b[39;49m\u001b[43mmaxiter\u001b[49m\u001b[43m,\u001b[49m\u001b[43m \u001b[49m\u001b[38;5;28;43mself\u001b[39;49m\u001b[38;5;241;43m.\u001b[39;49m\u001b[43mtol\u001b[49m\u001b[43m,\u001b[49m\u001b[43m \u001b[49m\u001b[43mbreak_opt\u001b[49m\u001b[43m)\u001b[49m\n\u001b[1;32m    217\u001b[0m     \u001b[38;5;66;03m# Save values\u001b[39;00m\n\u001b[1;32m    218\u001b[0m     \u001b[38;5;28;01mif\u001b[39;00m save_state \u001b[38;5;129;01mis\u001b[39;00m \u001b[38;5;28;01mTrue\u001b[39;00m:\n",
      "File \u001b[0;32m~/Desktop/Research/delay-optimizer/Optimizer_Scripts/Delayer_new.py:107\u001b[0m, in \u001b[0;36mDelayer.optimize\u001b[0;34m(self, x_init, maxiter, tol, break_opt)\u001b[0m\n\u001b[1;32m    105\u001b[0m \u001b[38;5;28;01mfor\u001b[39;00m i \u001b[38;5;129;01min\u001b[39;00m \u001b[38;5;28mrange\u001b[39m(\u001b[38;5;241m1\u001b[39m, maxiter\u001b[38;5;241m+\u001b[39m\u001b[38;5;241m1\u001b[39m):\n\u001b[1;32m    106\u001b[0m     old_state \u001b[38;5;241m=\u001b[39m new_state                   \u001b[38;5;66;03m# Keep the old state\u001b[39;00m\n\u001b[0;32m--> 107\u001b[0m     new_state \u001b[38;5;241m=\u001b[39m \u001b[38;5;28;43mself\u001b[39;49m\u001b[38;5;241;43m.\u001b[39;49m\u001b[43mupdate\u001b[49m\u001b[43m(\u001b[49m\u001b[43mi\u001b[49m\u001b[43m,\u001b[49m\u001b[43m \u001b[49m\u001b[38;5;28;43mnext\u001b[39;49m\u001b[43m(\u001b[49m\u001b[43mD_gen\u001b[49m\u001b[43m)\u001b[49m\u001b[43m)\u001b[49m \u001b[38;5;66;03m# Update!\u001b[39;00m\n\u001b[1;32m    109\u001b[0m     \u001b[38;5;28;01mif\u001b[39;00m \u001b[38;5;28mself\u001b[39m\u001b[38;5;241m.\u001b[39msave_loss \u001b[38;5;129;01mis\u001b[39;00m \u001b[38;5;28;01mTrue\u001b[39;00m:              \u001b[38;5;66;03m# Save loss value\u001b[39;00m\n\u001b[1;32m    110\u001b[0m         \u001b[38;5;28mself\u001b[39m\u001b[38;5;241m.\u001b[39mloss_list\u001b[38;5;241m.\u001b[39mappend(\u001b[38;5;28mself\u001b[39m\u001b[38;5;241m.\u001b[39mloss(new_state))\n",
      "File \u001b[0;32m~/Desktop/Research/delay-optimizer/Optimizer_Scripts/Delayer_new.py:67\u001b[0m, in \u001b[0;36mDelayer.update\u001b[0;34m(self, i, D)\u001b[0m\n\u001b[1;32m     65\u001b[0m \u001b[38;5;66;03m# Update!\u001b[39;00m\n\u001b[1;32m     66\u001b[0m new_state \u001b[38;5;241m=\u001b[39m \u001b[38;5;28mself\u001b[39m\u001b[38;5;241m.\u001b[39mOptimizer(del_state, x_grad, i)    \n\u001b[0;32m---> 67\u001b[0m \u001b[38;5;28;43mself\u001b[39;49m\u001b[38;5;241;43m.\u001b[39;49m\u001b[43madd_new_state\u001b[49m\u001b[43m(\u001b[49m\u001b[43mnew_state\u001b[49m\u001b[43m)\u001b[49m    \n\u001b[1;32m     69\u001b[0m \u001b[38;5;28;01mreturn\u001b[39;00m new_state\n",
      "File \u001b[0;32m~/Desktop/Research/delay-optimizer/Optimizer_Scripts/Delayer_new.py:78\u001b[0m, in \u001b[0;36mDelayer.add_new_state\u001b[0;34m(self, new_state)\u001b[0m\n\u001b[1;32m     75\u001b[0m     \u001b[38;5;28mself\u001b[39m\u001b[38;5;241m.\u001b[39mstate_list\u001b[38;5;241m.\u001b[39mappend(new_state)\n\u001b[1;32m     77\u001b[0m \u001b[38;5;66;03m# Roll forward the delay state array\u001b[39;00m\n\u001b[0;32m---> 78\u001b[0m \u001b[38;5;28mself\u001b[39m\u001b[38;5;241m.\u001b[39mtime_series \u001b[38;5;241m=\u001b[39m \u001b[43mnp\u001b[49m\u001b[38;5;241;43m.\u001b[39;49m\u001b[43mroll\u001b[49m\u001b[43m(\u001b[49m\u001b[38;5;28;43mself\u001b[39;49m\u001b[38;5;241;43m.\u001b[39;49m\u001b[43mtime_series\u001b[49m\u001b[43m,\u001b[49m\u001b[43m \u001b[49m\u001b[38;5;241;43m1\u001b[39;49m\u001b[43m,\u001b[49m\u001b[43m \u001b[49m\u001b[43maxis\u001b[49m\u001b[38;5;241;43m=\u001b[39;49m\u001b[38;5;241;43m0\u001b[39;49m\u001b[43m)\u001b[49m\n\u001b[1;32m     79\u001b[0m \u001b[38;5;28mself\u001b[39m\u001b[38;5;241m.\u001b[39mtime_series[\u001b[38;5;241m0\u001b[39m] \u001b[38;5;241m=\u001b[39m new_state\n",
      "File \u001b[0;32m<__array_function__ internals>:5\u001b[0m, in \u001b[0;36mroll\u001b[0;34m(*args, **kwargs)\u001b[0m\n",
      "File \u001b[0;32m~/anaconda3/lib/python3.9/site-packages/numpy/core/numeric.py:1236\u001b[0m, in \u001b[0;36mroll\u001b[0;34m(a, shift, axis)\u001b[0m\n\u001b[1;32m   1234\u001b[0m \u001b[38;5;28;01mfor\u001b[39;00m indices \u001b[38;5;129;01min\u001b[39;00m itertools\u001b[38;5;241m.\u001b[39mproduct(\u001b[38;5;241m*\u001b[39mrolls):\n\u001b[1;32m   1235\u001b[0m     arr_index, res_index \u001b[38;5;241m=\u001b[39m \u001b[38;5;28mzip\u001b[39m(\u001b[38;5;241m*\u001b[39mindices)\n\u001b[0;32m-> 1236\u001b[0m     \u001b[43mresult\u001b[49m\u001b[43m[\u001b[49m\u001b[43mres_index\u001b[49m\u001b[43m]\u001b[49m \u001b[38;5;241m=\u001b[39m a[arr_index]\n\u001b[1;32m   1238\u001b[0m \u001b[38;5;28;01mreturn\u001b[39;00m result\n",
      "\u001b[0;31mKeyboardInterrupt\u001b[0m: "
     ]
    }
   ],
   "source": [
    "func_obj = ack[100]\n",
    "multi_validate(func_obj, delay_type, num_points, num_tests)"
   ]
  },
  {
   "cell_type": "code",
   "execution_count": null,
   "id": "e8d9f248",
   "metadata": {},
   "outputs": [],
   "source": [
    "func_obj = ack[1000]\n",
    "multi_validate(func_obj, delay_type, num_points, num_tests)"
   ]
  },
  {
   "cell_type": "code",
   "execution_count": null,
   "id": "2877c5f7",
   "metadata": {},
   "outputs": [],
   "source": []
  },
  {
   "cell_type": "code",
   "execution_count": null,
   "id": "7b741b87",
   "metadata": {},
   "outputs": [],
   "source": [
    "delay_type = Stochastic(max_L=1, num_delays=2000)"
   ]
  },
  {
   "cell_type": "code",
   "execution_count": null,
   "id": "ff966d99",
   "metadata": {},
   "outputs": [],
   "source": [
    "func_obj = ack[2]\n",
    "multi_validate(func_obj, delay_type, num_points, num_tests)"
   ]
  },
  {
   "cell_type": "code",
   "execution_count": null,
   "id": "36df62cd",
   "metadata": {},
   "outputs": [],
   "source": [
    "func_obj = ack[10]\n",
    "multi_validate(func_obj, delay_type, num_points, num_tests)"
   ]
  },
  {
   "cell_type": "code",
   "execution_count": null,
   "id": "20befd06",
   "metadata": {},
   "outputs": [],
   "source": [
    "func_obj = ack[100]\n",
    "multi_validate(func_obj, delay_type, num_points, num_tests)"
   ]
  },
  {
   "cell_type": "code",
   "execution_count": null,
   "id": "e890159e",
   "metadata": {},
   "outputs": [],
   "source": [
    "func_obj = ack[1000]\n",
    "multi_validate(func_obj, delay_type, num_points, num_tests)"
   ]
  },
  {
   "cell_type": "code",
   "execution_count": null,
   "id": "67d51530",
   "metadata": {},
   "outputs": [],
   "source": []
  },
  {
   "cell_type": "code",
   "execution_count": 18,
   "id": "7dd6a15f",
   "metadata": {},
   "outputs": [],
   "source": [
    "params = np.array([    # Placeholder, these values have no meaning\n",
    "    ['Ackley', 2, False, 0, 3.1561, 0.7792, 2300.0],     \n",
    "    ['Ackley', 10, False, 0, 3.1838, 0.6166, 1300.0],    \n",
    "    ['Ackley', 100, False, 0, 3.7281, 0.3693, 400.0],   \n",
    "    ['Ackley', 1000, False, 0, 2.7389, 0.4849, 1400.0], \n",
    "    ['Ackley', 2, True, 1, 2.048, 0.8246, 300.0],        \n",
    "    ['Ackley', 10, True, 1, 2.8954, 0.6782, 800.0],       \n",
    "    ['Ackley', 100, True, 1, 1.9611, 0.7111, 800.0],   \n",
    "    ['Ackley', 1000, True, 1, 3.603, 0.6938, 1300.0],    \n",
    "])"
   ]
  },
  {
   "cell_type": "code",
   "execution_count": null,
   "id": "b87cec9a",
   "metadata": {},
   "outputs": [],
   "source": []
  },
  {
   "cell_type": "code",
   "execution_count": null,
   "id": "b871fc49",
   "metadata": {},
   "outputs": [],
   "source": []
  }
 ],
 "metadata": {
  "kernelspec": {
   "display_name": "Python 3 (ipykernel)",
   "language": "python",
   "name": "python3"
  },
  "language_info": {
   "codemirror_mode": {
    "name": "ipython",
    "version": 3
   },
   "file_extension": ".py",
   "mimetype": "text/x-python",
   "name": "python",
   "nbconvert_exporter": "python",
   "pygments_lexer": "ipython3",
   "version": "3.9.12"
  }
 },
 "nbformat": 4,
 "nbformat_minor": 5
}
