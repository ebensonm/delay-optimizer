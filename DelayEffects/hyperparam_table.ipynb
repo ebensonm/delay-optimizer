{
 "cells": [
  {
   "cell_type": "code",
   "execution_count": 1,
   "metadata": {},
   "outputs": [],
   "source": [
    "import sys\n",
    "sys.path.append('/home/yungdankblast/DelayedOptimization/delay-optimizer')\n",
    "from Optimizer_Scripts.Data import Data"
   ]
  },
  {
   "cell_type": "code",
   "execution_count": 2,
   "metadata": {},
   "outputs": [],
   "source": [
    "def get_filename(loss_name, d, file_tag):\n",
    "    return f\"Data/{loss_name}{d}d_{file_tag}.dat\"\n",
    "\n",
    "def load(loss_name, d, file_tag):\n",
    "    filename = get_filename(loss_name, d, file_tag)\n",
    "    return Data.load(filename)"
   ]
  },
  {
   "cell_type": "code",
   "execution_count": 3,
   "metadata": {},
   "outputs": [],
   "source": [
    "# Constant learning rate hyperparameters\n",
    "loss_names = ['Ackley', 'Rastrigin', 'Rosenbrock', 'Zakharov']\n",
    "dimensions = [2, 10, 100, 1000]\n",
    "file_tags = [\"optimal_undel\", \"optimal_stochL1\"]\n",
    "delay_types = [\"undelayed\", \"stochastic\"]\n",
    "\n",
    "with open (\"Data/hyperparameters.csv\", \"w\") as outfile:\n",
    "    outfile.write(\"loss_name,dim,delay_type,lr_type,lr_range_lower,lr_range_upper,learning_rate,min_lr_range_lower,min_lr_range_upper,min_lr,max_lr_range_lower,max_lr_range_upper,max_lr,step_size_range_lower,step_size_range_upper,step_size,gamma_range_lower,gamma_range_upper,gamma,p_range_lower,p_range_upper,p\\n\")\n",
    "    for loss_name in loss_names:\n",
    "        for i, file_tag in enumerate(file_tags):\n",
    "            for d in dimensions:\n",
    "                data = load(loss_name, d, file_tag)\n",
    "                learning_rate = data.lr_params[\"learning_rate\"]\n",
    "                outfile.write(f\"{loss_name},{d},{delay_types[i]},const,,,{learning_rate},,,,,,,,,,,,,,,\\n\")\n",
    "\n",
    "# Decaying learning rate hyperparameters\n",
    "loss_names = ['Ackley', 'Zakharov']\n",
    "dimensions = [1000]\n",
    "lr_types = [\"sin-2\", \"tri-2\", \"inv\"]\n",
    "file_tags = [\"optimal_undel\", \"optimal_stochL1\"]\n",
    "delay_types = [\"undelayed\", \"stochastic\"]\n",
    "\n",
    "with open (\"Data/hyperparameters.csv\", \"a\") as outfile:\n",
    "    for loss_name in loss_names:\n",
    "        for i, tag in enumerate(file_tags):\n",
    "            for d in dimensions:\n",
    "                for lr_type in [\"sin2\", \"tri2\"]:\n",
    "                    file_tag = f\"{tag}_{lr_type}\" \n",
    "                    data = load(loss_name, d, file_tag)\n",
    "                    max_lr = data.lr_params[\"max_lr\"]\n",
    "                    min_lr = data.lr_params[\"min_lr\"]\n",
    "                    step_size = data.lr_params[\"step_size\"]\n",
    "                    outfile.write(f\"{loss_name},{d},{delay_types[i]},{lr_type},,,,,,{min_lr},,,{max_lr},,,{step_size},,,,,,\\n\")\n",
    "\n",
    "                lr_type = \"inv\"\n",
    "                file_tag = f\"{tag}_{lr_type}\" \n",
    "                data = load(loss_name, d, file_tag)\n",
    "                max_lr = data.lr_params[\"max_lr\"]\n",
    "                gamma = data.lr_params[\"gamma\"]\n",
    "                p = data.lr_params[\"p\"]\n",
    "                outfile.write(f\"{loss_name},{d},{delay_types[i]},{lr_type},,,,,,,,,{max_lr},,,,,,{gamma},,,{p}\\n\")"
   ]
  },
  {
   "cell_type": "code",
   "execution_count": null,
   "metadata": {},
   "outputs": [],
   "source": []
  }
 ],
 "metadata": {
  "kernelspec": {
   "display_name": ".venv",
   "language": "python",
   "name": "python3"
  },
  "language_info": {
   "codemirror_mode": {
    "name": "ipython",
    "version": 3
   },
   "file_extension": ".py",
   "mimetype": "text/x-python",
   "name": "python",
   "nbconvert_exporter": "python",
   "pygments_lexer": "ipython3",
   "version": "3.10.12"
  }
 },
 "nbformat": 4,
 "nbformat_minor": 2
}
