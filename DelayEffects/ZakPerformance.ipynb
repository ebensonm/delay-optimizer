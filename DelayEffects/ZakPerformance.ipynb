{
 "cells": [
  {
   "cell_type": "code",
   "execution_count": 1,
   "id": "c232018f",
   "metadata": {},
   "outputs": [],
   "source": [
    "import numpy as np\n",
    "import sys\n",
    "sys.path.append('/home/cayjobla/Desktop/Research/delay-optimizer')\n",
    "from DelayEffects.Analyzer import Analyzer\n",
    "import os\n",
    "from matplotlib import pyplot as plt\n",
    "import pandas as pd"
   ]
  },
  {
   "cell_type": "code",
   "execution_count": 2,
   "id": "f9a92ab6",
   "metadata": {},
   "outputs": [],
   "source": [
    "# Initialize\n",
    "loss_name = 'Zakharov'\n",
    "zak2d = Analyzer(2, loss_name)\n",
    "zak10d = Analyzer(10, loss_name)\n",
    "zak100d = Analyzer(100, loss_name)\n",
    "zak1000d = Analyzer(1000, loss_name)"
   ]
  },
  {
   "cell_type": "code",
   "execution_count": 3,
   "id": "1e209030",
   "metadata": {},
   "outputs": [],
   "source": [
    "# Read params\n",
    "params = pd.read_csv(\"../hyperparameter_data.csv\")"
   ]
  },
  {
   "cell_type": "markdown",
   "id": "386ebb17",
   "metadata": {},
   "source": [
    "## Helper Functions"
   ]
  },
  {
   "cell_type": "code",
   "execution_count": 4,
   "id": "81299127",
   "metadata": {},
   "outputs": [],
   "source": [
    "def parse(args):\n",
    "    new_params = params.copy()\n",
    "    for arg, val in args.items():\n",
    "        new_params = new_params[new_params[arg] == val]\n",
    "        \n",
    "    return new_params\n",
    "\n",
    "def validate(analyzer, args, num_params=5, num_points=200, drop_cols=None, verbose=False):\n",
    "    # Initialize\n",
    "    if drop_cols is None:\n",
    "        drop_cols = [\"loss_name\", \"dim\", \"use_delays\", \"max_L\", \"constant_learning_rate\", \"learning_rate\", \n",
    "                 \"min_val\", \"max_val\", \"num_delays\", \"maxiter\", \"optimizer_name\", \"tol\", \"max_evals\",\n",
    "                 \"symmetric_delays\", \"num_tests\", \"print_log\", \"vary_percent\", \"hyper_minimize\", \"clip_grad\",\n",
    "                 \"clip_val\", \"num_test_initials\", \"test_time\", \"num_initial_values\"]\n",
    "    delayed = args['use_delays']\n",
    "    \n",
    "    # Parse hyperparameters\n",
    "    parsed = parse(args)\n",
    "    parsed = parsed.drop(columns=drop_cols)\n",
    "    parsed = parsed.sort_values('best_loss')\n",
    "    \n",
    "    # Extract params\n",
    "    vals = parsed.loc[:,['max_learning_rate', 'min_learning_rate', 'step_size']].values\n",
    "    if len(vals) > num_params:\n",
    "        vals = vals[:num_params]\n",
    "    \n",
    "    # Add control params\n",
    "    vals = np.vstack(([[2.98, 0.23, 740.]], vals))\n",
    "    \n",
    "    analyzer.initialize_points(num_points, 'random')\n",
    "    mean_losses = []\n",
    "    for i, params in enumerate(vals):\n",
    "        if delayed is True:\n",
    "            analyzer.del_params = {'max_learning_rate': params[0], 'min_learning_rate': params[1], \n",
    "                                   'step_size': params[2]}\n",
    "        else:\n",
    "            analyzer.params = {'max_learning_rate': params[0], 'min_learning_rate': params[1], \n",
    "                                   'step_size': params[2]}\n",
    "        analyzer.calculate_save_values(delayed)\n",
    "        \n",
    "        if delayed is True:\n",
    "            conv = analyzer.del_conv\n",
    "        else:\n",
    "            conv = analyzer.conv\n",
    "            \n",
    "        mean_losses.append(np.mean(analyzer.extract_values(delayed, 'loss')[1]))\n",
    "        \n",
    "    return vals, mean_losses\n",
    "            \n",
    "            \n",
    "def results(vals, mean_losses): \n",
    "    i = np.argmin(mean_losses)\n",
    "    best_params = np.round(vals[i], 2)\n",
    "    worst = np.argwhere(mean_losses > mean_losses[0]).ravel()\n",
    "    \n",
    "    return float(\"%.3g\" % mean_losses[i]), best_params, i, worst\n",
    "        \n",
    "def plot_val(mean_losses):\n",
    "    ind = np.arange(len(mean_losses))\n",
    "    ticks = [i for i in ind]\n",
    "    ticks[0] = \"Control\"\n",
    "    plt.bar(ind, mean_losses, tick_label=ticks, color='C2')\n",
    "    plt.ylabel(\"Mean Loss\")\n",
    "    plt.show()\n",
    "    \n",
    "def drop_params(loss_name, max_learning_rate, min_learning_rate, step_size):\n",
    "    new_params = params.copy()\n",
    "    new_params = new_params[new_params[\"loss_name\"]==loss_name]\n",
    "    new_params = new_params[new_params[\"max_learning_rate\"]==max_learning_rate]\n",
    "    new_params = new_params[new_params[\"min_learning_rate\"]==min_learning_rate]\n",
    "    new_params = new_params[new_params[\"step_size\"]==step_size]\n",
    "    if len(new_params.index) > 0:\n",
    "        index = new_params.index[0]\n",
    "        return params.drop(index)\n",
    "    else:\n",
    "        return params"
   ]
  },
  {
   "cell_type": "markdown",
   "id": "98529af2",
   "metadata": {},
   "source": [
    "# Undelayed"
   ]
  },
  {
   "cell_type": "code",
   "execution_count": 5,
   "id": "f8a504a9",
   "metadata": {},
   "outputs": [],
   "source": [
    "# Initialize\n",
    "num_tests = 5\n",
    "num_points = 500\n",
    "num_params = 8"
   ]
  },
  {
   "cell_type": "code",
   "execution_count": 6,
   "id": "cdc85b90",
   "metadata": {},
   "outputs": [
    {
     "name": "stdout",
     "output_type": "stream",
     "text": [
      "Best Losses: [2.11e-07, 1.89e-07, 1.84e-07, 2.4e-07, 2.08e-07]\n",
      "Best Params Indices: {6: 2, 4: 1, 3: 2}\n",
      "Worse than Control: {7: 3, 2: 1, 3: 1, 8: 2, 1: 1, 6: 1}\n"
     ]
    }
   ],
   "source": [
    "# 2d undelayed\n",
    "args = {\"loss_name\":'Zakharov', \"dim\":2, \"use_delays\":False, \"constant_learning_rate\":False}\n",
    "\n",
    "good_ind = []\n",
    "bad_ind = []\n",
    "best_losses = []\n",
    "\n",
    "for j in range(num_tests):\n",
    "    vals, mean_losses = validate(zak2d, args, num_params, num_points)\n",
    "    best_loss, best_params, i, worse_ind = results(vals, mean_losses)\n",
    "    bad_ind = bad_ind + list(worse_ind)\n",
    "    good_ind.append(i)\n",
    "    best_losses.append(best_loss)\n",
    "    \n",
    "print(\"Best Losses:\", best_losses)\n",
    "print(\"Best Params Indices:\", {ind:good_ind.count(ind) for ind in good_ind})\n",
    "print(\"Worse than Control:\", {ind:bad_ind.count(ind) for ind in bad_ind})"
   ]
  },
  {
   "cell_type": "code",
   "execution_count": 7,
   "id": "a792f857",
   "metadata": {},
   "outputs": [
    {
     "data": {
      "image/png": "[encoded data removed]",
      "text/plain": [
       "<Figure size 432x288 with 1 Axes>"
      ]
     },
     "metadata": {
      "needs_background": "light"
     },
     "output_type": "display_data"
    }
   ],
   "source": [
    "plot_val(mean_losses)"
   ]
  },
  {
   "cell_type": "code",
   "execution_count": 9,
   "id": "01d59b1b",
   "metadata": {},
   "outputs": [
    {
     "name": "stdout",
     "output_type": "stream",
     "text": [
      "[2.79292934e+00 7.08893596e-01 9.50000000e+02]\n",
      "[3.27078764e+00 6.78457773e-01 1.37500000e+03]\n",
      "[3.46244939e+00 6.49080919e-01 1.15000000e+03]\n"
     ]
    }
   ],
   "source": [
    "print(vals[6])\n",
    "print(vals[4])\n",
    "print(vals[3])"
   ]
  },
  {
   "cell_type": "code",
   "execution_count": 79,
   "id": "9abfa6c1",
   "metadata": {},
   "outputs": [],
   "source": [
    "# OLD - dropped 1,2,7,8\n",
    "params = drop_params('Zakharov', vals[1][0], vals[1][1], vals[1][2])\n",
    "params = drop_params('Zakharov', vals[2][0], vals[1][1], vals[1][2])\n",
    "params = drop_params('Zakharov', vals[7][0], vals[1][1], vals[1][2])\n",
    "params = drop_params('Zakharov', vals[8][0], vals[1][1], vals[1][2])"
   ]
  },
  {
   "cell_type": "code",
   "execution_count": 6,
   "id": "6ae0a124",
   "metadata": {},
   "outputs": [
    {
     "name": "stdout",
     "output_type": "stream",
     "text": [
      "Best Losses: [112.0, 111.0, 126.0, 112.0, 107.0]\n",
      "Best Params Indices: {6: 5}\n",
      "Worse than Control: {5: 1}\n"
     ]
    }
   ],
   "source": [
    "# 10d undelayed\n",
    "args = {\"loss_name\":'Zakharov', \"dim\":10, \"use_delays\":False, \"constant_learning_rate\":False}\n",
    "\n",
    "good_ind = []\n",
    "bad_ind = []\n",
    "best_losses = []\n",
    "\n",
    "for j in range(num_tests):\n",
    "    vals, mean_losses = validate(zak10d, args, num_params, num_points)\n",
    "    best_loss, best_params, i, worse_ind = results(vals, mean_losses)\n",
    "    bad_ind = bad_ind + list(worse_ind)\n",
    "    good_ind.append(i)\n",
    "    best_losses.append(best_loss)\n",
    "    \n",
    "print(\"Best Losses:\", best_losses)\n",
    "print(\"Best Params Indices:\", {ind:good_ind.count(ind) for ind in good_ind})\n",
    "print(\"Worse than Control:\", {ind:bad_ind.count(ind) for ind in bad_ind})"
   ]
  },
  {
   "cell_type": "code",
   "execution_count": 7,
   "id": "895eab12",
   "metadata": {},
   "outputs": [
    {
     "data": {
      "image/png": "[encoded data removed]",
      "text/plain": [
       "<Figure size 432x288 with 1 Axes>"
      ]
     },
     "metadata": {
      "needs_background": "light"
     },
     "output_type": "display_data"
    }
   ],
   "source": [
    "plot_val(mean_losses)"
   ]
  },
  {
   "cell_type": "code",
   "execution_count": 7,
   "id": "6a922e6b",
   "metadata": {},
   "outputs": [
    {
     "name": "stdout",
     "output_type": "stream",
     "text": [
      "[3.28731442e+00 7.99542299e-01 1.47500000e+03]\n"
     ]
    }
   ],
   "source": [
    "print(vals[6])"
   ]
  },
  {
   "cell_type": "code",
   "execution_count": null,
   "id": "06d4f63f",
   "metadata": {},
   "outputs": [],
   "source": [
    "# No params dropped for 10d"
   ]
  },
  {
   "cell_type": "code",
   "execution_count": 10,
   "id": "1580707b",
   "metadata": {},
   "outputs": [
    {
     "name": "stdout",
     "output_type": "stream",
     "text": [
      "Best Losses: [240000.0, 390000.0, 357000.0, 374000.0, 139000.0]\n",
      "Best Params Indices: {2: 2, 7: 2, 4: 1}\n",
      "Worse than Control: {6: 4, 1: 3, 2: 3, 3: 3, 4: 2, 5: 3, 8: 3}\n"
     ]
    }
   ],
   "source": [
    "# 100d undelayed\n",
    "args = {\"loss_name\":'Zakharov', \"dim\":100, \"use_delays\":False, \"constant_learning_rate\":False}\n",
    "\n",
    "good_ind = []\n",
    "bad_ind = []\n",
    "best_losses = []\n",
    "\n",
    "for j in range(num_tests):\n",
    "    vals, mean_losses = validate(zak100d, args, num_params, num_points)\n",
    "    best_loss, best_params, i, worse_ind = results(vals, mean_losses)\n",
    "    bad_ind = bad_ind + list(worse_ind)\n",
    "    good_ind.append(i)\n",
    "    best_losses.append(best_loss)\n",
    "    \n",
    "print(\"Best Losses:\", best_losses)\n",
    "print(\"Best Params Indices:\", {ind:good_ind.count(ind) for ind in good_ind})\n",
    "print(\"Worse than Control:\", {ind:bad_ind.count(ind) for ind in bad_ind})"
   ]
  },
  {
   "cell_type": "code",
   "execution_count": 11,
   "id": "2f6d575e",
   "metadata": {},
   "outputs": [
    {
     "data": {
      "image/png": "[encoded data removed]",
      "text/plain": [
       "<Figure size 432x288 with 1 Axes>"
      ]
     },
     "metadata": {
      "needs_background": "light"
     },
     "output_type": "display_data"
    }
   ],
   "source": [
    "plot_val(mean_losses)"
   ]
  },
  {
   "cell_type": "code",
   "execution_count": 12,
   "id": "e27afffe",
   "metadata": {},
   "outputs": [
    {
     "name": "stdout",
     "output_type": "stream",
     "text": [
      "[  2.43413255   0.54351886 200.        ]\n",
      "[  2.65366164   0.50533453 100.        ]\n",
      "[2.93457642e+00 5.83959959e-01 6.00000000e+02]\n"
     ]
    }
   ],
   "source": [
    "print(vals[2])\n",
    "print(vals[7])\n",
    "print(vals[4])"
   ]
  },
  {
   "cell_type": "code",
   "execution_count": 9,
   "id": "58c1bad2",
   "metadata": {},
   "outputs": [],
   "source": [
    "params = drop_params('Zakharov', vals[1][0], vals[1][1], vals[1][2])\n",
    "params = drop_params('Zakharov', vals[6][0], vals[6][1], vals[6][2])\n",
    "params = drop_params('Zakharov', vals[8][0], vals[8][1], vals[8][2])"
   ]
  },
  {
   "cell_type": "code",
   "execution_count": 11,
   "id": "365f7c67",
   "metadata": {},
   "outputs": [
    {
     "name": "stdout",
     "output_type": "stream",
     "text": [
      "Best Losses: [148000000000.0, 77200000000.0, 55300000000.0, 875000000000.0, 701000000000.0, 112000000000.0, 529000000000.0, 83400000000.0]\n",
      "Best Params Indices: {1: 4, 2: 2, 10: 1, 3: 1}\n",
      "Worse than Control: {3: 5, 5: 5, 6: 7, 8: 2, 9: 5, 10: 5, 2: 2, 4: 3, 7: 4, 1: 3}\n"
     ]
    }
   ],
   "source": [
    "# 1000d undelayed\n",
    "args = {\"loss_name\":'Zakharov', \"dim\":1000, \"use_delays\":False, \"constant_learning_rate\":False}\n",
    "\n",
    "good_ind = []\n",
    "bad_ind = []\n",
    "best_losses = []\n",
    "\n",
    "for j in range(8):\n",
    "    vals, mean_losses = validate(zak1000d, args, 10, num_points)\n",
    "    best_loss, best_params, i, worse_ind = results(vals, mean_losses)\n",
    "    bad_ind = bad_ind + list(worse_ind)\n",
    "    good_ind.append(i)\n",
    "    best_losses.append(best_loss)\n",
    "    \n",
    "print(\"Best Losses:\", best_losses)\n",
    "print(\"Best Params Indices:\", {ind:good_ind.count(ind) for ind in good_ind})\n",
    "print(\"Worse than Control:\", {ind:bad_ind.count(ind) for ind in bad_ind})"
   ]
  },
  {
   "cell_type": "code",
   "execution_count": 12,
   "id": "e4690b17",
   "metadata": {},
   "outputs": [
    {
     "data": {
      "image/png": "[encoded data removed]",
      "text/plain": [
       "<Figure size 432x288 with 1 Axes>"
      ]
     },
     "metadata": {
      "needs_background": "light"
     },
     "output_type": "display_data"
    }
   ],
   "source": [
    "plot_val(mean_losses)"
   ]
  },
  {
   "cell_type": "code",
   "execution_count": 13,
   "id": "bfc6d695",
   "metadata": {},
   "outputs": [
    {
     "name": "stdout",
     "output_type": "stream",
     "text": [
      "[2.06909896e+00 2.11331257e-02 7.00000000e+02]\n"
     ]
    }
   ],
   "source": [
    "print(vals[1])"
   ]
  },
  {
   "cell_type": "code",
   "execution_count": 10,
   "id": "a022cb16",
   "metadata": {},
   "outputs": [],
   "source": [
    "for i in [1,3,6,8,9,10]:\n",
    "    params = drop_params('Zakharov', vals[i][0], vals[i][1], vals[i][2])"
   ]
  },
  {
   "cell_type": "markdown",
   "id": "7957093d",
   "metadata": {},
   "source": [
    "# Max Delay of 1"
   ]
  },
  {
   "cell_type": "code",
   "execution_count": 16,
   "id": "9b7f38a3",
   "metadata": {},
   "outputs": [
    {
     "name": "stdout",
     "output_type": "stream",
     "text": [
      "Best Losses: [0.063, 0.0324, 0.0458, 0.0257, 0.073]\n",
      "Best Params Indices: {3: 1, 6: 4}\n",
      "Worse than Control: {1: 2, 2: 1, 4: 4, 5: 5, 7: 5}\n"
     ]
    }
   ],
   "source": [
    "# 2d max_L=1\n",
    "args = {\"loss_name\":'Zakharov', \"dim\":2, \"use_delays\":True, \"max_L\":1, \"constant_learning_rate\":False}\n",
    "\n",
    "good_ind = []\n",
    "bad_ind = []\n",
    "best_losses = []\n",
    "\n",
    "for j in range(num_tests):\n",
    "    vals, mean_losses = validate(zak2d, args, num_params, num_points)\n",
    "    best_loss, best_params, i, worse_ind = results(vals, mean_losses)\n",
    "    bad_ind = bad_ind + list(worse_ind)\n",
    "    good_ind.append(i)\n",
    "    best_losses.append(best_loss)\n",
    "    \n",
    "print(\"Best Losses:\", best_losses)\n",
    "print(\"Best Params Indices:\", {ind:good_ind.count(ind) for ind in good_ind})\n",
    "print(\"Worse than Control:\", {ind:bad_ind.count(ind) for ind in bad_ind})"
   ]
  },
  {
   "cell_type": "code",
   "execution_count": 17,
   "id": "4cd47e6f",
   "metadata": {},
   "outputs": [
    {
     "data": {
      "image/png": "[encoded data removed]",
      "text/plain": [
       "<Figure size 432x288 with 1 Axes>"
      ]
     },
     "metadata": {
      "needs_background": "light"
     },
     "output_type": "display_data"
    }
   ],
   "source": [
    "plot_val(mean_losses)"
   ]
  },
  {
   "cell_type": "code",
   "execution_count": 18,
   "id": "5c2251f2",
   "metadata": {},
   "outputs": [
    {
     "name": "stdout",
     "output_type": "stream",
     "text": [
      "[3.38847564e+00 8.55564855e-01 1.30000000e+03]\n",
      "[3.46165524e+00 3.64139211e-01 8.00000000e+02]\n"
     ]
    }
   ],
   "source": [
    "print(vals[6])\n",
    "print(vals[1])"
   ]
  },
  {
   "cell_type": "code",
   "execution_count": 19,
   "id": "977a04c7",
   "metadata": {},
   "outputs": [],
   "source": [
    "params = drop_params('Zakharov', vals[4][0], vals[4][1], vals[4][2])\n",
    "params = drop_params('Zakharov', vals[5][0], vals[5][1], vals[5][2])\n",
    "params = drop_params('Zakharov', vals[7][0], vals[7][1], vals[7][2])"
   ]
  },
  {
   "cell_type": "code",
   "execution_count": 20,
   "id": "4bf23b2d",
   "metadata": {},
   "outputs": [
    {
     "name": "stdout",
     "output_type": "stream",
     "text": [
      "Best Losses: [114.0, 117.0, 107.0, 127.0, 117.0]\n",
      "Best Params Indices: {4: 5}\n",
      "Worse than Control: {6: 3, 2: 1, 3: 1}\n"
     ]
    }
   ],
   "source": [
    "# 10d max_L=1\n",
    "args = {\"loss_name\":'Zakharov', \"dim\":10, \"use_delays\":True, \"max_L\":1, \"constant_learning_rate\":False}\n",
    "\n",
    "good_ind = []\n",
    "bad_ind = []\n",
    "best_losses = []\n",
    "\n",
    "for j in range(num_tests):\n",
    "    vals, mean_losses = validate(zak10d, args, num_params, num_points)\n",
    "    best_loss, best_params, i, worse_ind = results(vals, mean_losses)\n",
    "    bad_ind = bad_ind + list(worse_ind)\n",
    "    good_ind.append(i)\n",
    "    best_losses.append(best_loss)\n",
    "    \n",
    "print(\"Best Losses:\", best_losses)\n",
    "print(\"Best Params Indices:\", {ind:good_ind.count(ind) for ind in good_ind})\n",
    "print(\"Worse than Control:\", {ind:bad_ind.count(ind) for ind in bad_ind})"
   ]
  },
  {
   "cell_type": "code",
   "execution_count": 21,
   "id": "9a8374b5",
   "metadata": {},
   "outputs": [
    {
     "data": {
      "image/png": "[encoded data removed]",
      "text/plain": [
       "<Figure size 432x288 with 1 Axes>"
      ]
     },
     "metadata": {
      "needs_background": "light"
     },
     "output_type": "display_data"
    }
   ],
   "source": [
    "plot_val(mean_losses)"
   ]
  },
  {
   "cell_type": "code",
   "execution_count": 22,
   "id": "95c17b76",
   "metadata": {},
   "outputs": [
    {
     "name": "stdout",
     "output_type": "stream",
     "text": [
      "[3.57336669e+00 7.32893514e-01 2.10000000e+03]\n"
     ]
    }
   ],
   "source": [
    "print(vals[4])"
   ]
  },
  {
   "cell_type": "code",
   "execution_count": null,
   "id": "83f17810",
   "metadata": {},
   "outputs": [],
   "source": [
    "params = drop_params('Zakharov', vals[6][0], vals[6][1], vals[6][2])"
   ]
  },
  {
   "cell_type": "code",
   "execution_count": 6,
   "id": "3d6f4792",
   "metadata": {},
   "outputs": [
    {
     "name": "stdout",
     "output_type": "stream",
     "text": [
      "Best Losses: [6180.0, 5260.0, 6370.0, 4940.0, 6160.0]\n",
      "Best Params Indices: {6: 2, 2: 1, 3: 2}\n",
      "Worse than Control: {8: 4, 1: 1, 4: 1}\n"
     ]
    }
   ],
   "source": [
    "# 100d max_L=1\n",
    "args = {\"loss_name\":'Zakharov', \"dim\":100, \"use_delays\":True, \"max_L\":1, \"constant_learning_rate\":False}\n",
    "\n",
    "good_ind = []\n",
    "bad_ind = []\n",
    "best_losses = []\n",
    "\n",
    "for j in range(num_tests):\n",
    "    vals, mean_losses = validate(zak100d, args, num_params, num_points)\n",
    "    best_loss, best_params, i, worse_ind = results(vals, mean_losses)\n",
    "    bad_ind = bad_ind + list(worse_ind)\n",
    "    good_ind.append(i)\n",
    "    best_losses.append(best_loss)\n",
    "    \n",
    "print(\"Best Losses:\", best_losses)\n",
    "print(\"Best Params Indices:\", {ind:good_ind.count(ind) for ind in good_ind})\n",
    "print(\"Worse than Control:\", {ind:bad_ind.count(ind) for ind in bad_ind})"
   ]
  },
  {
   "cell_type": "code",
   "execution_count": 7,
   "id": "16ab9e44",
   "metadata": {},
   "outputs": [
    {
     "data": {
      "image/png": "[encoded data removed]",
      "text/plain": [
       "<Figure size 432x288 with 1 Axes>"
      ]
     },
     "metadata": {
      "needs_background": "light"
     },
     "output_type": "display_data"
    }
   ],
   "source": [
    "plot_val(mean_losses)"
   ]
  },
  {
   "cell_type": "code",
   "execution_count": 8,
   "id": "2ea2e869",
   "metadata": {},
   "outputs": [
    {
     "name": "stdout",
     "output_type": "stream",
     "text": [
      "[2.18112402e+00 8.67169974e-01 1.30000000e+03]\n",
      "[3.21448928e+00 6.55752853e-01 1.70000000e+03]\n",
      "[3.84409373e+00 3.45768504e-01 2.10000000e+03]\n"
     ]
    }
   ],
   "source": [
    "print(vals[6])\n",
    "print(vals[2])\n",
    "print(vals[3])"
   ]
  },
  {
   "cell_type": "code",
   "execution_count": null,
   "id": "585ce721",
   "metadata": {},
   "outputs": [],
   "source": [
    "params = drop_params('Zakharov', vals[8][0], vals[8][1], vals[8][2])"
   ]
  },
  {
   "cell_type": "code",
   "execution_count": 11,
   "id": "1d148d12",
   "metadata": {},
   "outputs": [
    {
     "name": "stdout",
     "output_type": "stream",
     "text": [
      "Best Losses: [881000000.0, 683000000.0, 945000000.0, 1490000000.0, 1060000000.0]\n",
      "Best Params Indices: {4: 3, 0: 2}\n",
      "Worse than Control: {1: 5, 2: 5, 3: 5, 4: 2}\n"
     ]
    }
   ],
   "source": [
    "# 1000d max_L=1\n",
    "args = {\"loss_name\":'Zakharov', \"dim\":1000, \"use_delays\":True, \"max_L\":1, \"constant_learning_rate\":False}\n",
    "\n",
    "good_ind = []\n",
    "bad_ind = []\n",
    "best_losses = []\n",
    "\n",
    "for j in range(5):\n",
    "    vals, mean_losses = validate(zak1000d, args, 15, num_points)\n",
    "    best_loss, best_params, i, worse_ind = results(vals, mean_losses)\n",
    "    bad_ind = bad_ind + list(worse_ind)\n",
    "    good_ind.append(i)\n",
    "    best_losses.append(best_loss)\n",
    "    \n",
    "print(\"Best Losses:\", best_losses)\n",
    "print(\"Best Params Indices:\", {ind:good_ind.count(ind) for ind in good_ind})\n",
    "print(\"Worse than Control:\", {ind:bad_ind.count(ind) for ind in bad_ind})"
   ]
  },
  {
   "cell_type": "code",
   "execution_count": 12,
   "id": "34987f92",
   "metadata": {},
   "outputs": [
    {
     "data": {
      "image/png": "[encoded data removed]",
      "text/plain": [
       "<Figure size 432x288 with 1 Axes>"
      ]
     },
     "metadata": {
      "needs_background": "light"
     },
     "output_type": "display_data"
    }
   ],
   "source": [
    "plot_val(mean_losses)"
   ]
  },
  {
   "cell_type": "code",
   "execution_count": 13,
   "id": "3274515e",
   "metadata": {},
   "outputs": [
    {
     "name": "stdout",
     "output_type": "stream",
     "text": [
      "[2.70602948e+00 3.46671869e-01 1.00000000e+03]\n",
      "[2.98e+00 2.30e-01 7.40e+02]\n"
     ]
    }
   ],
   "source": [
    "print(vals[4])\n",
    "print(vals[0])"
   ]
  },
  {
   "cell_type": "code",
   "execution_count": 10,
   "id": "f1732a28",
   "metadata": {},
   "outputs": [],
   "source": [
    "# Control won, had to drop values\n",
    "for i in [3,4,5,6,7,8]:\n",
    "    params = drop_params('Zakharov', vals[i][0], vals[i][1], vals[i][2])"
   ]
  },
  {
   "cell_type": "code",
   "execution_count": null,
   "id": "5dbcc557",
   "metadata": {},
   "outputs": [],
   "source": []
  },
  {
   "cell_type": "code",
   "execution_count": null,
   "id": "c6928440",
   "metadata": {},
   "outputs": [],
   "source": []
  },
  {
   "cell_type": "code",
   "execution_count": null,
   "id": "42c428cd",
   "metadata": {},
   "outputs": [],
   "source": [
    "np.array([\n",
    "    ['Zakharov', 2, False, 2.7929, 0.7089, 950.0],        # SUBFINAL\n",
    "    ['Zakharov', 10, False, 0, 3.2873, 0.7995, 1475.0],   # SUBFINAL\n",
    "    ['Zakharov', 100, False, 0, 2.4341, 0.5435, 200],     # [2.6537, 0.5053, 100.0], [2.9346, 0.5840, 600]\n",
    "    ['Zakharov', 1000, False, 0, ],  # REROLL\n",
    "    ['Zakharov', 2, True, 1, 3.3885, 0.8556, 1300.0],     # SUBFINAL\n",
    "    ['Zakharov', 10, True, 1, 3.5734, 0.7329, 2100.0],    # SUBFINAL\n",
    "    ['Zakharov', 100, True, 1, 3.8441, 0.3458, 2100.0],   # [2.1811, 0.8672, 1300.0]\n",
    "    ['Zakharov', 1000, True, 1, 2.706, 0.3467, 1000.0]    # SUBFINAL\n",
    "])"
   ]
  }
 ],
 "metadata": {
  "kernelspec": {
   "display_name": "Python 3 (ipykernel)",
   "language": "python",
   "name": "python3"
  },
  "language_info": {
   "codemirror_mode": {
    "name": "ipython",
    "version": 3
   },
   "file_extension": ".py",
   "mimetype": "text/x-python",
   "name": "python",
   "nbconvert_exporter": "python",
   "pygments_lexer": "ipython3",
   "version": "3.8.12"
  }
 },
 "nbformat": 4,
 "nbformat_minor": 5
}
