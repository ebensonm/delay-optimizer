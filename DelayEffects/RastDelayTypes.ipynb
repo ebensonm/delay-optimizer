{
 "cells": [
  {
   "cell_type": "code",
   "execution_count": 1,
   "id": "8528b7d0",
   "metadata": {},
   "outputs": [],
   "source": [
    "import numpy as np\n",
    "import sys\n",
    "import pandas as pd\n",
    "from matplotlib import pyplot as plt\n",
    "sys.path.append('/home/cayjobla/Desktop/Research/delay-optimizer')\n",
    "from DelayEffects.Analyzer import Analyzer"
   ]
  },
  {
   "cell_type": "code",
   "execution_count": 2,
   "id": "76259533",
   "metadata": {},
   "outputs": [],
   "source": [
    "loss_name = 'Rastrigin'"
   ]
  },
  {
   "cell_type": "markdown",
   "id": "7bec12f6",
   "metadata": {},
   "source": [
    "## Defining Delay Types"
   ]
  },
  {
   "cell_type": "code",
   "execution_count": 3,
   "id": "9e4351e0",
   "metadata": {},
   "outputs": [],
   "source": [
    "def undelayed(analyzer):\n",
    "    \"\"\"Returns the mean of the final loss values after optimization.\n",
    "    Optimization type : Undelayed\n",
    "    \"\"\"\n",
    "    # Optimize\n",
    "    analyzer.calculate_save_values(False, save_grad=False, save_state=False, \n",
    "                                   save_iters=False, break_opt=False)\n",
    "    return np.mean(analyzer.final_losses)\n",
    "\n",
    "def uniform(analyzer, num_delays=None):\n",
    "    \"\"\"Returns the mean of the final loss values after optimization.\n",
    "    Optimization type : Persistent \n",
    "        (delayed by max_L in all dimensions)\n",
    "    \"\"\"\n",
    "    # Define delays\n",
    "    D = [max_L * np.ones(analyzer.n, dtype=int)]\n",
    "    \n",
    "    # Optimize\n",
    "    analyzer.calculate_save_values(True, num_delays=num_delays, D=D, random=False, \n",
    "                                   save_grad=False, save_state=False, save_iters=False, \n",
    "                                   break_opt=False)\n",
    "    return np.mean(analyzer.del_final_losses)\n",
    "\n",
    "def stochastic(analyzer, num_delays=None):\n",
    "    \"\"\"Returns the mean of the final loss values after optimization.\n",
    "    Optimization type : Stochastic \n",
    "        (delayed randomly in each dimension at each time step)\n",
    "    \"\"\"\n",
    "    # Optimize\n",
    "    analyzer.calculate_save_values(True, num_delays=num_delays, D=None, random=True, \n",
    "                                   save_grad=False, save_state=False, save_iters=False, \n",
    "                                   break_opt=False)\n",
    "    return np.mean(analyzer.del_final_losses)\n",
    "\n",
    "def decaying(analyzer, stochastic=False):\n",
    "    \"\"\"Returns the mean of the final loss values after optimization.\n",
    "    Optimization type : Decaying \n",
    "        (max_L decays over time)\n",
    "    \"\"\"\n",
    "    # Get array of decaying max_Ls\n",
    "    m = analyzer.maxiter / (analyzer.max_L+1)\n",
    "    L = np.repeat(np.arange(analyzer.max_L+1)[::-1], m)\n",
    "    L = np.pad(L, (0,analyzer.maxiter-len(L)))\n",
    "    \n",
    "    # Define delays\n",
    "    if stochastic is True:\n",
    "        D = [np.random.randint(0,l+1,size=analyzer.n) for l in L]\n",
    "    else:\n",
    "        D = [l*np.ones(analyzer.n, dtype=int) for l in L]\n",
    "    \n",
    "    # Optimize\n",
    "    analyzer.calculate_save_values(True, num_delays=analyzer.maxiter, D=D, random=False, \n",
    "                                   save_grad=False, save_state=False, save_iters=False, \n",
    "                                   break_opt=False)\n",
    "    return np.mean(analyzer.del_final_losses)\n",
    "\n",
    "def partial(analyzer, p, stochastic=False, num_delays=None):\n",
    "    \"\"\"Returns the mean of the final loss values after optimization.\n",
    "    Optimization type : Partial \n",
    "        (p percent of the dimensions are delayed)\n",
    "    \"\"\"\n",
    "    # Determine how many dimensions are delayed\n",
    "    d = int(p * analyzer.n)\n",
    "    if d == 0: d = 1\n",
    "    \n",
    "    # Choose which dimensions to delay at each time step\n",
    "    dims = [np.random.choice(np.arange(0,analyzer.n), replace=False, size=d) \n",
    "            for i in range(analyzer.maxiter)]\n",
    "    \n",
    "    # Define delays\n",
    "    D = [np.zeros(analyzer.n, dtype=int) for i in range(analyzer.maxiter)]\n",
    "    if stochastic is True:\n",
    "        for i in range(analyzer.maxiter):\n",
    "            D[i][dims[i]] = np.random.randint(1, analyzer.max_L+1, size=d)\n",
    "    else:\n",
    "        for i in range(analyzer.maxiter):\n",
    "            D[i][dims[i]] = analyzer.max_L\n",
    "    \n",
    "    # Optimize\n",
    "    analyzer.calculate_save_values(True, num_delays=num_delays, D=D, random=False, \n",
    "                                   save_grad=False, save_state=False, save_iters=False, \n",
    "                                   break_opt=False)\n",
    "    return np.mean(analyzer.del_final_losses)"
   ]
  },
  {
   "cell_type": "code",
   "execution_count": 4,
   "id": "d1e16d89",
   "metadata": {},
   "outputs": [],
   "source": [
    "def calc_means(analyzer, num_points, p, num_delays=None):\n",
    "    # Initialize\n",
    "    analyzer.initialize_points(num_points, 'random')\n",
    "    \n",
    "    # Get final loss means\n",
    "    undelayed_mean = undelayed(analyzer)\n",
    "    uniform_full_mean = uniform(analyzer, analyzer.maxiter)\n",
    "    uniform_mean = uniform(analyzer, num_delays)\n",
    "    stoch_full_mean = stochastic(analyzer, analyzer.maxiter)\n",
    "    stoch_mean = stochastic(analyzer, num_delays)\n",
    "    decay_mean = decaying(analyzer, False)\n",
    "    decay_stoch_mean = decaying(analyzer, True)\n",
    "    partial_mean = partial(analyzer, p, False, analyzer.maxiter)\n",
    "    partial_stoch_mean = partial(analyzer, p, True, analyzer.maxiter)\n",
    "    \n",
    "    means = [undelayed_mean, uniform_full_mean, uniform_mean, stoch_full_mean, stoch_mean, \n",
    "             decay_mean, decay_stoch_mean, partial_mean, partial_stoch_mean]\n",
    "    return means\n",
    "\n",
    "def plot_means(means):\n",
    "    first_bars = [means[1], means[3], means[5], means[7]]\n",
    "    second_bars = [means[2], means[4], means[6], means[8]]\n",
    "    width = 0.35\n",
    "    ind = np.arange(5)\n",
    "    \n",
    "    plt.bar([width/2], [means[0]], width, color='C1')\n",
    "    plt.bar(ind[1:], first_bars, width, color=['C0', 'C2', 'C3', 'C4'])\n",
    "    plt.bar(ind[1:] + width, second_bars, width, color=['C0', 'C2', 'C3', 'C4'], \n",
    "            alpha=0.5)\n",
    "    \n",
    "    delay_names = [\"Undelayed\", \"Uniform\", \"Stochastic\", \"Decaying\", \"Partial\"]\n",
    "    plt.xticks(ind+width/2, delay_names, rotation='vertical', fontsize=12)"
   ]
  },
  {
   "cell_type": "code",
   "execution_count": 5,
   "id": "cafcef3a",
   "metadata": {},
   "outputs": [],
   "source": [
    "# Initialize for max_L = 5\n",
    "max_L = 5\n",
    "rast2d = Analyzer(2, loss_name, max_L=max_L, verbose=False)\n",
    "rast10d = Analyzer(10, loss_name, max_L=max_L, verbose=False)\n",
    "rast100d = Analyzer(100, loss_name, max_L=max_L, verbose=False)\n",
    "rast1000d = Analyzer(1000, loss_name, max_L=max_L, verbose=False)"
   ]
  },
  {
   "cell_type": "code",
   "execution_count": null,
   "id": "d38c0940",
   "metadata": {},
   "outputs": [],
   "source": [
    "means2d = calc_means(rast2d, 1000, 0.5, num_delays=1000)\n",
    "means10d = calc_means(rast10d, 1000, 0.5, num_delays=1000)\n",
    "means100d = calc_means(rast100d, 1000, 0.5, num_delays=1000)\n",
    "means1000d = calc_means(rast1000d, 1000, 0.5, num_delays=1000)"
   ]
  },
  {
   "cell_type": "code",
   "execution_count": null,
   "id": "3dcb600b",
   "metadata": {},
   "outputs": [],
   "source": [
    "# Initialize figure\n",
    "fig = plt.figure(figsize=(20, 4))\n",
    "ax = fig.subplots(1, 4)\n",
    "\n",
    "ax = plt.subplot(141)\n",
    "plot_means(means2d)\n",
    "plt.ylabel(\"Average Final Loss\")\n",
    "plt.title(\"Rastrigin 2d\")\n",
    "\n",
    "ax = plt.subplot(142)\n",
    "plot_means(means10d)\n",
    "plt.title(\"Rastrigin 10d\")\n",
    "\n",
    "ax = plt.subplot(143)\n",
    "plot_means(means100d)\n",
    "plt.title(\"Rastrigin 100d\")\n",
    "\n",
    "ax = plt.subplot(144)\n",
    "plot_means(means1000d)\n",
    "plt.title(\"Rastrigin 1000d\")\n",
    "\n",
    "fig.suptitle(\"Average Final Loss for Delayed and Undelayed Optimization\", y=1.1, size=20)\n",
    "plt.subplots_adjust(wspace=0.25)\n",
    "plt.savefig(\"rast_types5.png\", bbox_inches=\"tight\")\n",
    "plt.show()"
   ]
  },
  {
   "cell_type": "code",
   "execution_count": 8,
   "id": "a8ca68d2",
   "metadata": {},
   "outputs": [
    {
     "name": "stdout",
     "output_type": "stream",
     "text": [
      "Rastrigin 2d\n",
      "Undelayed: 61.63135477864364\n",
      "Uniform full iters: 25.39978470321771\n",
      "Uniform delay: 27.585795785237913\n",
      "Stochastic full iters: 19.987771088252785\n",
      "Stochastic delay: 25.924330003277642\n",
      "Decaying delay: 23.626303539630676\n",
      "Decaying Stochastic: 22.915059262363435\n",
      "Partial delay: 18.05165388443032\n",
      "Partial Stochastic: 13.097319908408839\n",
      "\n",
      "\n",
      "Rastrigin 10d\n",
      "Undelayed: 323.8846039316421\n",
      "Uniform full iters: 127.91958795669767\n",
      "Uniform delay: 131.6473666942393\n",
      "Stochastic full iters: 96.97446366114943\n",
      "Stochastic delay: 113.13533351871544\n",
      "Decaying delay: 130.19207724567482\n",
      "Decaying Stochastic: 116.15852681078185\n",
      "Partial delay: 96.81333863926615\n",
      "Partial Stochastic: 99.94562304132619\n",
      "\n",
      "\n",
      "Rastrigin 100d\n",
      "Undelayed: 3141.800475583506\n",
      "Uniform full iters: 1281.4203306681723\n",
      "Uniform delay: 1317.6390787041103\n",
      "Stochastic full iters: 988.405538746119\n",
      "Stochastic delay: 1147.615030459913\n",
      "Decaying delay: 1329.279437553301\n",
      "Decaying Stochastic: 1157.6842272678664\n",
      "Partial delay: 984.0709523372543\n",
      "Partial Stochastic: 1006.380963783266\n",
      "\n",
      "\n",
      "Rastrigin 1000d\n",
      "Undelayed: 31422.5374164504\n",
      "Uniform full iters: 12846.946373893226\n",
      "Uniform delay: 13206.149833718633\n",
      "Stochastic full iters: 9834.217178501274\n",
      "Stochastic delay: 11429.021559482548\n",
      "Decaying delay: 13055.95702247257\n",
      "Decaying Stochastic: 11462.243266460113\n",
      "Partial delay: 9998.27890367341\n",
      "Partial Stochastic: 9887.138213884875\n",
      "\n",
      "\n"
     ]
    }
   ],
   "source": [
    "delay_name = [\"Undelayed:\", \"Uniform full iters:\", \"Uniform delay:\", \"Stochastic full iters:\", \n",
    "             \"Stochastic delay:\", \"Decaying delay:\", \"Decaying Stochastic:\", \"Partial delay:\",\n",
    "             \"Partial Stochastic:\"]\n",
    "means = {2:means2d, 10:means10d, 100:means100d, 1000:means1000d}\n",
    "\n",
    "for n in [2, 10, 100, 1000]:\n",
    "    print(f\"Rastrigin {n}d\")\n",
    "    for i in range(9):\n",
    "        print(delay_name[i], means[n][i])\n",
    "    print('\\n')"
   ]
  },
  {
   "cell_type": "code",
   "execution_count": 17,
   "id": "b5b63c7e",
   "metadata": {},
   "outputs": [],
   "source": [
    "analyzer = rast10d\n",
    "analyzer.initialize_points(1000, 'random')\n",
    "analyzer.calculate_save_values(False, num_delays=1000, D=None, random=True, \n",
    "                                save_grad=False, save_state=False, save_iters=False, \n",
    "                                break_opt=False)"
   ]
  },
  {
   "cell_type": "code",
   "execution_count": 18,
   "id": "fd54f428",
   "metadata": {},
   "outputs": [],
   "source": [
    "analyzer.calculate_save_values(True, num_delays=analyzer.maxiter, D=None, random=True, \n",
    "                                save_grad=False, save_state=False, save_iters=False, \n",
    "                                break_opt=False)"
   ]
  },
  {
   "cell_type": "code",
   "execution_count": 19,
   "id": "a64eaa13",
   "metadata": {},
   "outputs": [
    {
     "data": {
      "image/png": "[encoded data removed]",
      "text/plain": [
       "<Figure size 432x288 with 1 Axes>"
      ]
     },
     "metadata": {
      "needs_background": "light"
     },
     "output_type": "display_data"
    }
   ],
   "source": [
    "plt.plot(np.array(analyzer.loss_vals).T, c='b', alpha=0.002)\n",
    "plt.title(\"Undelayed\")\n",
    "\n",
    "plt.plot(np.array(analyzer.del_loss_vals).T, c='r', alpha=0.002)\n",
    "plt.title(\"Stochastic Delays\")\n",
    "plt.show()"
   ]
  },
  {
   "cell_type": "code",
   "execution_count": null,
   "id": "165f0aa9",
   "metadata": {},
   "outputs": [],
   "source": []
  }
 ],
 "metadata": {
  "kernelspec": {
   "display_name": "Python 3 (ipykernel)",
   "language": "python",
   "name": "python3"
  },
  "language_info": {
   "codemirror_mode": {
    "name": "ipython",
    "version": 3
   },
   "file_extension": ".py",
   "mimetype": "text/x-python",
   "name": "python",
   "nbconvert_exporter": "python",
   "pygments_lexer": "ipython3",
   "version": "3.8.12"
  }
 },
 "nbformat": 4,
 "nbformat_minor": 5
}
