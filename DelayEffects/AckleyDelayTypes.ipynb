{
 "cells": [
  {
   "cell_type": "code",
   "execution_count": 1,
   "id": "8528b7d0",
   "metadata": {},
   "outputs": [],
   "source": [
    "import numpy as np\n",
    "import sys\n",
    "import pandas as pd\n",
    "from matplotlib import pyplot as plt\n",
    "sys.path.append('/home/cayjobla/Desktop/Research/delay-optimizer')\n",
    "from DelayEffects.Analyzer import Analyzer"
   ]
  },
  {
   "cell_type": "code",
   "execution_count": 2,
   "id": "630fb633",
   "metadata": {},
   "outputs": [],
   "source": [
    "loss_name = 'Ackley'"
   ]
  },
  {
   "cell_type": "markdown",
   "id": "7bec12f6",
   "metadata": {},
   "source": [
    "## Defining Delay Types"
   ]
  },
  {
   "cell_type": "code",
   "execution_count": 3,
   "id": "9e4351e0",
   "metadata": {},
   "outputs": [],
   "source": [
    "def undelayed(analyzer):\n",
    "    \"\"\"Returns the mean of the final loss values after optimization.\n",
    "    Optimization type : Undelayed\n",
    "    \"\"\"\n",
    "    # Optimize\n",
    "    analyzer.calculate_save_values(False, save_grad=False, save_state=False, \n",
    "                                   save_iters=False, break_opt=False)\n",
    "    return np.mean(analyzer.final_losses)\n",
    "\n",
    "def uniform(analyzer, num_delays=None):\n",
    "    \"\"\"Returns the mean of the final loss values after optimization.\n",
    "    Optimization type : Persistent \n",
    "        (delayed by max_L in all dimensions)\n",
    "    \"\"\"\n",
    "    # Define delays\n",
    "    D = [max_L * np.ones(analyzer.n, dtype=int)]\n",
    "    \n",
    "    # Optimize\n",
    "    analyzer.calculate_save_values(True, num_delays=num_delays, D=D, random=False, \n",
    "                                   save_grad=False, save_state=False, save_iters=False, \n",
    "                                   break_opt=False)\n",
    "    return np.mean(analyzer.del_final_losses)\n",
    "\n",
    "def stochastic(analyzer, num_delays=None):\n",
    "    \"\"\"Returns the mean of the final loss values after optimization.\n",
    "    Optimization type : Stochastic \n",
    "        (delayed randomly in each dimension at each time step)\n",
    "    \"\"\"\n",
    "    # Optimize\n",
    "    analyzer.calculate_save_values(True, num_delays=num_delays, D=None, random=True, \n",
    "                                   save_grad=False, save_state=False, save_iters=False, \n",
    "                                   break_opt=False)\n",
    "    return np.mean(analyzer.del_final_losses)\n",
    "\n",
    "def decaying(analyzer, stochastic=False):\n",
    "    \"\"\"Returns the mean of the final loss values after optimization.\n",
    "    Optimization type : Decaying \n",
    "        (max_L decays over time)\n",
    "    \"\"\"\n",
    "    # Get array of decaying max_Ls\n",
    "    m = analyzer.maxiter / (analyzer.max_L+1)\n",
    "    L = np.repeat(np.arange(analyzer.max_L+1)[::-1], m)\n",
    "    L = np.pad(L, (0,analyzer.maxiter-len(L)))\n",
    "    \n",
    "    # Define delays\n",
    "    if stochastic is True:\n",
    "        D = [np.random.randint(0,l+1,size=analyzer.n) for l in L]\n",
    "    else:\n",
    "        D = [l*np.ones(analyzer.n, dtype=int) for l in L]\n",
    "    \n",
    "    # Optimize\n",
    "    analyzer.calculate_save_values(True, num_delays=analyzer.maxiter, D=D, random=False, \n",
    "                                   save_grad=False, save_state=False, save_iters=False, \n",
    "                                   break_opt=False)\n",
    "    return np.mean(analyzer.del_final_losses)\n",
    "\n",
    "def partial(analyzer, p, stochastic=False, num_delays=None):\n",
    "    \"\"\"Returns the mean of the final loss values after optimization.\n",
    "    Optimization type : Partial \n",
    "        (p percent of the dimensions are delayed)\n",
    "    \"\"\"\n",
    "    # Determine how many dimensions are delayed\n",
    "    d = int(p * analyzer.n)\n",
    "    if d == 0: d = 1\n",
    "    \n",
    "    # Choose which dimensions to delay at each time step\n",
    "    dims = [np.random.choice(np.arange(0,analyzer.n), replace=False, size=d) \n",
    "            for i in range(analyzer.maxiter)]\n",
    "    \n",
    "    # Define delays\n",
    "    D = [np.zeros(analyzer.n, dtype=int) for i in range(analyzer.maxiter)]\n",
    "    if stochastic is True:\n",
    "        for i in range(analyzer.maxiter):\n",
    "            D[i][dims[i]] = np.random.randint(1, analyzer.max_L+1, size=d)\n",
    "    else:\n",
    "        for i in range(analyzer.maxiter):\n",
    "            D[i][dims[i]] = analyzer.max_L\n",
    "    \n",
    "    # Optimize\n",
    "    analyzer.calculate_save_values(True, num_delays=num_delays, D=D, random=False, \n",
    "                                   save_grad=False, save_state=False, save_iters=False, \n",
    "                                   break_opt=False)\n",
    "    return np.mean(analyzer.del_final_losses)"
   ]
  },
  {
   "cell_type": "code",
   "execution_count": 4,
   "id": "d1e16d89",
   "metadata": {},
   "outputs": [],
   "source": [
    "def calc_means(analyzer, num_points, p, num_delays=None):\n",
    "    # Initialize\n",
    "    analyzer.initialize_points(num_points, 'random')\n",
    "    \n",
    "    # Get final loss means\n",
    "    undelayed_mean = undelayed(analyzer)\n",
    "    uniform_full_mean = uniform(analyzer, analyzer.maxiter)\n",
    "    uniform_mean = uniform(analyzer, num_delays)\n",
    "    stoch_full_mean = stochastic(analyzer, analyzer.maxiter)\n",
    "    stoch_mean = stochastic(analyzer, num_delays)\n",
    "    decay_mean = decaying(analyzer, False)\n",
    "    decay_stoch_mean = decaying(analyzer, True)\n",
    "    partial_mean = partial(analyzer, p, False, analyzer.maxiter)\n",
    "    partial_stoch_mean = partial(analyzer, p, True, analyzer.maxiter)\n",
    "    \n",
    "    means = [undelayed_mean, uniform_full_mean, uniform_mean, stoch_full_mean, stoch_mean, \n",
    "             decay_mean, decay_stoch_mean, partial_mean, partial_stoch_mean]\n",
    "    return means\n",
    "\n",
    "def plot_means(means):\n",
    "    first_bars = [means[1], means[3], means[5], means[7]]\n",
    "    second_bars = [means[2], means[4], means[6], means[8]]\n",
    "    width = 0.35\n",
    "    ind = np.arange(5)\n",
    "    \n",
    "    plt.bar([width/2], [means[0]], width, color='C1')\n",
    "    plt.bar(ind[1:], first_bars, width, color=['C0', 'C2', 'C3', 'C4'])\n",
    "    plt.bar(ind[1:] + width, second_bars, width, color=['C0', 'C2', 'C3', 'C4'], \n",
    "            alpha=0.5)\n",
    "    \n",
    "    delay_names = [\"Undelayed\", \"Uniform\", \"Stochastic\", \"Decaying\", \"Partial\"]\n",
    "    plt.xticks(ind+width/2, delay_names, rotation='vertical', fontsize=12)"
   ]
  },
  {
   "cell_type": "code",
   "execution_count": 5,
   "id": "cafcef3a",
   "metadata": {},
   "outputs": [
    {
     "name": "stdout",
     "output_type": "stream",
     "text": [
      "2d Ackley function initialized with parameters:\n",
      "\tDelayed: {'step_size': 740.0, 'min_learning_rate': 0.23, 'max_learning_rate': 2.98}\n",
      "\tUndelayed: {'step_size': 740.0, 'min_learning_rate': 0.23, 'max_learning_rate': 2.98}\n",
      "10d Ackley function initialized with parameters:\n",
      "\tDelayed: {'step_size': 740.0, 'min_learning_rate': 0.23, 'max_learning_rate': 2.98}\n",
      "\tUndelayed: {'step_size': 740.0, 'min_learning_rate': 0.23, 'max_learning_rate': 2.98}\n",
      "100d Ackley function initialized with parameters:\n",
      "\tDelayed: {'step_size': 740.0, 'min_learning_rate': 0.23, 'max_learning_rate': 2.98}\n",
      "\tUndelayed: {'step_size': 740.0, 'min_learning_rate': 0.23, 'max_learning_rate': 2.98}\n",
      "1000d Ackley function initialized with parameters:\n",
      "\tDelayed: {'step_size': 740.0, 'min_learning_rate': 0.23, 'max_learning_rate': 2.98}\n",
      "\tUndelayed: {'step_size': 740.0, 'min_learning_rate': 0.23, 'max_learning_rate': 2.98}\n"
     ]
    }
   ],
   "source": [
    "# Initialize for max_L = 1\n",
    "max_L = 1\n",
    "ackley2d = Analyzer(2, loss_name, max_L=max_L, verbose=True)\n",
    "ackley10d = Analyzer(10, loss_name, max_L=max_L, verbose=True)\n",
    "ackley100d = Analyzer(100, loss_name, max_L=max_L, verbose=True)\n",
    "ackley1000d = Analyzer(1000, loss_name, max_L=max_L, verbose=True)"
   ]
  },
  {
   "cell_type": "code",
   "execution_count": 6,
   "id": "d38c0940",
   "metadata": {
    "collapsed": true
   },
   "outputs": [
    {
     "ename": "IndexError",
     "evalue": "list index out of range",
     "output_type": "error",
     "traceback": [
      "\u001b[0;31m---------------------------------------------------------------------------\u001b[0m",
      "\u001b[0;31mIndexError\u001b[0m                                Traceback (most recent call last)",
      "\u001b[0;32m/tmp/ipykernel_3461/1123546874.py\u001b[0m in \u001b[0;36m<module>\u001b[0;34m\u001b[0m\n\u001b[0;32m----> 1\u001b[0;31m \u001b[0mmeans2d\u001b[0m \u001b[0;34m=\u001b[0m \u001b[0mcalc_means\u001b[0m\u001b[0;34m(\u001b[0m\u001b[0mackley2d\u001b[0m\u001b[0;34m,\u001b[0m \u001b[0;36m50\u001b[0m\u001b[0;34m,\u001b[0m \u001b[0;36m0.5\u001b[0m\u001b[0;34m,\u001b[0m \u001b[0mnum_delays\u001b[0m\u001b[0;34m=\u001b[0m\u001b[0;36m1000\u001b[0m\u001b[0;34m)\u001b[0m\u001b[0;34m\u001b[0m\u001b[0;34m\u001b[0m\u001b[0m\n\u001b[0m\u001b[1;32m      2\u001b[0m \u001b[0mmeans10d\u001b[0m \u001b[0;34m=\u001b[0m \u001b[0mcalc_means\u001b[0m\u001b[0;34m(\u001b[0m\u001b[0mackley10d\u001b[0m\u001b[0;34m,\u001b[0m \u001b[0;36m50\u001b[0m\u001b[0;34m,\u001b[0m \u001b[0;36m0.5\u001b[0m\u001b[0;34m,\u001b[0m \u001b[0mnum_delays\u001b[0m\u001b[0;34m=\u001b[0m\u001b[0;36m1000\u001b[0m\u001b[0;34m)\u001b[0m\u001b[0;34m\u001b[0m\u001b[0;34m\u001b[0m\u001b[0m\n\u001b[1;32m      3\u001b[0m \u001b[0mmeans100d\u001b[0m \u001b[0;34m=\u001b[0m \u001b[0mcalc_means\u001b[0m\u001b[0;34m(\u001b[0m\u001b[0mackley100d\u001b[0m\u001b[0;34m,\u001b[0m \u001b[0;36m50\u001b[0m\u001b[0;34m,\u001b[0m \u001b[0;36m0.5\u001b[0m\u001b[0;34m,\u001b[0m \u001b[0mnum_delays\u001b[0m\u001b[0;34m=\u001b[0m\u001b[0;36m1000\u001b[0m\u001b[0;34m)\u001b[0m\u001b[0;34m\u001b[0m\u001b[0;34m\u001b[0m\u001b[0m\n\u001b[1;32m      4\u001b[0m \u001b[0mmeans1000d\u001b[0m \u001b[0;34m=\u001b[0m \u001b[0mcalc_means\u001b[0m\u001b[0;34m(\u001b[0m\u001b[0mackley1000d\u001b[0m\u001b[0;34m,\u001b[0m \u001b[0;36m50\u001b[0m\u001b[0;34m,\u001b[0m \u001b[0;36m0.5\u001b[0m\u001b[0;34m,\u001b[0m \u001b[0mnum_delays\u001b[0m\u001b[0;34m=\u001b[0m\u001b[0;36m1000\u001b[0m\u001b[0;34m)\u001b[0m\u001b[0;34m\u001b[0m\u001b[0;34m\u001b[0m\u001b[0m\n",
      "\u001b[0;32m/tmp/ipykernel_3461/2918129235.py\u001b[0m in \u001b[0;36mcalc_means\u001b[0;34m(analyzer, num_points, p, num_delays)\u001b[0m\n\u001b[1;32m      4\u001b[0m \u001b[0;34m\u001b[0m\u001b[0m\n\u001b[1;32m      5\u001b[0m     \u001b[0;31m# Get final loss means\u001b[0m\u001b[0;34m\u001b[0m\u001b[0;34m\u001b[0m\u001b[0;34m\u001b[0m\u001b[0m\n\u001b[0;32m----> 6\u001b[0;31m     \u001b[0mundelayed_mean\u001b[0m \u001b[0;34m=\u001b[0m \u001b[0mundelayed\u001b[0m\u001b[0;34m(\u001b[0m\u001b[0manalyzer\u001b[0m\u001b[0;34m)\u001b[0m\u001b[0;34m\u001b[0m\u001b[0;34m\u001b[0m\u001b[0m\n\u001b[0m\u001b[1;32m      7\u001b[0m     \u001b[0muniform_full_mean\u001b[0m \u001b[0;34m=\u001b[0m \u001b[0muniform\u001b[0m\u001b[0;34m(\u001b[0m\u001b[0manalyzer\u001b[0m\u001b[0;34m,\u001b[0m \u001b[0manalyzer\u001b[0m\u001b[0;34m.\u001b[0m\u001b[0mmaxiter\u001b[0m\u001b[0;34m)\u001b[0m\u001b[0;34m\u001b[0m\u001b[0;34m\u001b[0m\u001b[0m\n\u001b[1;32m      8\u001b[0m     \u001b[0muniform_mean\u001b[0m \u001b[0;34m=\u001b[0m \u001b[0muniform\u001b[0m\u001b[0;34m(\u001b[0m\u001b[0manalyzer\u001b[0m\u001b[0;34m,\u001b[0m \u001b[0mnum_delays\u001b[0m\u001b[0;34m)\u001b[0m\u001b[0;34m\u001b[0m\u001b[0;34m\u001b[0m\u001b[0m\n",
      "\u001b[0;32m/tmp/ipykernel_3461/3576812267.py\u001b[0m in \u001b[0;36mundelayed\u001b[0;34m(analyzer)\u001b[0m\n\u001b[1;32m      4\u001b[0m     \"\"\"\n\u001b[1;32m      5\u001b[0m     \u001b[0;31m# Optimize\u001b[0m\u001b[0;34m\u001b[0m\u001b[0;34m\u001b[0m\u001b[0;34m\u001b[0m\u001b[0m\n\u001b[0;32m----> 6\u001b[0;31m     analyzer.calculate_save_values(False, save_grad=False, save_state=False, \n\u001b[0m\u001b[1;32m      7\u001b[0m                                    save_iters=False, break_opt=False)\n\u001b[1;32m      8\u001b[0m     \u001b[0;32mreturn\u001b[0m \u001b[0mnp\u001b[0m\u001b[0;34m.\u001b[0m\u001b[0mmean\u001b[0m\u001b[0;34m(\u001b[0m\u001b[0manalyzer\u001b[0m\u001b[0;34m.\u001b[0m\u001b[0mfinal_losses\u001b[0m\u001b[0;34m)\u001b[0m\u001b[0;34m\u001b[0m\u001b[0;34m\u001b[0m\u001b[0m\n",
      "\u001b[0;32m~/Desktop/Research/delay-optimizer/DelayEffects/Analyzer.py\u001b[0m in \u001b[0;36mcalculate_save_values\u001b[0;34m(self, delayed, max_L, num_delays, maxiter, tol, D, random, break_opt, save_state, save_loss, save_grad, save_iters)\u001b[0m\n\u001b[1;32m    363\u001b[0m             \u001b[0;32mdel\u001b[0m \u001b[0mself\u001b[0m\u001b[0;34m.\u001b[0m\u001b[0moptimizer\u001b[0m\u001b[0;34m\u001b[0m\u001b[0;34m\u001b[0m\u001b[0m\n\u001b[1;32m    364\u001b[0m \u001b[0;34m\u001b[0m\u001b[0m\n\u001b[0;32m--> 365\u001b[0;31m             \u001b[0mself\u001b[0m\u001b[0;34m.\u001b[0m\u001b[0madd_initial_vals\u001b[0m\u001b[0;34m(\u001b[0m\u001b[0mdelayed\u001b[0m\u001b[0;34m)\u001b[0m\u001b[0;34m\u001b[0m\u001b[0;34m\u001b[0m\u001b[0m\n\u001b[0m\u001b[1;32m    366\u001b[0m \u001b[0;34m\u001b[0m\u001b[0m\n\u001b[1;32m    367\u001b[0m         \u001b[0;32melse\u001b[0m\u001b[0;34m:\u001b[0m   \u001b[0;31m# Check for incorrect inputs\u001b[0m\u001b[0;34m\u001b[0m\u001b[0;34m\u001b[0m\u001b[0m\n",
      "\u001b[0;32m~/Desktop/Research/delay-optimizer/DelayEffects/Analyzer.py\u001b[0m in \u001b[0;36madd_initial_vals\u001b[0;34m(self, delayed, save_loss, save_grad)\u001b[0m\n\u001b[1;32m    392\u001b[0m                         \u001b[0mself\u001b[0m\u001b[0;34m.\u001b[0m\u001b[0mdel_grad_vals\u001b[0m\u001b[0;34m[\u001b[0m\u001b[0mi\u001b[0m\u001b[0;34m]\u001b[0m\u001b[0;34m.\u001b[0m\u001b[0minsert\u001b[0m\u001b[0;34m(\u001b[0m\u001b[0;36m0\u001b[0m\u001b[0;34m,\u001b[0m \u001b[0mgrad\u001b[0m\u001b[0;34m)\u001b[0m\u001b[0;34m\u001b[0m\u001b[0;34m\u001b[0m\u001b[0m\n\u001b[1;32m    393\u001b[0m                     \u001b[0;32mif\u001b[0m \u001b[0mdelayed\u001b[0m \u001b[0;32mis\u001b[0m \u001b[0;32mFalse\u001b[0m\u001b[0;34m:\u001b[0m\u001b[0;34m\u001b[0m\u001b[0;34m\u001b[0m\u001b[0m\n\u001b[0;32m--> 394\u001b[0;31m                         \u001b[0mself\u001b[0m\u001b[0;34m.\u001b[0m\u001b[0mgrad_vals\u001b[0m\u001b[0;34m[\u001b[0m\u001b[0mi\u001b[0m\u001b[0;34m]\u001b[0m\u001b[0;34m.\u001b[0m\u001b[0minsert\u001b[0m\u001b[0;34m(\u001b[0m\u001b[0;36m0\u001b[0m\u001b[0;34m,\u001b[0m \u001b[0mgrad\u001b[0m\u001b[0;34m)\u001b[0m\u001b[0;34m\u001b[0m\u001b[0;34m\u001b[0m\u001b[0m\n\u001b[0m\u001b[1;32m    395\u001b[0m \u001b[0;34m\u001b[0m\u001b[0m\n\u001b[1;32m    396\u001b[0m \u001b[0;34m\u001b[0m\u001b[0m\n",
      "\u001b[0;31mIndexError\u001b[0m: list index out of range"
     ]
    }
   ],
   "source": [
    "means2d = calc_means(ackley2d, 50, 0.5, num_delays=1000)\n",
    "means10d = calc_means(ackley10d, 50, 0.5, num_delays=1000)\n",
    "means100d = calc_means(ackley100d, 50, 0.5, num_delays=1000)\n",
    "means1000d = calc_means(ackley1000d, 50, 0.5, num_delays=1000)"
   ]
  },
  {
   "cell_type": "code",
   "execution_count": null,
   "id": "3dcb600b",
   "metadata": {
    "scrolled": true
   },
   "outputs": [],
   "source": [
    "# Initialize figure\n",
    "fig = plt.figure(figsize=(20, 4))\n",
    "ax = fig.subplots(1, 4)\n",
    "\n",
    "ax = plt.subplot(141)\n",
    "plot_means(means2d)\n",
    "plt.ylabel(\"Average Final Loss\")\n",
    "plt.title(\"Ackley 2d\", fontsize=14)\n",
    "\n",
    "ax = plt.subplot(142)\n",
    "plot_means(means10d)\n",
    "plt.title(\"Ackley 10d\", fontsize=14)\n",
    "\n",
    "ax = plt.subplot(143)\n",
    "plot_means(means100d)\n",
    "\n",
    "ax = plt.subplot(144)\n",
    "plot_means(means1000d)\n",
    "\n",
    "fig.suptitle(\"Average Final Loss for Delayed and Undelayed Optimization\", y=1.1, size=20)\n",
    "plt.savefig(\"ack_types1.png\", bbox_inches=\"tight\")\n",
    "plt.show()"
   ]
  },
  {
   "cell_type": "code",
   "execution_count": null,
   "id": "e27686fa",
   "metadata": {},
   "outputs": [],
   "source": [
    "delay_name = [\"Undelayed:\", \"Uniform full iters:\", \"Uniform delay:\", \"Stochastic full iters:\", \n",
    "             \"Stochastic delay:\", \"Decaying delay:\", \"Decaying Stochastic:\", \"Partial delay:\",\n",
    "             \"Partial Stochastic:\"]\n",
    "means = {2:means2d, 10:means10d, 100:means100d, 1000:means1000d}\n",
    "\n",
    "for n in [2, 10, 100, 1000]:\n",
    "    print(f\"Ackley {n}d\")\n",
    "    for i in range(9):\n",
    "        print(delay_name[i], means[n][i])\n",
    "    print('\\n')"
   ]
  },
  {
   "cell_type": "code",
   "execution_count": 21,
   "id": "680b4bb5",
   "metadata": {},
   "outputs": [],
   "source": [
    "analyzer = ackley1000d\n",
    "analyzer.initialize_points(50, 'random')\n",
    "analyzer.calculate_save_values(False, num_delays=1000, D=None, random=True, \n",
    "                                save_grad=False, save_state=False, save_iters=False, \n",
    "                                break_opt=False)"
   ]
  },
  {
   "cell_type": "code",
   "execution_count": 22,
   "id": "a5c18ae8",
   "metadata": {},
   "outputs": [],
   "source": [
    "analyzer.calculate_save_values(True, num_delays=analyzer.maxiter, D=None, random=True, \n",
    "                                save_grad=False, save_state=False, save_iters=False, \n",
    "                                break_opt=False)"
   ]
  },
  {
   "cell_type": "code",
   "execution_count": 23,
   "id": "30092589",
   "metadata": {},
   "outputs": [
    {
     "data": {
      "image/png": "[encoded data removed]",
      "text/plain": [
       "<Figure size 432x288 with 1 Axes>"
      ]
     },
     "metadata": {
      "needs_background": "light"
     },
     "output_type": "display_data"
    }
   ],
   "source": [
    "plt.plot(np.array(analyzer.loss_vals).T, c='b', alpha=0.1)\n",
    "plt.title(\"Undelayed\")\n",
    "\n",
    "plt.plot(np.array(analyzer.del_loss_vals).T, c='r', alpha=0.1)\n",
    "plt.title(\"Stochastic Delays\")\n",
    "plt.show()"
   ]
  },
  {
   "cell_type": "code",
   "execution_count": null,
   "id": "61417751",
   "metadata": {},
   "outputs": [],
   "source": []
  }
 ],
 "metadata": {
  "kernelspec": {
   "display_name": "Python 3 (ipykernel)",
   "language": "python",
   "name": "python3"
  },
  "language_info": {
   "codemirror_mode": {
    "name": "ipython",
    "version": 3
   },
   "file_extension": ".py",
   "mimetype": "text/x-python",
   "name": "python",
   "nbconvert_exporter": "python",
   "pygments_lexer": "ipython3",
   "version": "3.8.12"
  }
 },
 "nbformat": 4,
 "nbformat_minor": 5
}
