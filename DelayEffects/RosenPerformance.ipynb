{
 "cells": [
  {
   "cell_type": "code",
   "execution_count": 1,
   "id": "151a6132",
   "metadata": {},
   "outputs": [],
   "source": [
    "import numpy as np\n",
    "import sys\n",
    "sys.path.append('/home/yungdankblast/Desktop/Research/delay-optimizer')\n",
    "from DelayEffects.Analyzer_new import FuncOpt\n",
    "from Optimizer_Scripts.DelayTypeGenerators import *\n",
    "import os\n",
    "from matplotlib import pyplot as plt\n",
    "import pandas as pd"
   ]
  },
  {
   "cell_type": "code",
   "execution_count": 2,
   "id": "114cf80d",
   "metadata": {},
   "outputs": [],
   "source": [
    "# Initialize\n",
    "loss_name = 'Rosenbrock'\n",
    "dimensions = [2, 10, 100, 1000]\n",
    "rosen = {d: FuncOpt(loss_name, d) for d in dimensions}"
   ]
  },
  {
   "cell_type": "code",
   "execution_count": 93,
   "id": "85fecc47",
   "metadata": {},
   "outputs": [],
   "source": [
    "# Read params\n",
    "params = pd.read_csv(\"../hyperparameter_data.csv\")"
   ]
  },
  {
   "cell_type": "markdown",
   "id": "717be1d2",
   "metadata": {},
   "source": [
    "## Helper Functions"
   ]
  },
  {
   "cell_type": "code",
   "execution_count": 4,
   "id": "464f973d",
   "metadata": {},
   "outputs": [],
   "source": [
    "def parse(args):\n",
    "    new_params = params.copy()\n",
    "    for arg, val in args.items():\n",
    "        new_params = new_params[new_params[arg] == val]\n",
    "        \n",
    "    return new_params\n",
    "\n",
    "def validate(analyzer, args, num_params=5, num_points=200, drop_cols=None, verbose=False):\n",
    "    # Initialize\n",
    "    if drop_cols is None:\n",
    "        drop_cols = [\"loss_name\", \"dim\", \"use_delays\", \"max_L\", \"constant_learning_rate\", \"learning_rate\", \n",
    "                 \"min_val\", \"max_val\", \"num_delays\", \"maxiter\", \"optimizer_name\", \"tol\", \"max_evals\",\n",
    "                 \"symmetric_delays\", \"num_tests\", \"print_log\", \"vary_percent\", \"hyper_minimize\", \"clip_grad\",\n",
    "                 \"clip_val\", \"num_test_initials\", \"test_time\", \"num_initial_values\"]\n",
    "    delayed = args['use_delays']\n",
    "    \n",
    "    # Parse hyperparameters\n",
    "    parsed = parse(args)\n",
    "    parsed = parsed.drop(columns=drop_cols)\n",
    "    parsed = parsed.sort_values('best_loss')\n",
    "    \n",
    "    # Extract params\n",
    "    vals = parsed.loc[:,['max_learning_rate', 'min_learning_rate', 'step_size']].values\n",
    "    if len(vals) > num_params:\n",
    "        vals = vals[:num_params]\n",
    "    \n",
    "    # Add control params\n",
    "    vals = np.vstack(([[2.98, 0.23, 740.]], vals))\n",
    "    \n",
    "    analyzer.initialize_points(num_points, 'random')\n",
    "    mean_losses = []\n",
    "    for i, params in enumerate(vals):\n",
    "        if delayed is True:\n",
    "            analyzer.del_params = {'max_learning_rate': params[0], 'min_learning_rate': params[1], \n",
    "                                   'step_size': params[2]}\n",
    "        else:\n",
    "            analyzer.params = {'max_learning_rate': params[0], 'min_learning_rate': params[1], \n",
    "                                   'step_size': params[2]}\n",
    "        analyzer.calculate_save_values(delayed)\n",
    "        \n",
    "        if delayed is True:\n",
    "            conv = analyzer.del_conv\n",
    "        else:\n",
    "            conv = analyzer.conv\n",
    "            \n",
    "        mean_losses.append(np.mean(analyzer.extract_values(delayed, 'loss')[1]))\n",
    "        \n",
    "    return vals, mean_losses\n",
    "            \n",
    "            \n",
    "def results(vals, mean_losses): \n",
    "    i = np.argmin(mean_losses)\n",
    "    best_params = np.round(vals[i], 2)\n",
    "    worst = np.argwhere(mean_losses > mean_losses[0]).ravel()\n",
    "    \n",
    "    return float(\"%.3g\" % mean_losses[i]), best_params, i, worst\n",
    "        \n",
    "def plot_val(mean_losses):\n",
    "    ind = np.arange(len(mean_losses))\n",
    "    ticks = [i for i in ind]\n",
    "    ticks[0] = \"Control\"\n",
    "    plt.bar(ind, mean_losses, tick_label=ticks, color='C2')\n",
    "    plt.ylabel(\"Mean Loss\")\n",
    "    plt.show()\n",
    "    \n",
    "def drop_params(loss_name, max_learning_rate, min_learning_rate, step_size):\n",
    "    new_params = params.copy()\n",
    "    new_params = new_params[new_params[\"loss_name\"]==loss_name]\n",
    "    new_params = new_params[new_params[\"max_learning_rate\"]==max_learning_rate]\n",
    "    new_params = new_params[new_params[\"min_learning_rate\"]==min_learning_rate]\n",
    "    new_params = new_params[new_params[\"step_size\"]==step_size]\n",
    "    if len(new_params.index) > 0:\n",
    "        index = new_params.index[0]\n",
    "        return params.drop(index)\n",
    "    else:\n",
    "        return params"
   ]
  },
  {
   "cell_type": "code",
   "execution_count": 5,
   "id": "ce512e57",
   "metadata": {},
   "outputs": [],
   "source": [
    "num_tests = 5\n",
    "num_points = 250\n",
    "num_params = 8"
   ]
  },
  {
   "cell_type": "markdown",
   "id": "ea1bda32",
   "metadata": {},
   "source": [
    "# Undelayed"
   ]
  },
  {
   "cell_type": "code",
   "execution_count": 6,
   "id": "431aa225",
   "metadata": {},
   "outputs": [
    {
     "name": "stdout",
     "output_type": "stream",
     "text": [
      "Best Losses: [0.259, 0.405, 0.406, 0.313, 0.433]\n",
      "Best Params Indices: {4: 3, 6: 2}\n",
      "Worse than Control: {}\n"
     ]
    }
   ],
   "source": [
    "# 2d undelayed\n",
    "args = {\"loss_name\":'Rosenbrock', \"dim\":2, \"use_delays\":False, \"constant_learning_rate\":False}\n",
    "\n",
    "good_ind = []\n",
    "bad_ind = []\n",
    "best_losses = []\n",
    "\n",
    "for j in range(num_tests):\n",
    "    vals, mean_losses = validate(rosen2d, args, num_params, num_points)\n",
    "    best_loss, best_params, i, worse_ind = results(vals, mean_losses)\n",
    "    bad_ind = bad_ind + list(worse_ind)\n",
    "    good_ind.append(i)\n",
    "    best_losses.append(best_loss)\n",
    "    \n",
    "print(\"Best Losses:\", best_losses)\n",
    "print(\"Best Params Indices:\", {ind:good_ind.count(ind) for ind in good_ind})\n",
    "print(\"Worse than Control:\", {ind:bad_ind.count(ind) for ind in bad_ind})"
   ]
  },
  {
   "cell_type": "code",
   "execution_count": 7,
   "id": "e9f99058",
   "metadata": {},
   "outputs": [
    {
     "data": {
      "image/png": "[encoded data removed]",
      "text/plain": [
       "<Figure size 432x288 with 1 Axes>"
      ]
     },
     "metadata": {
      "needs_background": "light"
     },
     "output_type": "display_data"
    }
   ],
   "source": [
    "plot_val(mean_losses)"
   ]
  },
  {
   "cell_type": "code",
   "execution_count": 8,
   "id": "b34d24a6",
   "metadata": {},
   "outputs": [
    {
     "name": "stdout",
     "output_type": "stream",
     "text": [
      "[3.15608865e+00 7.79224530e-01 2.30000000e+03]\n",
      "[2.92068270e+00 5.72766857e-01 2.00000000e+03]\n"
     ]
    }
   ],
   "source": [
    "print(vals[4])\n",
    "print(vals[6])"
   ]
  },
  {
   "cell_type": "code",
   "execution_count": null,
   "id": "044f9df5",
   "metadata": {},
   "outputs": [],
   "source": [
    "# No Params dropped for 2d"
   ]
  },
  {
   "cell_type": "code",
   "execution_count": 10,
   "id": "451fa667",
   "metadata": {},
   "outputs": [
    {
     "name": "stdout",
     "output_type": "stream",
     "text": [
      "Best Losses: [3.4, 4.26, 4.08, 3.83, 3.98]\n",
      "Best Params Indices: {4: 4, 3: 1}\n",
      "Worse than Control: {5: 5, 6: 5, 7: 5, 1: 1, 2: 1, 8: 1}\n"
     ]
    }
   ],
   "source": [
    "# 10d undelayed\n",
    "args = {\"loss_name\":'Rosenbrock', \"dim\":10, \"use_delays\":False, \"constant_learning_rate\":False}\n",
    "\n",
    "good_ind = []\n",
    "bad_ind = []\n",
    "best_losses = []\n",
    "\n",
    "for j in range(num_tests):\n",
    "    vals, mean_losses = validate(rosen10d, args, num_params, num_points)\n",
    "    best_loss, best_params, i, worse_ind = results(vals, mean_losses)\n",
    "    bad_ind = bad_ind + list(worse_ind)\n",
    "    good_ind.append(i)\n",
    "    best_losses.append(best_loss)\n",
    "    \n",
    "print(\"Best Losses:\", best_losses)\n",
    "print(\"Best Params Indices:\", {ind:good_ind.count(ind) for ind in good_ind})\n",
    "print(\"Worse than Control:\", {ind:bad_ind.count(ind) for ind in bad_ind})"
   ]
  },
  {
   "cell_type": "code",
   "execution_count": 11,
   "id": "2619cb5f",
   "metadata": {},
   "outputs": [
    {
     "data": {
      "image/png": "[encoded data removed]",
      "text/plain": [
       "<Figure size 432x288 with 1 Axes>"
      ]
     },
     "metadata": {
      "needs_background": "light"
     },
     "output_type": "display_data"
    }
   ],
   "source": [
    "plot_val(mean_losses)"
   ]
  },
  {
   "cell_type": "code",
   "execution_count": 12,
   "id": "57834086",
   "metadata": {},
   "outputs": [
    {
     "name": "stdout",
     "output_type": "stream",
     "text": [
      "[3.18381112e+00 6.16600538e-01 1.30000000e+03]\n",
      "[2.48814587e+00 6.31154467e-01 9.00000000e+02]\n"
     ]
    }
   ],
   "source": [
    "print(vals[4])\n",
    "print(vals[3])"
   ]
  },
  {
   "cell_type": "code",
   "execution_count": 10,
   "id": "16dc1b98",
   "metadata": {},
   "outputs": [],
   "source": [
    "# OLD - dropped 5,6,7,8\n",
    "params = drop_params('Rosenbrock', vals[5][0], vals[5][1], vals[5][2])\n",
    "params = drop_params('Rosenbrock', vals[6][0], vals[6][1], vals[6][2])\n",
    "params = drop_params('Rosenbrock', vals[7][0], vals[7][1], vals[7][2])"
   ]
  },
  {
   "cell_type": "code",
   "execution_count": 11,
   "id": "fe493341",
   "metadata": {},
   "outputs": [
    {
     "name": "stdout",
     "output_type": "stream",
     "text": [
      "Best Losses: [105.0, 102.0, 104.0, 109.0, 106.0]\n",
      "Best Params Indices: {5: 5}\n",
      "Worse than Control: {4: 4, 7: 3, 2: 1}\n"
     ]
    }
   ],
   "source": [
    "# 100d undelayed\n",
    "args = {\"loss_name\":'Rosenbrock', \"dim\":100, \"use_delays\":False, \"constant_learning_rate\":False}\n",
    "\n",
    "good_ind = []\n",
    "bad_ind = []\n",
    "best_losses = []\n",
    "\n",
    "for j in range(num_tests):\n",
    "    vals, mean_losses = validate(rosen100d, args, num_params, num_points)\n",
    "    best_loss, best_params, i, worse_ind = results(vals, mean_losses)\n",
    "    bad_ind = bad_ind + list(worse_ind)\n",
    "    good_ind.append(i)\n",
    "    best_losses.append(best_loss)\n",
    "    \n",
    "print(\"Best Losses:\", best_losses)\n",
    "print(\"Best Params Indices:\", {ind:good_ind.count(ind) for ind in good_ind})\n",
    "print(\"Worse than Control:\", {ind:bad_ind.count(ind) for ind in bad_ind})"
   ]
  },
  {
   "cell_type": "code",
   "execution_count": 12,
   "id": "1052a42f",
   "metadata": {},
   "outputs": [
    {
     "data": {
      "image/png": "[encoded data removed]",
      "text/plain": [
       "<Figure size 432x288 with 1 Axes>"
      ]
     },
     "metadata": {
      "needs_background": "light"
     },
     "output_type": "display_data"
    }
   ],
   "source": [
    "plot_val(mean_losses)"
   ]
  },
  {
   "cell_type": "code",
   "execution_count": 13,
   "id": "3d4dbcc3",
   "metadata": {},
   "outputs": [
    {
     "name": "stdout",
     "output_type": "stream",
     "text": [
      "[3.72809970e+00 3.69316824e-01 4.00000000e+02]\n"
     ]
    }
   ],
   "source": [
    "print(vals[5])"
   ]
  },
  {
   "cell_type": "code",
   "execution_count": null,
   "id": "996ae52c",
   "metadata": {},
   "outputs": [],
   "source": [
    "# OLD - dropped 4,7\n",
    "params = drop_params('Rosenbrock', vals[4][0], vals[4][1], vals[4][2])\n",
    "params = drop_params('Rosenbrock', vals[7][0], vals[7][1], vals[7][2])"
   ]
  },
  {
   "cell_type": "code",
   "execution_count": 6,
   "id": "416253a4",
   "metadata": {},
   "outputs": [
    {
     "name": "stdout",
     "output_type": "stream",
     "text": [
      "Best Losses: [1010.0, 1020.0, 1160.0, 1010.0, 1020.0]\n",
      "Best Params Indices: {1: 5}\n",
      "Worse than Control: {2: 4, 3: 5, 8: 5}\n"
     ]
    }
   ],
   "source": [
    "# 1000d undelayed\n",
    "args = {\"loss_name\":'Rosenbrock', \"dim\":1000, \"use_delays\":False, \"constant_learning_rate\":False}\n",
    "\n",
    "good_ind = []\n",
    "bad_ind = []\n",
    "best_losses = []\n",
    "\n",
    "for j in range(num_tests):\n",
    "    vals, mean_losses = validate(rosen1000d, args, num_params, num_points)\n",
    "    best_loss, best_params, i, worse_ind = results(vals, mean_losses)\n",
    "    bad_ind = bad_ind + list(worse_ind)\n",
    "    good_ind.append(i)\n",
    "    best_losses.append(best_loss)\n",
    "    \n",
    "print(\"Best Losses:\", best_losses)\n",
    "print(\"Best Params Indices:\", {ind:good_ind.count(ind) for ind in good_ind})\n",
    "print(\"Worse than Control:\", {ind:bad_ind.count(ind) for ind in bad_ind})"
   ]
  },
  {
   "cell_type": "code",
   "execution_count": 7,
   "id": "bb6feacc",
   "metadata": {},
   "outputs": [
    {
     "data": {
      "image/png": "[encoded data removed]",
      "text/plain": [
       "<Figure size 432x288 with 1 Axes>"
      ]
     },
     "metadata": {
      "needs_background": "light"
     },
     "output_type": "display_data"
    }
   ],
   "source": [
    "plot_val(mean_losses)"
   ]
  },
  {
   "cell_type": "code",
   "execution_count": 8,
   "id": "f514a4f4",
   "metadata": {},
   "outputs": [
    {
     "name": "stdout",
     "output_type": "stream",
     "text": [
      "[2.73894202e+00 4.84864864e-01 1.40000000e+03]\n"
     ]
    }
   ],
   "source": [
    "print(vals[1])"
   ]
  },
  {
   "cell_type": "code",
   "execution_count": 9,
   "id": "92b40abb",
   "metadata": {},
   "outputs": [],
   "source": [
    "# OLD - dropped 2,3,8\n",
    "params = drop_params('Rosenbrock', vals[2][0], vals[2][1], vals[2][2])\n",
    "params = drop_params('Rosenbrock', vals[3][0], vals[3][1], vals[3][2])\n",
    "params = drop_params('Rosenbrock', vals[8][0], vals[8][1], vals[8][2])"
   ]
  },
  {
   "cell_type": "markdown",
   "id": "f8aaf13d",
   "metadata": {},
   "source": [
    "# Max Delay of 1"
   ]
  },
  {
   "cell_type": "code",
   "execution_count": 10,
   "id": "8ff30722",
   "metadata": {},
   "outputs": [
    {
     "name": "stdout",
     "output_type": "stream",
     "text": [
      "Best Losses: [2.01, 1.97, 2.47, 1.88, 2.02]\n",
      "Best Params Indices: {6: 2, 2: 3}\n",
      "Worse than Control: {3: 3, 8: 2}\n"
     ]
    }
   ],
   "source": [
    "# 2d max_L=1\n",
    "args = {\"loss_name\":'Rosenbrock', \"dim\":2, \"use_delays\":True, \"max_L\":1, \"constant_learning_rate\":False}\n",
    "\n",
    "good_ind = []\n",
    "bad_ind = []\n",
    "best_losses = []\n",
    "\n",
    "for j in range(num_tests):\n",
    "    vals, mean_losses = validate(rosen2d, args, num_params, num_points)\n",
    "    best_loss, best_params, i, worse_ind = results(vals, mean_losses)\n",
    "    bad_ind = bad_ind + list(worse_ind)\n",
    "    good_ind.append(i)\n",
    "    best_losses.append(best_loss)\n",
    "    \n",
    "print(\"Best Losses:\", best_losses)\n",
    "print(\"Best Params Indices:\", {ind:good_ind.count(ind) for ind in good_ind})\n",
    "print(\"Worse than Control:\", {ind:bad_ind.count(ind) for ind in bad_ind})"
   ]
  },
  {
   "cell_type": "code",
   "execution_count": 11,
   "id": "aceb2754",
   "metadata": {},
   "outputs": [
    {
     "data": {
      "image/png": "[encoded data removed]",
      "text/plain": [
       "<Figure size 432x288 with 1 Axes>"
      ]
     },
     "metadata": {
      "needs_background": "light"
     },
     "output_type": "display_data"
    }
   ],
   "source": [
    "plot_val(mean_losses)"
   ]
  },
  {
   "cell_type": "code",
   "execution_count": 12,
   "id": "7cb802aa",
   "metadata": {},
   "outputs": [
    {
     "name": "stdout",
     "output_type": "stream",
     "text": [
      "[  2.04803481   0.82461877 300.        ]\n",
      "[  2.22075156   0.80964885 400.        ]\n"
     ]
    }
   ],
   "source": [
    "print(vals[2])\n",
    "print(vals[6])"
   ]
  },
  {
   "cell_type": "code",
   "execution_count": 13,
   "id": "8d8f086c",
   "metadata": {},
   "outputs": [],
   "source": [
    "# OLD - dropped 3,8\n",
    "params = drop_params('Rosenbrock', vals[3][0], vals[3][1], vals[3][2])\n",
    "params = drop_params('Rosenbrock', vals[8][0], vals[8][1], vals[8][2])"
   ]
  },
  {
   "cell_type": "code",
   "execution_count": 14,
   "id": "2ba42e8b",
   "metadata": {},
   "outputs": [
    {
     "name": "stdout",
     "output_type": "stream",
     "text": [
      "Best Losses: [5.76, 5.7, 6.57, 6.24, 5.74]\n",
      "Best Params Indices: {7: 3, 4: 2}\n",
      "Worse than Control: {2: 4, 5: 5, 6: 2, 3: 1, 7: 1}\n"
     ]
    }
   ],
   "source": [
    "# 10d max_L=1\n",
    "args = {\"loss_name\":'Rosenbrock', \"dim\":10, \"use_delays\":True, \"max_L\":1, \"constant_learning_rate\":False}\n",
    "\n",
    "good_ind = []\n",
    "bad_ind = []\n",
    "best_losses = []\n",
    "\n",
    "for j in range(num_tests):\n",
    "    vals, mean_losses = validate(rosen10d, args, num_params, num_points)\n",
    "    best_loss, best_params, i, worse_ind = results(vals, mean_losses)\n",
    "    bad_ind = bad_ind + list(worse_ind)\n",
    "    good_ind.append(i)\n",
    "    best_losses.append(best_loss)\n",
    "    \n",
    "print(\"Best Losses:\", best_losses)\n",
    "print(\"Best Params Indices:\", {ind:good_ind.count(ind) for ind in good_ind})\n",
    "print(\"Worse than Control:\", {ind:bad_ind.count(ind) for ind in bad_ind})"
   ]
  },
  {
   "cell_type": "code",
   "execution_count": 15,
   "id": "850ba565",
   "metadata": {},
   "outputs": [
    {
     "data": {
      "image/png": "[encoded data removed]",
      "text/plain": [
       "<Figure size 432x288 with 1 Axes>"
      ]
     },
     "metadata": {
      "needs_background": "light"
     },
     "output_type": "display_data"
    }
   ],
   "source": [
    "plot_val(mean_losses)"
   ]
  },
  {
   "cell_type": "code",
   "execution_count": 17,
   "id": "72a8ebd0",
   "metadata": {},
   "outputs": [
    {
     "name": "stdout",
     "output_type": "stream",
     "text": [
      "[1.35968990e+00 9.44716406e-01 2.40000000e+03]\n",
      "[2.51964522e+00 4.18477608e-01 1.40000000e+03]\n"
     ]
    }
   ],
   "source": [
    "print(vals[7])\n",
    "print(vals[4])"
   ]
  },
  {
   "cell_type": "code",
   "execution_count": 18,
   "id": "acfcfc8f",
   "metadata": {},
   "outputs": [],
   "source": [
    "# OLD - dropped 2,5\n",
    "params = drop_params('Rosenbrock', vals[2][0], vals[2][1], vals[2][2])\n",
    "params = drop_params('Rosenbrock', vals[5][0], vals[5][1], vals[5][2])"
   ]
  },
  {
   "cell_type": "code",
   "execution_count": 19,
   "id": "5c2b4bcf",
   "metadata": {},
   "outputs": [
    {
     "name": "stdout",
     "output_type": "stream",
     "text": [
      "Best Losses: [98.7, 98.4, 98.5, 100.0, 100.0]\n",
      "Best Params Indices: {4: 5}\n",
      "Worse than Control: {1: 5, 2: 5, 3: 5, 5: 5, 7: 5}\n"
     ]
    }
   ],
   "source": [
    "# 100d max_L=1\n",
    "args = {\"loss_name\":'Rosenbrock', \"dim\":100, \"use_delays\":True, \"max_L\":1, \"constant_learning_rate\":False}\n",
    "\n",
    "good_ind = []\n",
    "bad_ind = []\n",
    "best_losses = []\n",
    "\n",
    "for j in range(num_tests):\n",
    "    vals, mean_losses = validate(rosen100d, args, num_params, num_points)\n",
    "    best_loss, best_params, i, worse_ind = results(vals, mean_losses)\n",
    "    bad_ind = bad_ind + list(worse_ind)\n",
    "    good_ind.append(i)\n",
    "    best_losses.append(best_loss)\n",
    "    \n",
    "print(\"Best Losses:\", best_losses)\n",
    "print(\"Best Params Indices:\", {ind:good_ind.count(ind) for ind in good_ind})\n",
    "print(\"Worse than Control:\", {ind:bad_ind.count(ind) for ind in bad_ind})"
   ]
  },
  {
   "cell_type": "code",
   "execution_count": 20,
   "id": "d636c2f5",
   "metadata": {},
   "outputs": [
    {
     "data": {
      "image/png": "[encoded data removed]",
      "text/plain": [
       "<Figure size 432x288 with 1 Axes>"
      ]
     },
     "metadata": {
      "needs_background": "light"
     },
     "output_type": "display_data"
    }
   ],
   "source": [
    "plot_val(mean_losses)"
   ]
  },
  {
   "cell_type": "code",
   "execution_count": 21,
   "id": "08056c2c",
   "metadata": {},
   "outputs": [
    {
     "name": "stdout",
     "output_type": "stream",
     "text": [
      "[1.96106227e+00 7.11081596e-01 8.00000000e+02]\n"
     ]
    }
   ],
   "source": [
    "print(vals[4])"
   ]
  },
  {
   "cell_type": "code",
   "execution_count": null,
   "id": "a14fb259",
   "metadata": {},
   "outputs": [],
   "source": [
    "# OLD - dropped 1,2,3,5,7\n",
    "params = drop_params('Rosenbrock', vals[1][0], vals[1][1], vals[1][2])\n",
    "params = drop_params('Rosenbrock', vals[2][0], vals[2][1], vals[2][2])\n",
    "params = drop_params('Rosenbrock', vals[3][0], vals[3][1], vals[3][2])\n",
    "params = drop_params('Rosenbrock', vals[5][0], vals[5][1], vals[5][2])\n",
    "params = drop_params('Rosenbrock', vals[7][0], vals[7][1], vals[7][2])"
   ]
  },
  {
   "cell_type": "code",
   "execution_count": 6,
   "id": "dce698cd",
   "metadata": {},
   "outputs": [
    {
     "name": "stdout",
     "output_type": "stream",
     "text": [
      "Best Losses: [1010.0, 1010.0, 1000.0, 1010.0, 1010.0]\n",
      "Best Params Indices: {8: 5}\n",
      "Worse than Control: {2: 1, 4: 5, 5: 5, 6: 5}\n"
     ]
    }
   ],
   "source": [
    "# 1000d max_L=1\n",
    "args = {\"loss_name\":'Rosenbrock', \"dim\":1000, \"use_delays\":True, \"max_L\":1, \"constant_learning_rate\":False}\n",
    "\n",
    "good_ind = []\n",
    "bad_ind = []\n",
    "best_losses = []\n",
    "\n",
    "for j in range(num_tests):\n",
    "    vals, mean_losses = validate(rosen1000d, args, num_params, num_points)\n",
    "    best_loss, best_params, i, worse_ind = results(vals, mean_losses)\n",
    "    bad_ind = bad_ind + list(worse_ind)\n",
    "    good_ind.append(i)\n",
    "    best_losses.append(best_loss)\n",
    "    \n",
    "print(\"Best Losses:\", best_losses)\n",
    "print(\"Best Params Indices:\", {ind:good_ind.count(ind) for ind in good_ind})\n",
    "print(\"Worse than Control:\", {ind:bad_ind.count(ind) for ind in bad_ind})"
   ]
  },
  {
   "cell_type": "code",
   "execution_count": 7,
   "id": "5dc58c92",
   "metadata": {},
   "outputs": [
    {
     "data": {
      "image/png": "[encoded data removed]",
      "text/plain": [
       "<Figure size 432x288 with 1 Axes>"
      ]
     },
     "metadata": {
      "needs_background": "light"
     },
     "output_type": "display_data"
    }
   ],
   "source": [
    "plot_val(mean_losses)"
   ]
  },
  {
   "cell_type": "code",
   "execution_count": 8,
   "id": "27cdc4bf",
   "metadata": {},
   "outputs": [
    {
     "name": "stdout",
     "output_type": "stream",
     "text": [
      "[3.60302764e+00 6.93843352e-01 1.30000000e+03]\n"
     ]
    }
   ],
   "source": [
    "print(vals[8])"
   ]
  },
  {
   "cell_type": "code",
   "execution_count": 9,
   "id": "9ba6a127",
   "metadata": {},
   "outputs": [],
   "source": [
    "# OLD - dropped 1,2,3,5,7\n",
    "params = drop_params('Rosenbrock', vals[4][0], vals[4][1], vals[4][2])\n",
    "params = drop_params('Rosenbrock', vals[5][0], vals[5][1], vals[5][2])\n",
    "params = drop_params('Rosenbrock', vals[6][0], vals[6][1], vals[6][2])"
   ]
  },
  {
   "cell_type": "code",
   "execution_count": null,
   "id": "b2dcbb99",
   "metadata": {},
   "outputs": [],
   "source": []
  },
  {
   "cell_type": "code",
   "execution_count": 18,
   "id": "7dd6a15f",
   "metadata": {},
   "outputs": [],
   "source": [
    "params = np.array([\n",
    "    ['Rosenbrock', 2, False, 0, 3.1561, 0.7792, 2300.0],     \n",
    "    ['Rosenbrock', 10, False, 0, 3.1838, 0.6166, 1300.0],    \n",
    "    ['Rosenbrock', 100, False, 0, 3.7281, 0.3693, 400.0],   \n",
    "    ['Rosenbrock', 1000, False, 0, 2.7389, 0.4849, 1400.0], \n",
    "    ['Rosenbrock', 2, True, 1, 2.048, 0.8246, 300.0],        \n",
    "    ['Rosenbrock', 10, True, 1, 2.8954, 0.6782, 800.0],       \n",
    "    ['Rosenbrock', 100, True, 1, 1.9611, 0.7111, 800.0],   \n",
    "    ['Rosenbrock', 1000, True, 1, 3.603, 0.6938, 1300.0],    \n",
    "])"
   ]
  },
  {
   "cell_type": "code",
   "execution_count": null,
   "id": "b87cec9a",
   "metadata": {},
   "outputs": [],
   "source": []
  },
  {
   "cell_type": "code",
   "execution_count": null,
   "id": "b871fc49",
   "metadata": {},
   "outputs": [],
   "source": []
  },
  {
   "cell_type": "code",
   "execution_count": 57,
   "id": "ee5d82e9",
   "metadata": {},
   "outputs": [],
   "source": [
    "test_params1 = {\"max_learning_rate\": 0.7272911920903335, \"min_learning_rate\": 1.3592428034693642, \"step_size\": 1100}\n",
    "test_params2 = {\"max_learning_rate\": 0.23025270939641995, \"min_learning_rate\": 1.1707706451588509, \"step_size\": 1000}\n",
    "test_params3 = {\"max_learning_rate\": 0.6263562546369942, \"min_learning_rate\": 1.4933742467660291, \"step_size\": 1300}\n",
    "test_params4 = {\"max_learning_rate\": 0.3558298929567429, \"min_learning_rate\": 1.43892877896833, \"step_size\": 1200}\n",
    "test_params5 = {\"max_learning_rate\": 1.51948837913446, \"min_learning_rate\": 0.42576586191473864, \"step_size\": 2100}\n",
    "params = [test_params1, test_params2, test_params3, test_params4, test_params5]"
   ]
  },
  {
   "cell_type": "code",
   "execution_count": 71,
   "id": "a974283c",
   "metadata": {},
   "outputs": [],
   "source": [
    "d = 100\n",
    "rosen[d].initialize_points('random', 1000)"
   ]
  },
  {
   "cell_type": "code",
   "execution_count": 72,
   "id": "0c63d679",
   "metadata": {},
   "outputs": [
    {
     "name": "stdout",
     "output_type": "stream",
     "text": [
      "0 : 99.66099560463648\n",
      "1 : 96.75825827732018\n",
      "3 : 97.56341927236174\n"
     ]
    }
   ],
   "source": [
    "for i, test_params in enumerate(params):\n",
    "    if i not in [0,1,3]:\n",
    "        continue\n",
    "    rosen[d].optimize(Uniform(1,1000), param_type='given', **test_params)\n",
    "    print(i, \":\", rosen[d].get_mean_final(rosen[d].loss_vals))"
   ]
  },
  {
   "cell_type": "code",
   "execution_count": null,
   "id": "e9f45768",
   "metadata": {},
   "outputs": [],
   "source": [
    "1, 1, 3,, 1, 0,, 1,, 1"
   ]
  },
  {
   "cell_type": "code",
   "execution_count": null,
   "id": "0e57255f",
   "metadata": {},
   "outputs": [],
   "source": [
    "test_params1 = {\"min_learning_rate\": 0.7272911920903335, \"max_learning_rate\": 1.3592428034693642, \"step_size\": 1100}\n",
    "test_params2 = {\"min_learning_rate\": 0.23025270939641995, \"max_learning_rate\": 1.1707706451588509, \"step_size\": 1000}\n",
    "test_params3 = {\"min_learning_rate\": 0.6263562546369942, \"max_learning_rate\": 1.4933742467660291, \"step_size\": 1300}\n",
    "test_params4 = {\"min_learning_rate\": 0.3558298929567429, \"max_learning_rate\": 1.43892877896833, \"step_size\": 1200}\n",
    "test_params5 = {\"max_learning_rate\": 1.51948837913446, \"min_learning_rate\": 0.42576586191473864, \"step_size\": 2100}\n",
    "params = [test_params1, test_params2,test_params3,test_params4, test_params5]"
   ]
  },
  {
   "cell_type": "code",
   "execution_count": 26,
   "id": "e05d5699",
   "metadata": {},
   "outputs": [
    {
     "name": "stdout",
     "output_type": "stream",
     "text": [
      "0 : 1.7157726596802232\n",
      "1 : 3.4114983154259537\n",
      "2 : 1.8883538085551699\n",
      "3 : 2.727053382216298\n",
      "4 : 2.4891788263795362\n"
     ]
    }
   ],
   "source": [
    "for i, test_params in enumerate(params):\n",
    "    rosen[d].optimize(Uniform(1,1000), param_type='given', **test_params)\n",
    "    print(i, \":\", rosen[d].get_mean_final(rosen[d].loss_vals))"
   ]
  },
  {
   "cell_type": "code",
   "execution_count": null,
   "id": "15ec6fa6",
   "metadata": {},
   "outputs": [],
   "source": [
    "0, 0, 0, 000"
   ]
  }
 ],
 "metadata": {
  "kernelspec": {
   "display_name": "Python 3 (ipykernel)",
   "language": "python",
   "name": "python3"
  },
  "language_info": {
   "codemirror_mode": {
    "name": "ipython",
    "version": 3
   },
   "file_extension": ".py",
   "mimetype": "text/x-python",
   "name": "python",
   "nbconvert_exporter": "python",
   "pygments_lexer": "ipython3",
   "version": "3.9.12"
  }
 },
 "nbformat": 4,
 "nbformat_minor": 5
}
