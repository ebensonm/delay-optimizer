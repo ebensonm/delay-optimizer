{
 "cells": [
  {
   "cell_type": "code",
   "execution_count": 1,
   "id": "8528b7d0",
   "metadata": {},
   "outputs": [],
   "source": [
    "import numpy as np\n",
    "import sys\n",
    "import pandas as pd\n",
    "from matplotlib import pyplot as plt\n",
    "sys.path.append('/home/cayjobla/Desktop/Research/delay-optimizer')\n",
    "from DelayEffects.Analyzer import Analyzer"
   ]
  },
  {
   "cell_type": "code",
   "execution_count": 2,
   "id": "7d4b10db",
   "metadata": {},
   "outputs": [],
   "source": [
    "loss_name = 'Rosenbrock'"
   ]
  },
  {
   "cell_type": "markdown",
   "id": "7bec12f6",
   "metadata": {},
   "source": [
    "## Defining Delay Types"
   ]
  },
  {
   "cell_type": "code",
   "execution_count": 3,
   "id": "9e4351e0",
   "metadata": {},
   "outputs": [],
   "source": [
    "def undelayed(analyzer):\n",
    "    \"\"\"Returns the mean of the final loss values after optimization.\n",
    "    Optimization type : Undelayed\n",
    "    \"\"\"\n",
    "    # Optimize\n",
    "    analyzer.calculate_save_values(False, save_grad=False, save_state=False, \n",
    "                                   save_iters=False, break_opt=False)\n",
    "    return np.mean(analyzer.final_losses)\n",
    "\n",
    "def uniform(analyzer, num_delays=None):\n",
    "    \"\"\"Returns the mean of the final loss values after optimization.\n",
    "    Optimization type : Persistent \n",
    "        (delayed by max_L in all dimensions)\n",
    "    \"\"\"\n",
    "    # Define delays\n",
    "    D = [analyzer.max_L * np.ones(analyzer.n, dtype=int)]\n",
    "    \n",
    "    # Optimize\n",
    "    analyzer.calculate_save_values(True, num_delays=num_delays, D=D, random=False, \n",
    "                                   save_grad=False, save_state=False, save_iters=False, \n",
    "                                   break_opt=False)\n",
    "    return np.mean(analyzer.del_final_losses)\n",
    "\n",
    "def stochastic(analyzer, num_delays=None):\n",
    "    \"\"\"Returns the mean of the final loss values after optimization.\n",
    "    Optimization type : Stochastic \n",
    "        (delayed randomly in each dimension at each time step)\n",
    "    \"\"\"\n",
    "    # Optimize\n",
    "    analyzer.calculate_save_values(True, num_delays=num_delays, D=None, random=True, \n",
    "                                   save_grad=False, save_state=False, save_iters=False, \n",
    "                                   break_opt=False)\n",
    "    return np.mean(analyzer.del_final_losses)\n",
    "\n",
    "def decaying(analyzer, stochastic=False):\n",
    "    \"\"\"Returns the mean of the final loss values after optimization.\n",
    "    Optimization type : Decaying \n",
    "        (max_L decays over time)\n",
    "    \"\"\"\n",
    "    # Get array of decaying max_Ls\n",
    "    m = analyzer.maxiter / (analyzer.max_L+1)\n",
    "    L = np.repeat(np.arange(analyzer.max_L+1)[::-1], m)\n",
    "    L = np.pad(L, (0,analyzer.maxiter-len(L)))\n",
    "    \n",
    "    # Define delays\n",
    "    if stochastic is True:\n",
    "        D = [np.random.randint(0,l+1,size=analyzer.n) for l in L]\n",
    "    else:\n",
    "        D = [l*np.ones(analyzer.n, dtype=int) for l in L]\n",
    "    \n",
    "    # Optimize\n",
    "    analyzer.calculate_save_values(True, num_delays=analyzer.maxiter, D=D, random=False, \n",
    "                                   save_grad=False, save_state=False, save_iters=False, \n",
    "                                   break_opt=False)\n",
    "    return np.mean(analyzer.del_final_losses)\n",
    "\n",
    "def partial(analyzer, p, stochastic=False, num_delays=None):\n",
    "    \"\"\"Returns the mean of the final loss values after optimization.\n",
    "    Optimization type : Partial \n",
    "        (p percent of the dimensions are delayed)\n",
    "    \"\"\"\n",
    "    # Determine how many dimensions are delayed\n",
    "    d = int(p * analyzer.n)\n",
    "    if d == 0: d = 1\n",
    "    \n",
    "    # Choose which dimensions to delay at each time step\n",
    "    dims = [np.random.choice(np.arange(0,analyzer.n), replace=False, size=d) \n",
    "            for i in range(analyzer.maxiter)]\n",
    "    \n",
    "    # Define delays\n",
    "    D = [np.zeros(analyzer.n, dtype=int) for i in range(analyzer.maxiter)]\n",
    "    if stochastic is True:\n",
    "        for i in range(analyzer.maxiter):\n",
    "            D[i][dims[i]] = np.random.randint(1, analyzer.max_L+1, size=d)\n",
    "    else:\n",
    "        for i in range(analyzer.maxiter):\n",
    "            D[i][dims[i]] = analyzer.max_L\n",
    "    \n",
    "    # Optimize\n",
    "    analyzer.calculate_save_values(True, num_delays=num_delays, D=D, random=False, \n",
    "                                   save_grad=False, save_state=False, save_iters=False, \n",
    "                                   break_opt=False)\n",
    "    return np.mean(analyzer.del_final_losses)"
   ]
  },
  {
   "cell_type": "code",
   "execution_count": 4,
   "id": "d1e16d89",
   "metadata": {},
   "outputs": [],
   "source": [
    "def calc_means(analyzer, num_points, p, num_delays=None):\n",
    "    # Initialize\n",
    "    analyzer.initialize_points(num_points, 'random')\n",
    "    \n",
    "    # Get final loss means\n",
    "    undelayed_mean = undelayed(analyzer)\n",
    "    uniform_full_mean = uniform(analyzer, analyzer.maxiter)\n",
    "    uniform_mean = uniform(analyzer, num_delays)\n",
    "    stoch_full_mean = stochastic(analyzer, analyzer.maxiter)\n",
    "    stoch_mean = stochastic(analyzer, num_delays)\n",
    "    decay_mean = decaying(analyzer, False)\n",
    "    decay_stoch_mean = decaying(analyzer, True)\n",
    "    partial_mean = partial(analyzer, p, False, analyzer.maxiter)\n",
    "    partial_stoch_mean = partial(analyzer, p, True, analyzer.maxiter)\n",
    "    \n",
    "    means = [undelayed_mean, uniform_full_mean, uniform_mean, stoch_full_mean, stoch_mean, \n",
    "             decay_mean, decay_stoch_mean, partial_mean, partial_stoch_mean]\n",
    "    return means\n",
    "    \n",
    "def plot_means(means):\n",
    "    first_bars = [means[1], means[3], means[5], means[7]]\n",
    "    second_bars = [means[2], means[4], means[6], means[8]]\n",
    "    width = 0.35\n",
    "    ind = np.arange(5)\n",
    "    \n",
    "    plt.bar([width/2], [means[0]], width, color='C1')\n",
    "    plt.bar(ind[1:], first_bars, width, color=['C0', 'C2', 'C3', 'C4'])\n",
    "    plt.bar(ind[1:] + width, second_bars, width, color=['C0', 'C2', 'C3', 'C4'], \n",
    "            alpha=0.5)\n",
    "    \n",
    "    delay_names = [\"Undelayed\", \"Uniform\", \"Stochastic\", \"Decaying\", \"Partial\"]\n",
    "    plt.xticks(ind+width/2, delay_names, rotation='vertical', fontsize=12)"
   ]
  },
  {
   "cell_type": "code",
   "execution_count": 5,
   "id": "cafcef3a",
   "metadata": {},
   "outputs": [],
   "source": [
    "# Initialize for max_L = 1\n",
    "max_L = 1\n",
    "rosen2d = Analyzer(2, loss_name, max_L=max_L, verbose=False)\n",
    "rosen10d = Analyzer(10, loss_name, max_L=max_L, verbose=False)\n",
    "rosen100d = Analyzer(100, loss_name, max_L=max_L, verbose=False)\n",
    "rosen1000d = Analyzer(1000, loss_name, max_L=max_L, verbose=False)"
   ]
  },
  {
   "cell_type": "markdown",
   "id": "149f0b7d",
   "metadata": {},
   "source": [
    "## Parameter Testing"
   ]
  },
  {
   "cell_type": "code",
   "execution_count": 14,
   "id": "74dce09c",
   "metadata": {},
   "outputs": [
    {
     "data": {
      "image/png": "[encoded data removed]",
      "text/plain": [
       "<Figure size 720x576 with 1 Axes>"
      ]
     },
     "metadata": {
      "needs_background": "light"
     },
     "output_type": "display_data"
    },
    {
     "name": "stdout",
     "output_type": "stream",
     "text": [
      "Minimum Loss: 1.0965806742355082e-08\n",
      "Mean Loss: 0.49975813117050294\n",
      "Median Loss: 0.0035900357377241393\n"
     ]
    }
   ],
   "source": [
    "# 2d params\n",
    "rosen2d.params = {'step_size': 1300.0, 'min_learning_rate': 0.51, 'max_learning_rate': 3.24}\n",
    "rosen2d.optimize(10000, 'random', False, [(False, 'finals', 'loss')], break_opt=True)"
   ]
  },
  {
   "cell_type": "code",
   "execution_count": 17,
   "id": "e901fa29",
   "metadata": {},
   "outputs": [
    {
     "data": {
      "image/png": "[encoded data removed]",
      "text/plain": [
       "<Figure size 720x576 with 1 Axes>"
      ]
     },
     "metadata": {
      "needs_background": "light"
     },
     "output_type": "display_data"
    },
    {
     "name": "stdout",
     "output_type": "stream",
     "text": [
      "Minimum Loss: 1.0476014678076884e-08\n",
      "Mean Loss: 0.5692811103216978\n",
      "Median Loss: 0.0036702596167966324\n"
     ]
    }
   ],
   "source": [
    "# 2d params\n",
    "rosen2d.params = {'step_size': 1150.0, 'min_learning_rate': 0.51, 'max_learning_rate': 3.24}\n",
    "rosen2d.optimize(10000, 'random', False, [(False, 'finals', 'loss')], break_opt=True)\n",
    "\n",
    "# These parameters seem to work fairly well for all dimensions, so supercomputer optimization \n",
    "# will focus around these params"
   ]
  },
  {
   "cell_type": "code",
   "execution_count": null,
   "id": "82c1599a",
   "metadata": {},
   "outputs": [],
   "source": []
  },
  {
   "cell_type": "code",
   "execution_count": null,
   "id": "f6a73a9b",
   "metadata": {},
   "outputs": [],
   "source": []
  },
  {
   "cell_type": "code",
   "execution_count": null,
   "id": "a40db2d7",
   "metadata": {},
   "outputs": [],
   "source": []
  },
  {
   "cell_type": "code",
   "execution_count": 7,
   "id": "d38c0940",
   "metadata": {},
   "outputs": [],
   "source": [
    "means2d = calc_means(rosen2d, 1000, 0.5, num_delays=1000)\n",
    "means10d = calc_means(rosen10d, 1000, 0.5, num_delays=1000)\n",
    "means100d = calc_means(rosen100d, 1000, 0.5, num_delays=1000)\n",
    "means1000d = calc_means(rosen1000d, 1000, 0.5, num_delays=1000)"
   ]
  },
  {
   "cell_type": "code",
   "execution_count": 8,
   "id": "3dcb600b",
   "metadata": {},
   "outputs": [
    {
     "data": {
      "image/png": "[encoded data removed]",
      "text/plain": [
       "<Figure size 1440x288 with 4 Axes>"
      ]
     },
     "metadata": {
      "needs_background": "light"
     },
     "output_type": "display_data"
    }
   ],
   "source": [
    "# Initialize figure\n",
    "fig = plt.figure(figsize=(20, 4))\n",
    "ax = fig.subplots(1, 4)\n",
    "\n",
    "ax = plt.subplot(141)\n",
    "plot_means(means2d)\n",
    "plt.ylabel(\"Average Final Loss\")\n",
    "ax.set_yscale('log')\n",
    "plt.title(\"Rosenbrock 2d\", fontsize=14)\n",
    "\n",
    "ax = plt.subplot(142)\n",
    "plot_means(means10d)\n",
    "plt.title(\"Rosenbrock 10d\", fontsize=14)\n",
    "ax.set_yscale('log')\n",
    "\n",
    "ax = plt.subplot(143)\n",
    "plot_means(means100d)\n",
    "plt.title(\"Rosenbrock 100d\", fontsize=14)\n",
    "ax.set_yscale('log')\n",
    "\n",
    "ax = plt.subplot(144)\n",
    "plot_means(means1000d)\n",
    "plt.title(\"Rosenbrock 1000d\", fontsize=14)\n",
    "ax.set_yscale('log')\n",
    "\n",
    "fig.suptitle(\"Average Final Loss for Delayed and Undelayed Optimization\", y=1.1, size=20)\n",
    "plt.subplots_adjust(wspace=0.32)\n",
    "plt.savefig(\"rosen_types1.png\", bbox_inches=\"tight\")\n",
    "plt.show()"
   ]
  },
  {
   "cell_type": "code",
   "execution_count": 8,
   "id": "54d2b918",
   "metadata": {},
   "outputs": [],
   "source": [
    "means = np.array([means2d, means10d, means100d, means1000d])\n",
    "np.save(\"rosen_means1.npy\", means)"
   ]
  },
  {
   "cell_type": "code",
   "execution_count": 9,
   "id": "cf2b6d87",
   "metadata": {
    "collapsed": true
   },
   "outputs": [
    {
     "name": "stdout",
     "output_type": "stream",
     "text": [
      "Rosenbrock 2d\n",
      "Undelayed: 1.9442974005044134\n",
      "Uniform full iters: 3.1177709965791967\n",
      "Uniform delay: 2.814759268250541\n",
      "Stochastic full iters: 3.3301819625166824\n",
      "Stochastic delay: 2.8897243101452816\n",
      "Decaying delay: 2.8624154035321054\n",
      "Decaying Stochastic: 3.2369023472135434\n",
      "Partial delay: 3.1630989323041905\n",
      "Partial Stochastic: 3.3556755642563667\n",
      "\n",
      "\n",
      "Rosenbrock 10d\n",
      "Undelayed: 13.143621224536538\n",
      "Uniform full iters: 75.9665125957185\n",
      "Uniform delay: 13.483937009900176\n",
      "Stochastic full iters: 32.6324172831938\n",
      "Stochastic delay: 11.380768661125503\n",
      "Decaying delay: 13.307280994183257\n",
      "Decaying Stochastic: 9.891275425488548\n",
      "Partial delay: 39.43208267736632\n",
      "Partial Stochastic: 34.00693868003575\n",
      "\n",
      "\n",
      "Rosenbrock 100d\n",
      "Undelayed: 158.62986881099695\n",
      "Uniform full iters: 199.05777911108424\n",
      "Uniform delay: 130.52052141814127\n",
      "Stochastic full iters: 191.474948911858\n",
      "Stochastic delay: 129.9138978205419\n",
      "Decaying delay: 134.38433763423117\n",
      "Decaying Stochastic: 130.85612933248046\n",
      "Partial delay: 177.0839444374118\n",
      "Partial Stochastic: 144.0157448859395\n",
      "\n",
      "\n",
      "Rosenbrock 1000d\n",
      "Undelayed: 1641.1481598543248\n",
      "Uniform full iters: 1760.9857587717138\n",
      "Uniform delay: 1320.8060328089646\n",
      "Stochastic full iters: 1540.7503885785443\n",
      "Stochastic delay: 1331.8587682089037\n",
      "Decaying delay: 1365.5895045427892\n",
      "Decaying Stochastic: 1331.3373453074364\n",
      "Partial delay: 1547.3456010941882\n",
      "Partial Stochastic: 1504.7475154917101\n",
      "\n",
      "\n"
     ]
    }
   ],
   "source": [
    "delay_name = [\"Undelayed:\", \"Uniform full iters:\", \"Uniform delay:\", \"Stochastic full iters:\", \n",
    "             \"Stochastic delay:\", \"Decaying delay:\", \"Decaying Stochastic:\", \"Partial delay:\",\n",
    "             \"Partial Stochastic:\"]\n",
    "means = {2:means2d, 10:means10d, 100:means100d, 1000:means1000d}\n",
    "\n",
    "for n in [2, 10, 100, 1000]:\n",
    "    print(f\"Rosenbrock {n}d\")\n",
    "    for i in range(9):\n",
    "        print(delay_name[i], means[n][i])\n",
    "    print('\\n')"
   ]
  },
  {
   "cell_type": "code",
   "execution_count": 5,
   "id": "f7e3cebd",
   "metadata": {},
   "outputs": [],
   "source": [
    "# Initialize for max_L = 2\n",
    "max_L = 2\n",
    "rosen2d = Analyzer(2, loss_name, max_L=max_L, verbose=False)\n",
    "rosen10d = Analyzer(10, loss_name, max_L=max_L, verbose=False)\n",
    "rosen100d = Analyzer(100, loss_name, max_L=max_L, verbose=False)\n",
    "rosen1000d = Analyzer(1000, loss_name, max_L=max_L, verbose=False)"
   ]
  },
  {
   "cell_type": "code",
   "execution_count": 6,
   "id": "4aafa536",
   "metadata": {},
   "outputs": [],
   "source": [
    "means2d = calc_means(rosen2d, 1000, 0.5, num_delays=1000)\n",
    "means10d = calc_means(rosen10d, 1000, 0.5, num_delays=1000)\n",
    "means100d = calc_means(rosen100d, 1000, 0.5, num_delays=1000)\n",
    "means1000d = calc_means(rosen1000d, 1000, 0.5, num_delays=1000)"
   ]
  },
  {
   "cell_type": "code",
   "execution_count": 7,
   "id": "7a706ed8",
   "metadata": {},
   "outputs": [
    {
     "data": {
      "image/png": "[encoded data removed]",
      "text/plain": [
       "<Figure size 1440x288 with 4 Axes>"
      ]
     },
     "metadata": {
      "needs_background": "light"
     },
     "output_type": "display_data"
    }
   ],
   "source": [
    "# Initialize figure\n",
    "fig = plt.figure(figsize=(20, 4))\n",
    "ax = fig.subplots(1, 4)\n",
    "\n",
    "ax = plt.subplot(141)\n",
    "plot_means(means2d)\n",
    "plt.ylabel(\"Average Final Loss\")\n",
    "ax.set_yscale('log')\n",
    "plt.title(\"Rosenbrock 2d\", fontsize=14)\n",
    "\n",
    "ax = plt.subplot(142)\n",
    "plot_means(means10d)\n",
    "plt.title(\"Rosenbrock 10d\", fontsize=14)\n",
    "ax.set_yscale('log')\n",
    "\n",
    "ax = plt.subplot(143)\n",
    "plot_means(means100d)\n",
    "plt.title(\"Rosenbrock 100d\", fontsize=14)\n",
    "ax.set_yscale('log')\n",
    "\n",
    "ax = plt.subplot(144)\n",
    "plot_means(means1000d)\n",
    "plt.title(\"Rosenbrock 1000d\", fontsize=14)\n",
    "ax.set_yscale('log')\n",
    "\n",
    "fig.suptitle(\"Average Final Loss for Delayed and Undelayed Optimization\", y=1.1, size=20)\n",
    "plt.subplots_adjust(wspace=0.32)\n",
    "plt.savefig(\"rosen_types2.png\", bbox_inches=\"tight\")\n",
    "plt.show()"
   ]
  },
  {
   "cell_type": "code",
   "execution_count": 8,
   "id": "c9d662bb",
   "metadata": {},
   "outputs": [],
   "source": [
    "means = np.array([means2d, means10d, means100d, means1000d])\n",
    "np.save(\"rosen_means2.npy\", means)"
   ]
  },
  {
   "cell_type": "code",
   "execution_count": 9,
   "id": "bf830c02",
   "metadata": {},
   "outputs": [
    {
     "name": "stdout",
     "output_type": "stream",
     "text": [
      "Rosenbrock 2d\n",
      "Undelayed: 1.46906175291321\n",
      "Uniform full iters: 1710.1772529768873\n",
      "Uniform delay: 39.378378523236364\n",
      "Stochastic full iters: 2121.3408285954074\n",
      "Stochastic delay: 2.8574989236015025\n",
      "Decaying delay: 2.393142343518232\n",
      "Decaying Stochastic: 1.401732526044394\n",
      "Partial delay: 225.3860145608925\n",
      "Partial Stochastic: 804.1887945008507\n",
      "\n",
      "\n",
      "Rosenbrock 10d\n",
      "Undelayed: 12.741755867232905\n",
      "Uniform full iters: 1148.491446425277\n",
      "Uniform delay: 12.022006414019092\n",
      "Stochastic full iters: 136.35510782961006\n",
      "Stochastic delay: 10.994872850680974\n",
      "Decaying delay: 12.328705813072927\n",
      "Decaying Stochastic: 12.654142453185425\n",
      "Partial delay: 38.28142689665715\n",
      "Partial Stochastic: 21.783277565041093\n",
      "\n",
      "\n",
      "Rosenbrock 100d\n",
      "Undelayed: 150.15201723668787\n",
      "Uniform full iters: 719.5207372124856\n",
      "Uniform delay: 144.64917582953123\n",
      "Stochastic full iters: 455.1547442047099\n",
      "Stochastic delay: 106.17690042967622\n",
      "Decaying delay: 126.24584539784226\n",
      "Decaying Stochastic: 101.6707049659594\n",
      "Partial delay: 284.3823182180564\n",
      "Partial Stochastic: 516.4914802005881\n",
      "\n",
      "\n",
      "Rosenbrock 1000d\n",
      "Undelayed: 1832.232120195194\n",
      "Uniform full iters: 41428.13708753598\n",
      "Uniform delay: 2008.164802729479\n",
      "Stochastic full iters: 7797.222708493459\n",
      "Stochastic delay: 1860.1882296122228\n",
      "Decaying delay: 2050.8428216760353\n",
      "Decaying Stochastic: 1860.8071133900023\n",
      "Partial delay: 4989.005055317102\n",
      "Partial Stochastic: 4545.179182623144\n",
      "\n",
      "\n"
     ]
    }
   ],
   "source": [
    "delay_name = [\"Undelayed:\", \"Uniform full iters:\", \"Uniform delay:\", \"Stochastic full iters:\", \n",
    "             \"Stochastic delay:\", \"Decaying delay:\", \"Decaying Stochastic:\", \"Partial delay:\",\n",
    "             \"Partial Stochastic:\"]\n",
    "means = {2:means2d, 10:means10d, 100:means100d, 1000:means1000d}\n",
    "\n",
    "for n in [2, 10, 100, 1000]:\n",
    "    print(f\"Rosenbrock {n}d\")\n",
    "    for i in range(9):\n",
    "        print(delay_name[i], means[n][i])\n",
    "    print('\\n')"
   ]
  },
  {
   "cell_type": "code",
   "execution_count": 10,
   "id": "b69ae576",
   "metadata": {},
   "outputs": [],
   "source": [
    "# Initialize for max_L = 3\n",
    "max_L = 3\n",
    "rosen2d = Analyzer(2, loss_name, max_L=max_L, verbose=False)\n",
    "rosen10d = Analyzer(10, loss_name, max_L=max_L, verbose=False)\n",
    "rosen100d = Analyzer(100, loss_name, max_L=max_L, verbose=False)\n",
    "rosen1000d = Analyzer(1000, loss_name, max_L=max_L, verbose=False)"
   ]
  },
  {
   "cell_type": "code",
   "execution_count": 11,
   "id": "c0817fba",
   "metadata": {},
   "outputs": [],
   "source": [
    "means2d = calc_means(rosen2d, 1000, 0.5, num_delays=1000)\n",
    "means10d = calc_means(rosen10d, 1000, 0.5, num_delays=1000)\n",
    "means100d = calc_means(rosen100d, 1000, 0.5, num_delays=1000)\n",
    "means1000d = calc_means(rosen1000d, 1000, 0.5, num_delays=1000)"
   ]
  },
  {
   "cell_type": "code",
   "execution_count": 12,
   "id": "9699f816",
   "metadata": {},
   "outputs": [
    {
     "data": {
      "image/png": "[encoded data removed]",
      "text/plain": [
       "<Figure size 1440x288 with 4 Axes>"
      ]
     },
     "metadata": {
      "needs_background": "light"
     },
     "output_type": "display_data"
    }
   ],
   "source": [
    "# Initialize figure\n",
    "fig = plt.figure(figsize=(20, 4))\n",
    "ax = fig.subplots(1, 4)\n",
    "\n",
    "ax = plt.subplot(141)\n",
    "plot_means(means2d)\n",
    "plt.ylabel(\"Average Final Loss\")\n",
    "ax.set_yscale('log')\n",
    "plt.title(\"Rosenbrock 2d\", fontsize=14)\n",
    "\n",
    "ax = plt.subplot(142)\n",
    "plot_means(means10d)\n",
    "plt.title(\"Rosenbrock 10d\", fontsize=14)\n",
    "ax.set_yscale('log')\n",
    "\n",
    "ax = plt.subplot(143)\n",
    "plot_means(means100d)\n",
    "plt.title(\"Rosenbrock 100d\", fontsize=14)\n",
    "ax.set_yscale('log')\n",
    "\n",
    "ax = plt.subplot(144)\n",
    "plot_means(means1000d)\n",
    "plt.title(\"Rosenbrock 1000d\", fontsize=14)\n",
    "ax.set_yscale('log')\n",
    "\n",
    "fig.suptitle(\"Average Final Loss for Delayed and Undelayed Optimization\", y=1.1, size=20)\n",
    "plt.subplots_adjust(wspace=0.32)\n",
    "plt.savefig(\"rosen_types3.png\", bbox_inches=\"tight\")\n",
    "plt.show()"
   ]
  },
  {
   "cell_type": "code",
   "execution_count": 13,
   "id": "b9829583",
   "metadata": {},
   "outputs": [],
   "source": [
    "means = np.array([means2d, means10d, means100d, means1000d])\n",
    "np.save(\"rosen_means3.npy\", means)"
   ]
  },
  {
   "cell_type": "code",
   "execution_count": 14,
   "id": "dbb64878",
   "metadata": {},
   "outputs": [
    {
     "name": "stdout",
     "output_type": "stream",
     "text": [
      "Rosenbrock 2d\n",
      "Undelayed: 1.1465865707615688\n",
      "Uniform full iters: 650.7651316381061\n",
      "Uniform delay: 2.863586395469341\n",
      "Stochastic full iters: 6.092780497675928\n",
      "Stochastic delay: 2.3705483932140137\n",
      "Decaying delay: 3.06747037363258\n",
      "Decaying Stochastic: 2.9321935773393673\n",
      "Partial delay: 28.05419472843496\n",
      "Partial Stochastic: 24.904152666252497\n",
      "\n",
      "\n",
      "Rosenbrock 10d\n",
      "Undelayed: 12.635336965391213\n",
      "Uniform full iters: 88.1000105827279\n",
      "Uniform delay: 29.355833035527223\n",
      "Stochastic full iters: 39.660298103661326\n",
      "Stochastic delay: 22.18857541910809\n",
      "Decaying delay: 33.67378091276623\n",
      "Decaying Stochastic: 24.08362957872047\n",
      "Partial delay: 39.13137010099691\n",
      "Partial Stochastic: 30.064240861482972\n",
      "\n",
      "\n",
      "Rosenbrock 100d\n",
      "Undelayed: 364.6583495967904\n",
      "Uniform full iters: 614038.8133120585\n",
      "Uniform delay: 142.90788613984077\n",
      "Stochastic full iters: 84449.0170494087\n",
      "Stochastic delay: 308.8977747803705\n",
      "Decaying delay: 135.5842283609352\n",
      "Decaying Stochastic: 128.62131652575658\n",
      "Partial delay: 34876.16937826933\n",
      "Partial Stochastic: 32632.241912506786\n",
      "\n",
      "\n",
      "Rosenbrock 1000d\n",
      "Undelayed: 1895.2121837600187\n",
      "Uniform full iters: 12786.733666143306\n",
      "Uniform delay: 4639.5211809587\n",
      "Stochastic full iters: 6290.5239841910725\n",
      "Stochastic delay: 3645.841585554744\n",
      "Decaying delay: 5407.034024708698\n",
      "Decaying Stochastic: 3934.030254031792\n",
      "Partial delay: 6277.590281217208\n",
      "Partial Stochastic: 4788.597032142499\n",
      "\n",
      "\n"
     ]
    }
   ],
   "source": [
    "delay_name = [\"Undelayed:\", \"Uniform full iters:\", \"Uniform delay:\", \"Stochastic full iters:\", \n",
    "             \"Stochastic delay:\", \"Decaying delay:\", \"Decaying Stochastic:\", \"Partial delay:\",\n",
    "             \"Partial Stochastic:\"]\n",
    "means = {2:means2d, 10:means10d, 100:means100d, 1000:means1000d}\n",
    "\n",
    "for n in [2, 10, 100, 1000]:\n",
    "    print(f\"Rosenbrock {n}d\")\n",
    "    for i in range(9):\n",
    "        print(delay_name[i], means[n][i])\n",
    "    print('\\n')"
   ]
  },
  {
   "cell_type": "code",
   "execution_count": 15,
   "id": "206baa99",
   "metadata": {},
   "outputs": [],
   "source": [
    "# Initialize for max_L = 4\n",
    "max_L = 4\n",
    "rosen2d = Analyzer(2, loss_name, max_L=max_L, verbose=False)\n",
    "rosen10d = Analyzer(10, loss_name, max_L=max_L, verbose=False)\n",
    "rosen100d = Analyzer(100, loss_name, max_L=max_L, verbose=False)\n",
    "rosen1000d = Analyzer(1000, loss_name, max_L=max_L, verbose=False)"
   ]
  },
  {
   "cell_type": "code",
   "execution_count": 16,
   "id": "1d266133",
   "metadata": {},
   "outputs": [],
   "source": [
    "means2d = calc_means(rosen2d, 1000, 0.5, num_delays=1000)\n",
    "means10d = calc_means(rosen10d, 1000, 0.5, num_delays=1000)\n",
    "means100d = calc_means(rosen100d, 1000, 0.5, num_delays=1000)\n",
    "means1000d = calc_means(rosen1000d, 1000, 0.5, num_delays=1000)"
   ]
  },
  {
   "cell_type": "code",
   "execution_count": 17,
   "id": "c85a9c92",
   "metadata": {},
   "outputs": [
    {
     "data": {
      "image/png": "[encoded data removed]",
      "text/plain": [
       "<Figure size 1440x288 with 4 Axes>"
      ]
     },
     "metadata": {
      "needs_background": "light"
     },
     "output_type": "display_data"
    }
   ],
   "source": [
    "# Initialize figure\n",
    "fig = plt.figure(figsize=(20, 4))\n",
    "ax = fig.subplots(1, 4)\n",
    "\n",
    "ax = plt.subplot(141)\n",
    "plot_means(means2d)\n",
    "plt.ylabel(\"Average Final Loss\")\n",
    "ax.set_yscale('log')\n",
    "plt.title(\"Rosenbrock 2d\", fontsize=14)\n",
    "\n",
    "ax = plt.subplot(142)\n",
    "plot_means(means10d)\n",
    "plt.title(\"Rosenbrock 10d\", fontsize=14)\n",
    "ax.set_yscale('log')\n",
    "\n",
    "ax = plt.subplot(143)\n",
    "plot_means(means100d)\n",
    "plt.title(\"Rosenbrock 100d\", fontsize=14)\n",
    "ax.set_yscale('log')\n",
    "\n",
    "ax = plt.subplot(144)\n",
    "plot_means(means1000d)\n",
    "plt.title(\"Rosenbrock 1000d\", fontsize=14)\n",
    "ax.set_yscale('log')\n",
    "\n",
    "fig.suptitle(\"Average Final Loss for Delayed and Undelayed Optimization\", y=1.1, size=20)\n",
    "plt.subplots_adjust(wspace=0.32)\n",
    "plt.savefig(\"rosen_types3.png\", bbox_inches=\"tight\")\n",
    "plt.show()"
   ]
  },
  {
   "cell_type": "code",
   "execution_count": 18,
   "id": "0c5f1811",
   "metadata": {},
   "outputs": [],
   "source": [
    "means = np.array([means2d, means10d, means100d, means1000d])\n",
    "np.save(\"rosen_means4.npy\", means)"
   ]
  },
  {
   "cell_type": "code",
   "execution_count": 19,
   "id": "1d88d67a",
   "metadata": {},
   "outputs": [
    {
     "name": "stdout",
     "output_type": "stream",
     "text": [
      "Rosenbrock 2d\n",
      "Undelayed: 1.5084412602647381\n",
      "Uniform full iters: 5566.4986791798565\n",
      "Uniform delay: 3.0628305370448725\n",
      "Stochastic full iters: 688.7438222784509\n",
      "Stochastic delay: 2.5504009425642544\n",
      "Decaying delay: 3.3132286583293706\n",
      "Decaying Stochastic: 3.753718185612045\n",
      "Partial delay: 11.30872734070247\n",
      "Partial Stochastic: 36.286104539583135\n",
      "\n",
      "\n",
      "Rosenbrock 10d\n",
      "Undelayed: 355.4393681070204\n",
      "Uniform full iters: 60.87219072663527\n",
      "Uniform delay: 12.015348545568013\n",
      "Stochastic full iters: 24.881954718088004\n",
      "Stochastic delay: 9.618822893436445\n",
      "Decaying delay: 13.478907699501539\n",
      "Decaying Stochastic: 7.492336209248781\n",
      "Partial delay: 13.630738819629308\n",
      "Partial Stochastic: 29.634748890284925\n",
      "\n",
      "\n",
      "Rosenbrock 100d\n",
      "Undelayed: 103.08939566439454\n",
      "Uniform full iters: 1939.1986806030197\n",
      "Uniform delay: 145.60464693261838\n",
      "Stochastic full iters: 376.8778889015173\n",
      "Stochastic delay: 140.92758697884778\n",
      "Decaying delay: 141.72244851577787\n",
      "Decaying Stochastic: 140.04987322143162\n",
      "Partial delay: 171.47004142590578\n",
      "Partial Stochastic: 150.97209190377455\n",
      "\n",
      "\n",
      "Rosenbrock 1000d\n",
      "Undelayed: 1384.591889003174\n",
      "Uniform full iters: 5995.4191076198595\n",
      "Uniform delay: 1773.6992492149525\n",
      "Stochastic full iters: 2387.54966699199\n",
      "Stochastic delay: 1712.710966290704\n",
      "Decaying delay: 1802.047914193958\n",
      "Decaying Stochastic: 1757.7673948693941\n",
      "Partial delay: 2321.5814744207596\n",
      "Partial Stochastic: 2005.37777782675\n",
      "\n",
      "\n"
     ]
    }
   ],
   "source": [
    "delay_name = [\"Undelayed:\", \"Uniform full iters:\", \"Uniform delay:\", \"Stochastic full iters:\", \n",
    "             \"Stochastic delay:\", \"Decaying delay:\", \"Decaying Stochastic:\", \"Partial delay:\",\n",
    "             \"Partial Stochastic:\"]\n",
    "means = {2:means2d, 10:means10d, 100:means100d, 1000:means1000d}\n",
    "\n",
    "for n in [2, 10, 100, 1000]:\n",
    "    print(f\"Rosenbrock {n}d\")\n",
    "    for i in range(9):\n",
    "        print(delay_name[i], means[n][i])\n",
    "    print('\\n')"
   ]
  },
  {
   "cell_type": "code",
   "execution_count": 20,
   "id": "9fff0acd",
   "metadata": {},
   "outputs": [],
   "source": [
    "# Initialize for max_L = 5\n",
    "max_L = 5\n",
    "rosen2d = Analyzer(2, loss_name, max_L=max_L, verbose=False)\n",
    "rosen10d = Analyzer(10, loss_name, max_L=max_L, verbose=False)\n",
    "rosen100d = Analyzer(100, loss_name, max_L=max_L, verbose=False)\n",
    "rosen1000d = Analyzer(1000, loss_name, max_L=max_L, verbose=False)"
   ]
  },
  {
   "cell_type": "code",
   "execution_count": 21,
   "id": "3b5ecc8a",
   "metadata": {},
   "outputs": [],
   "source": [
    "means2d = calc_means(rosen2d, 1000, 0.5, num_delays=1000)\n",
    "means10d = calc_means(rosen10d, 1000, 0.5, num_delays=1000)\n",
    "means100d = calc_means(rosen100d, 1000, 0.5, num_delays=1000)\n",
    "means1000d = calc_means(rosen1000d, 1000, 0.5, num_delays=1000)"
   ]
  },
  {
   "cell_type": "code",
   "execution_count": 22,
   "id": "c3381593",
   "metadata": {},
   "outputs": [
    {
     "data": {
      "image/png": "[encoded data removed]",
      "text/plain": [
       "<Figure size 1440x288 with 4 Axes>"
      ]
     },
     "metadata": {
      "needs_background": "light"
     },
     "output_type": "display_data"
    }
   ],
   "source": [
    "# Initialize figure\n",
    "fig = plt.figure(figsize=(20, 4))\n",
    "ax = fig.subplots(1, 4)\n",
    "\n",
    "ax = plt.subplot(141)\n",
    "plot_means(means2d)\n",
    "plt.ylabel(\"Average Final Loss\")\n",
    "ax.set_yscale('log')\n",
    "plt.title(\"Rosenbrock 2d\", fontsize=14)\n",
    "\n",
    "ax = plt.subplot(142)\n",
    "plot_means(means10d)\n",
    "plt.title(\"Rosenbrock 10d\", fontsize=14)\n",
    "ax.set_yscale('log')\n",
    "\n",
    "ax = plt.subplot(143)\n",
    "plot_means(means100d)\n",
    "plt.title(\"Rosenbrock 100d\", fontsize=14)\n",
    "ax.set_yscale('log')\n",
    "\n",
    "ax = plt.subplot(144)\n",
    "plot_means(means1000d)\n",
    "plt.title(\"Rosenbrock 1000d\", fontsize=14)\n",
    "ax.set_yscale('log')\n",
    "\n",
    "fig.suptitle(\"Average Final Loss for Delayed and Undelayed Optimization\", y=1.1, size=20)\n",
    "plt.subplots_adjust(wspace=0.32)\n",
    "plt.savefig(\"rosen_types3.png\", bbox_inches=\"tight\")\n",
    "plt.show()"
   ]
  },
  {
   "cell_type": "code",
   "execution_count": 23,
   "id": "f8edff3b",
   "metadata": {},
   "outputs": [],
   "source": [
    "means = np.array([means2d, means10d, means100d, means1000d])\n",
    "np.save(\"rosen_means5.npy\", means)"
   ]
  },
  {
   "cell_type": "code",
   "execution_count": 24,
   "id": "079af729",
   "metadata": {},
   "outputs": [
    {
     "name": "stdout",
     "output_type": "stream",
     "text": [
      "Rosenbrock 2d\n",
      "Undelayed: 1.0928428051734933\n",
      "Uniform full iters: 11.676630888647864\n",
      "Uniform delay: 3.488824815065173\n",
      "Stochastic full iters: 5.283174880662597\n",
      "Stochastic delay: 2.9025444869299917\n",
      "Decaying delay: 3.575924007568169\n",
      "Decaying Stochastic: 2.923923064245957\n",
      "Partial delay: 5.602111407398381\n",
      "Partial Stochastic: 3.9944564720314704\n",
      "\n",
      "\n",
      "Rosenbrock 10d\n",
      "Undelayed: 26.584750926422153\n",
      "Uniform full iters: 15890.98363301282\n",
      "Uniform delay: 23.92050554204639\n",
      "Stochastic full iters: 708.65626930057\n",
      "Stochastic delay: 20.968583869097458\n",
      "Decaying delay: 26.69038006226102\n",
      "Decaying Stochastic: 22.497508675829437\n",
      "Partial delay: 720.7824096183715\n",
      "Partial Stochastic: 1130.7716679127584\n",
      "\n",
      "\n",
      "Rosenbrock 100d\n",
      "Undelayed: 128.52508474913037\n",
      "Uniform full iters: 232552.95155816767\n",
      "Uniform delay: 163.94320243309951\n",
      "Stochastic full iters: 31012.04210093353\n",
      "Stochastic delay: 163.0260517405756\n",
      "Decaying delay: 153.74300468437255\n",
      "Decaying Stochastic: 149.93063504026168\n",
      "Partial delay: 2695.8985862663462\n",
      "Partial Stochastic: 2429.4342196750886\n",
      "\n",
      "\n",
      "Rosenbrock 1000d\n",
      "Undelayed: 1191.925334195321\n",
      "Uniform full iters: 949816.0186903789\n",
      "Uniform delay: 1288.8854148049893\n",
      "Stochastic full iters: 139214.69126943208\n",
      "Stochastic delay: 1240.7309010437327\n",
      "Decaying delay: 1510.7245488459776\n",
      "Decaying Stochastic: 1239.5617603304397\n",
      "Partial delay: 12103.496680951443\n",
      "Partial Stochastic: 26165.052289264513\n",
      "\n",
      "\n"
     ]
    }
   ],
   "source": [
    "delay_name = [\"Undelayed:\", \"Uniform full iters:\", \"Uniform delay:\", \"Stochastic full iters:\", \n",
    "             \"Stochastic delay:\", \"Decaying delay:\", \"Decaying Stochastic:\", \"Partial delay:\",\n",
    "             \"Partial Stochastic:\"]\n",
    "means = {2:means2d, 10:means10d, 100:means100d, 1000:means1000d}\n",
    "\n",
    "for n in [2, 10, 100, 1000]:\n",
    "    print(f\"Rosenbrock {n}d\")\n",
    "    for i in range(9):\n",
    "        print(delay_name[i], means[n][i])\n",
    "    print('\\n')"
   ]
  },
  {
   "cell_type": "code",
   "execution_count": null,
   "id": "34b1ec8c",
   "metadata": {},
   "outputs": [],
   "source": []
  }
 ],
 "metadata": {
  "kernelspec": {
   "display_name": "Python 3 (ipykernel)",
   "language": "python",
   "name": "python3"
  },
  "language_info": {
   "codemirror_mode": {
    "name": "ipython",
    "version": 3
   },
   "file_extension": ".py",
   "mimetype": "text/x-python",
   "name": "python",
   "nbconvert_exporter": "python",
   "pygments_lexer": "ipython3",
   "version": "3.8.12"
  }
 },
 "nbformat": 4,
 "nbformat_minor": 5
}
