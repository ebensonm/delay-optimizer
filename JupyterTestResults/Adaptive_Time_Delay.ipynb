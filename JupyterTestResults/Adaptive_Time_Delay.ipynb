{
 "cells": [
  {
   "cell_type": "code",
   "execution_count": 2,
   "metadata": {},
   "outputs": [],
   "source": [
    "import numpy as np\n",
    "import matplotlib.pyplot as plt\n",
    "from mpl_toolkits.mplot3d import Axes3D\n",
    "import pandas as pd\n",
    "from Optimizer_Scripts.optimizers import Adam, Momentum, NesterovMomentum, GradientDescent\n",
    "import matplotlib.animation as ani\n",
    "from Optimizer_Scripts.Delayer import Delayer\n",
    "from Optimizer_Scripts.AdaptiveDelayer import AdaptiveDelayer\n",
    "import time\n",
    "import multiprocessing as mp\n",
    "import dill\n",
    "import itertools\n",
    "from Optimizer_Scripts.functions import ackley_gen, rastrigin_gen, ackley_deriv_gen, rast_deriv_gen\n",
    "from Optimizer_Scripts.functions import adaptive_function, himmelblau, himmelblau_grad"
   ]
  },
  {
   "cell_type": "code",
   "execution_count": 3,
   "metadata": {},
   "outputs": [],
   "source": [
    "%matplotlib notebook"
   ]
  },
  {
   "cell_type": "markdown",
   "metadata": {},
   "source": [
    "#### Helper Functions"
   ]
  },
  {
   "cell_type": "code",
   "execution_count": 4,
   "metadata": {},
   "outputs": [],
   "source": [
    "def animate_2d_conv(loss, time_series, x_range, y_range, ints, title):\n",
    "    m,n = np.shape(time_series)\n",
    "    #create the grid and get the z_vals\n",
    "    x = np.linspace(x_range[0], x_range[1], ints, endpoint=True)\n",
    "    y = np.linspace(y_range[0], y_range[1], ints, endpoint=True)\n",
    "    X,Y = np.meshgrid(x,y)\n",
    "    plt.clf()\n",
    "    plt.ioff()\n",
    "    Z = loss(np.array([X, Y])).reshape(ints,ints)\n",
    "    fig = plt.figure(1)\n",
    "    #plot the base function\n",
    "    ax = fig.add_subplot(111)\n",
    "    ax.contour(X,Y,Z, levels=50, cmap='CMRmap')\n",
    "    plt.title(title)\n",
    "    #initialize the particle plot\n",
    "    traj, = plt.plot([],[],color='g')\n",
    "    particle, = plt.plot([],[], marker='o', markersize=10, color='g', label=\"Optimizer\")\n",
    "    #update function for the animation\n",
    "    def update(i):\n",
    "        traj.set_data(time_series[:i,0],time_series[:i,1])\n",
    "        particle.set_data(time_series[i,0],time_series[i,1])\n",
    "        return [traj,particle]\n",
    "    #now get the animation\n",
    "    ax.legend()\n",
    "    animation = ani.FuncAnimation(fig, update, frames=range(m), interval=100)\n",
    "    animation.save('{}.mp4'.format(title))\n",
    "    fig.clf()"
   ]
  },
  {
   "cell_type": "markdown",
   "metadata": {},
   "source": [
    "### Himmeblau Normal Test"
   ]
  },
  {
   "cell_type": "code",
   "execution_count": 5,
   "metadata": {},
   "outputs": [],
   "source": [
    "#compute the time series\n",
    "params = dict()\n",
    "max_iter = 500\n",
    "tol = 1e-5\n",
    "loss_function = himmelblau\n",
    "grad = himmelblau_grad\n",
    "n = 2\n",
    "x_init = np.array([6.2,5.1])\n",
    "params['learning_rate'] = [0.01 for i in range(max_iter+1)]\n",
    "optimizer = GradientDescent(params)\n",
    "optimization = Delayer(n, optimizer, loss_function, grad, x_init)\n",
    "optimization.compute_time_series(tol=tol, maxiter=max_iter, use_delays=False)\n",
    "#get the time series\n",
    "time_series = optimization.time_series\n",
    "final_state = optimization.final_state\n",
    "animate_2d_conv(loss_function, time_series, [-6,6], [-6,6], 200, \"Himmelblau Test\")"
   ]
  },
  {
   "cell_type": "markdown",
   "metadata": {},
   "source": [
    "<video width=520 height=520 src=\"Himmelblau Test.mp4\" controls>"
   ]
  },
  {
   "cell_type": "markdown",
   "metadata": {},
   "source": [
    "### Rastrigin Normal Test"
   ]
  },
  {
   "cell_type": "code",
   "execution_count": 8,
   "metadata": {},
   "outputs": [],
   "source": [
    "#compute the time series\n",
    "params = dict()\n",
    "max_iter = 100\n",
    "tol = 1e-5\n",
    "n = 2\n",
    "loss_function = rastrigin_gen(n)\n",
    "grad = rast_deriv_gen(n)\n",
    "x_init = np.array([-4.3,4.3])\n",
    "params['learning_rate'] = [0.005 for i in range(max_iter+1)]\n",
    "optimizer = GradientDescent(params)\n",
    "optimization = Delayer(n, optimizer, loss_function, grad, x_init)\n",
    "optimization.compute_time_series(tol=tol, maxiter=max_iter, use_delays=False)\n",
    "#get the time series\n",
    "time_series = optimization.time_series\n",
    "final_state = optimization.final_state\n",
    "animate_2d_conv(loss_function, time_series, [-5.12,5.12], [-5.12,5.12], 200, \"RastriginTest\")"
   ]
  },
  {
   "cell_type": "markdown",
   "metadata": {},
   "source": [
    "<video width=520 height=520 src=\"RastriginTest.mp4\" controls>"
   ]
  },
  {
   "cell_type": "markdown",
   "metadata": {},
   "source": [
    "### Rastringin Adam"
   ]
  },
  {
   "cell_type": "code",
   "execution_count": 9,
   "metadata": {},
   "outputs": [],
   "source": [
    "#compute the time series\n",
    "params = dict()\n",
    "max_iter = 100\n",
    "tol = 1e-5\n",
    "n = 2\n",
    "loss_function = rastrigin_gen(n)\n",
    "grad = rast_deriv_gen(n)\n",
    "x_init = np.array([-4.3,4.3])\n",
    "params['learning_rate'] = [0.9 for i in range(max_iter+1)]\n",
    "params['beta_1'] = 0.9\n",
    "params['beta_2'] = 0.999\n",
    "optimizer = Adam(params)\n",
    "optimization = Delayer(n, optimizer, loss_function, grad, x_init)\n",
    "optimization.compute_time_series(tol=tol, maxiter=max_iter, use_delays=False)\n",
    "#get the time series\n",
    "time_series = optimization.time_series\n",
    "final_state = optimization.final_state\n",
    "animate_2d_conv(loss_function, time_series, [-5.12,5.12], [-5.12,5.12], 200, \"RastriginAdamTest\")"
   ]
  },
  {
   "cell_type": "markdown",
   "metadata": {},
   "source": [
    "<video width=520 height=520 src=\"RastriginAdamTest.mp4\" controls>"
   ]
  },
  {
   "cell_type": "markdown",
   "metadata": {},
   "source": [
    "### Rastrigin Original Time Delay Test - decreasing max"
   ]
  },
  {
   "cell_type": "code",
   "execution_count": 25,
   "metadata": {},
   "outputs": [],
   "source": [
    "#compute the time series\n",
    "params = dict()\n",
    "max_iter = 500\n",
    "tol = 1e-5\n",
    "n = 2\n",
    "loss_function = rastrigin_gen(n)\n",
    "grad = rast_deriv_gen(n)\n",
    "x_init = np.array([-4.3,4.3])\n",
    "params['learning_rate'] = [0.9 for i in range(max_iter+1)]\n",
    "params['beta_1'] = 0.9\n",
    "params['beta_2'] = 0.999\n",
    "optimizer = Adam(params)\n",
    "optimization = Delayer(n, optimizer, loss_function, grad, x_init, num_delays=100)\n",
    "optimization.compute_time_series(tol=tol, maxiter=max_iter, use_delays=True, symmetric_delays=True, shrink=False)\n",
    "#get the time series\n",
    "time_series = optimization.time_series\n",
    "final_state = optimization.final_state\n",
    "animate_2d_conv(loss_function, time_series, [-5.12,5.12], [-5.12,5.12], 200, \"RastriginAdamDelayedTest\")"
   ]
  },
  {
   "cell_type": "markdown",
   "metadata": {},
   "source": [
    "<video width=520 height=520 src=\"RastriginAdamDelayedTest.mp4\" controls>"
   ]
  },
  {
   "cell_type": "markdown",
   "metadata": {},
   "source": [
    "### Rastrigin Adam Adaptive Delay Test"
   ]
  },
  {
   "cell_type": "code",
   "execution_count": 24,
   "metadata": {},
   "outputs": [],
   "source": [
    "#compute the time series\n",
    "params = dict()\n",
    "max_iter = 500\n",
    "tol = 1e-5\n",
    "n = 2\n",
    "max_L = 6\n",
    "loss_function = rastrigin_gen(n)\n",
    "adapt_fun = adaptive_function \n",
    "grad = rast_deriv_gen(n)\n",
    "x_init = np.array([-4.3,4.3])\n",
    "params['learning_rate'] = [0.8 for i in range(max_iter+1)]\n",
    "params['beta_1'] = 0.9\n",
    "params['beta_2'] = 0.999\n",
    "optimizer = Adam(params)\n",
    "optimization = AdaptiveDelayer(n, optimizer, loss_function, adapt_fun, grad, x_init, max_L=max_L)\n",
    "optimization.compute_time_series(tol=tol, maxiter=max_iter, use_delays=True, symmetric_delays=True)\n",
    "#get the time series\n",
    "time_series = optimization.time_series\n",
    "final_state = optimization.final_state\n",
    "animate_2d_conv(loss_function, time_series, [-5.12,5.12], [-5.12,5.12], 200, \"RastriginAdamAdaptTest\")"
   ]
  },
  {
   "cell_type": "markdown",
   "metadata": {},
   "source": [
    "<video width=520 height=520 src=\"RastriginAdamAdaptTest.mp4\" controls>"
   ]
  },
  {
   "cell_type": "code",
   "execution_count": null,
   "metadata": {},
   "outputs": [],
   "source": []
  }
 ],
 "metadata": {
  "kernelspec": {
   "display_name": "volume3",
   "language": "python",
   "name": "volume3"
  },
  "language_info": {
   "codemirror_mode": {
    "name": "ipython",
    "version": 3
   },
   "file_extension": ".py",
   "mimetype": "text/x-python",
   "name": "python",
   "nbconvert_exporter": "python",
   "pygments_lexer": "ipython3",
   "version": "3.8.2"
  }
 },
 "nbformat": 4,
 "nbformat_minor": 4
}
